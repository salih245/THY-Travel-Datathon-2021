{
 "cells": [
  {
   "cell_type": "markdown",
   "id": "blind-color",
   "metadata": {},
   "source": [
    "pip install phik\n",
    "pip install pandas-profiling\n",
    "pip install missingno"
   ]
  },
  {
   "cell_type": "code",
   "execution_count": 1,
   "id": "hourly-question",
   "metadata": {},
   "outputs": [],
   "source": [
    "from sklearn.compose import ColumnTransformer\n",
    "from sklearn.pipeline import Pipeline\n",
    "from sklearn.impute import SimpleImputer\n",
    "from sklearn.preprocessing import StandardScaler, OneHotEncoder\n",
    "from sklearn.linear_model import LogisticRegression\n",
    "from sklearn.ensemble import RandomForestClassifier\n",
    "from sklearn.model_selection import train_test_split, GridSearchCV\n",
    "from pandas_profiling import ProfileReport\n",
    "import pandas as pd\n",
    "\n",
    "from sklearn.metrics import classification_report\n",
    "from sklearn.utils.class_weight import compute_class_weight\n",
    "import numpy as np\n",
    "from sklearn.model_selection import StratifiedKFold\n",
    "from sklearn.feature_selection import SelectKBest\n",
    "from sklearn.feature_selection import mutual_info_classif\n",
    "from sklearn.model_selection import cross_validate\n",
    "from sklearn.feature_selection import f_classif\n",
    "import pandas as pd\n",
    "from datetime import datetime, timedelta\n",
    "import numpy as np\n",
    "import seaborn as sns\n",
    "import matplotlib.pyplot as plt\n",
    "from pandas_profiling import ProfileReport\n",
    "import missingno as msgn\n",
    "from phik.report import plot_correlation_matrix\n",
    "import seaborn as sns\n",
    "import numpy as np\n",
    "import matplotlib.pyplot as plt\n",
    "import statsmodels.api as sm\n",
    "import pylab as py\n",
    "import plotly.express as px\n",
    "from collections import Counter\n",
    "from sklearn.model_selection import train_test_split\n",
    "\n",
    "from sklearn.model_selection import cross_val_score\n",
    "from sklearn.feature_selection import f_classif\n",
    "from sklearn.model_selection import StratifiedKFold\n",
    "\n",
    "from sklearn.preprocessing import PowerTransformer\n",
    "\n",
    "from sklearn.compose import ColumnTransformer\n",
    "from sklearn.pipeline import Pipeline\n",
    "from sklearn.impute import SimpleImputer\n",
    "from sklearn.preprocessing import StandardScaler, OneHotEncoder\n",
    "from sklearn.linear_model import LogisticRegression\n",
    "from sklearn.model_selection import GridSearchCV\n",
    "\n",
    "from sklearn.metrics import classification_report, accuracy_score, confusion_matrix, ConfusionMatrixDisplay\n",
    "from sklearn.utils.class_weight import compute_class_weight\n",
    "import numpy as np\n",
    "from sklearn.ensemble import RandomForestClassifier\n",
    "from sklearn.model_selection import train_test_split\n",
    "import shap\n",
    "\n",
    "from sklearn.feature_selection import SelectKBest\n",
    "from sklearn.feature_selection import mutual_info_classif\n",
    "from sklearn.model_selection import cross_validate\n",
    "\n",
    "from sklearn.metrics import roc_curve\n",
    "from sklearn.metrics import precision_recall_curve\n",
    "from matplotlib import pyplot\n",
    "from numpy import argmax\n",
    "from sklearn.metrics import f1_score\n",
    "from sklearn.ensemble import RandomForestClassifier\n",
    "from sklearn.ensemble import ExtraTreesClassifier\n",
    "from lightgbm import LGBMClassifier\n",
    "from xgboost import XGBClassifier\n",
    "from sklearn.metrics import f1_score"
   ]
  },
  {
   "cell_type": "code",
   "execution_count": 2,
   "id": "emotional-momentum",
   "metadata": {},
   "outputs": [],
   "source": [
    "label = ['FLIGHT_REASON']\n",
    "\n",
    "categorical_str1 = [\n",
    "'ARR',\n",
    "'DEP',\n",
    "'ID_PNR_ITI_CABCLASS_1',\n",
    "'ID_PNR_ITI_SELCLASS_1',\n",
    "'JRNY_TYP',\n",
    "'NTNLT1' ] \n",
    "\n",
    "categorical_str2 = [\n",
    "'ID_PNR_ITI_CABCLASS_2',\n",
    "'ID_PNR_ITI_SELCLASS_2']\n",
    "\n",
    "categorical_str = categorical_str1 + categorical_str2\n",
    "\n",
    "categorical_int1 = [\n",
    "'arrival_interval_1',\n",
    "'flight_month_1',\n",
    "'flight_weekday_1',\n",
    "'pnr_create_month',\n",
    "'pnr_create_weekday',\n",
    "'pnr_workhour_interval']\n",
    "\n",
    "categorical_int2 = [\n",
    "'arrival_interval_2',\n",
    "'flight_month_2',\n",
    "'flight_weekday_2']\n",
    "\n",
    "categorical_int = categorical_int1 + categorical_int2\n",
    "\n",
    "numerical1 = [\n",
    "'CUST_AGE',\n",
    "'diff_pnr_firstflight', \n",
    "'flight_duration_1']\n",
    "\n",
    "numerical2 = [\n",
    "'diff_second_firstflight',\n",
    "'flight_duration_2']\n",
    "\n",
    "numerical = numerical1+numerical2\n",
    "\n",
    "passthrough = [\n",
    "'dep_nat_flag',\n",
    "'arr_nat_flag',\n",
    "'CHILD_FLG',\n",
    "'FAMILY_FLG',\n",
    "'INFANT_FLG',\n",
    "'PET_FLG',\n",
    "'POS_POC_SAME_FLG',\n",
    "'SAME_SRNAME_FLG',\n",
    "'SEAT_SELECT_FLG',\n",
    "'SPORT_FLG',\n",
    "'XBAG_FIRST_FLT_FLG',\n",
    "'XBAG_LAST_FLT_FLG',\n",
    "'XBAG_TWO_WAY_FLT_FLG',\n",
    "'PNR_PSSG_COUNT']\n",
    "\n",
    "drops = [\n",
    "'ID_PNR_CREATION_DTIME_GMT',\n",
    "'ID_PNR_CREATION_YMD',\n",
    "'ID_PNR_ITI_ARR_APT_1',\n",
    "'ID_PNR_ITI_ARR_APT_2',\n",
    "'ID_PNR_ITI_DEP_APT_1',\n",
    "'ID_PNR_ITI_DEP_APT_2',\n",
    "'ID_TKT_NO',\n",
    "'OND',\n",
    "'PNR_NO',\n",
    "'date']"
   ]
  },
  {
   "cell_type": "code",
   "execution_count": 3,
   "id": "young-lithuania",
   "metadata": {},
   "outputs": [
    {
     "data": {
      "text/plain": [
       "(941160, 37)"
      ]
     },
     "execution_count": 3,
     "metadata": {},
     "output_type": "execute_result"
    }
   ],
   "source": [
    "df = pd.read_csv(r'train.csv', index_col='Unnamed: 0')\n",
    "df.shape"
   ]
  },
  {
   "cell_type": "code",
   "execution_count": 4,
   "id": "checked-heather",
   "metadata": {},
   "outputs": [
    {
     "data": {
      "text/plain": [
       "ARR                             0\n",
       "DEP                             0\n",
       "ID_PNR_ITI_CABCLASS_1           0\n",
       "ID_PNR_ITI_CABCLASS_2      126438\n",
       "ID_PNR_ITI_SELCLASS_1           0\n",
       "ID_PNR_ITI_SELCLASS_2      126438\n",
       "JRNY_TYP                        0\n",
       "NTNLT1                     269937\n",
       "arrival_interval_1              0\n",
       "arrival_interval_2              0\n",
       "flight_month_1                  0\n",
       "flight_month_2             126438\n",
       "flight_weekday_1                0\n",
       "flight_weekday_2           126438\n",
       "pnr_create_month                0\n",
       "pnr_create_weekday              0\n",
       "pnr_workhour_interval           0\n",
       "CUST_AGE                   260750\n",
       "diff_pnr_firstflight            0\n",
       "diff_second_firstflight    126438\n",
       "flight_duration_1               0\n",
       "flight_duration_2          126438\n",
       "CHILD_FLG                       0\n",
       "FAMILY_FLG                      0\n",
       "INFANT_FLG                      0\n",
       "PET_FLG                         0\n",
       "POS_POC_SAME_FLG                0\n",
       "SAME_SRNAME_FLG                 0\n",
       "SEAT_SELECT_FLG                 0\n",
       "SPORT_FLG                       0\n",
       "XBAG_FIRST_FLT_FLG              0\n",
       "XBAG_LAST_FLT_FLG               0\n",
       "XBAG_TWO_WAY_FLT_FLG            0\n",
       "PNR_PSSG_COUNT                  0\n",
       "FLIGHT_REASON                   0\n",
       "dep_nat_flag                    0\n",
       "arr_nat_flag                    0\n",
       "dtype: int64"
      ]
     },
     "execution_count": 4,
     "metadata": {},
     "output_type": "execute_result"
    }
   ],
   "source": [
    "df.isna().sum()"
   ]
  },
  {
   "cell_type": "code",
   "execution_count": 5,
   "id": "known-handling",
   "metadata": {
    "scrolled": true
   },
   "outputs": [
    {
     "name": "stdout",
     "output_type": "stream",
     "text": [
      "count    680410.000000\n",
      "mean         43.797472\n",
      "std          13.988784\n",
      "min           0.000000\n",
      "25%          35.000000\n",
      "50%          44.000000\n",
      "75%          52.000000\n",
      "max         120.000000\n",
      "Name: CUST_AGE, dtype: float64\n",
      "----------------\n",
      "count    941160.000000\n",
      "mean         53.219619\n",
      "std          78.709062\n",
      "min           0.000000\n",
      "25%           7.000000\n",
      "50%          21.000000\n",
      "75%          60.000000\n",
      "max         365.000000\n",
      "Name: diff_pnr_firstflight, dtype: float64\n",
      "----------------\n",
      "count    941160.000000\n",
      "mean        204.205640\n",
      "std          91.503418\n",
      "min           0.000000\n",
      "25%         125.000000\n",
      "50%         225.000000\n",
      "75%         270.000000\n",
      "max         460.000000\n",
      "Name: flight_duration_1, dtype: float64\n",
      "----------------\n",
      "count    814722.000000\n",
      "mean          9.560866\n",
      "std          18.098346\n",
      "min           0.000000\n",
      "25%           3.000000\n",
      "50%           4.000000\n",
      "75%           9.000000\n",
      "max         364.000000\n",
      "Name: diff_second_firstflight, dtype: float64\n",
      "----------------\n",
      "count    814722.000000\n",
      "mean        180.525431\n",
      "std          89.500879\n",
      "min           0.000000\n",
      "25%         110.000000\n",
      "50%         150.000000\n",
      "75%         250.000000\n",
      "max         460.000000\n",
      "Name: flight_duration_2, dtype: float64\n",
      "----------------\n"
     ]
    }
   ],
   "source": [
    "for col in numerical1+numerical2:\n",
    "    print(df[col].describe())\n",
    "    print('----------------')"
   ]
  },
  {
   "cell_type": "code",
   "execution_count": 6,
   "id": "emotional-vehicle",
   "metadata": {},
   "outputs": [],
   "source": [
    "def evaluate_model_with_CV(X, y, model):\n",
    "    cv = StratifiedKFold(n_splits=5, shuffle=True, random_state=1)\n",
    "    scores = cross_validate(pipeline, X, y, scoring=['accuracy', 'f1_weighted'], n_jobs=-1, \n",
    "                        return_estimator=True, return_train_score=True, cv=cv)\n",
    "    # ['fit_time', 'score_time', 'estimator', 'test_accuracy', 'train_accuracy', 'test_f1_weighted', 'train_f1_weighted']\n",
    "    return scores"
   ]
  },
  {
   "cell_type": "code",
   "execution_count": 7,
   "id": "congressional-cooperative",
   "metadata": {},
   "outputs": [],
   "source": [
    "def print_metrics(y_pred, y_test, model):\n",
    "    print(\"Model results: \", type(model).__name__)\n",
    "    print(classification_report(y_test, y_pred))\n",
    "    print(\"Confusion matrix:\")\n",
    "    cm = confusion_matrix(y_test,y_pred, labels= model.classes_)\n",
    "    disp = ConfusionMatrixDisplay(confusion_matrix=cm,display_labels= model.classes_)\n",
    "    disp.plot()"
   ]
  },
  {
   "cell_type": "code",
   "execution_count": 8,
   "id": "classified-carter",
   "metadata": {},
   "outputs": [],
   "source": [
    "def create_pipeline_rf():\n",
    "    \n",
    "    numeric_transformer1 = Pipeline(steps=[\n",
    "        ('imputer', SimpleImputer(strategy='median')),\n",
    "        ('scaler', StandardScaler())])\n",
    "    numeric_transformer2 = Pipeline(steps=[\n",
    "        ('imputer', SimpleImputer(strategy='constant', fill_value=0.0)),\n",
    "        ('scaler', StandardScaler())])\n",
    "\n",
    "    categorical_str_transformer1 = Pipeline(steps=[\n",
    "        ('imputer', SimpleImputer(strategy='most_frequent')),\n",
    "        ('one-hot', OneHotEncoder(handle_unknown='ignore'))])\n",
    "    categorical_str_transformer2 = Pipeline(steps=[\n",
    "        ('imputer', SimpleImputer(strategy='constant', fill_value='-')),\n",
    "        ('one-hot', OneHotEncoder(handle_unknown='ignore'))])\n",
    "\n",
    "    categorical_int_transformer1 = Pipeline(steps=[\n",
    "        ('imputer', SimpleImputer(strategy='constant', fill_value=-99)),\n",
    "        ('one-hot', OneHotEncoder(handle_unknown='ignore'))])\n",
    "    categorical_int_transformer2 = Pipeline(steps=[\n",
    "        ('imputer', SimpleImputer(strategy='constant', fill_value=-100)),\n",
    "        ('one-hot', OneHotEncoder(handle_unknown='ignore'))])\n",
    "\n",
    "    preprocessor = ColumnTransformer(\n",
    "                                    transformers=[\n",
    "                                                  ('num1', numeric_transformer1, numerical1),\n",
    "                                                  ('num2', numeric_transformer2, numerical2),\n",
    "                                                  ('cat_str1', categorical_str_transformer1, categorical_str1),\n",
    "                                                  ('cat_str2', categorical_str_transformer2, categorical_str2),\n",
    "                                                  ('cat_int1', categorical_int_transformer1, categorical_int1),\n",
    "                                                  ('cat_int2', categorical_int_transformer2, categorical_int2)], \n",
    "                                    remainder='passthrough')\n",
    "\n",
    "    pipeline = Pipeline(steps=[('preprocessor', preprocessor),\n",
    "                          ('f_selector', SelectKBest(f_classif, k='all')),\n",
    "                          ('classifier', RandomForestClassifier(class_weight='balanced', n_jobs=-1, random_state=0))])\n",
    "    \n",
    "    return pipeline"
   ]
  },
  {
   "cell_type": "code",
   "execution_count": 9,
   "id": "sunrise-reaction",
   "metadata": {},
   "outputs": [],
   "source": [
    "def random_undersampling(X, y):\n",
    "    \n",
    "    num_sample = y[y=='STUDENT'].shape[0]\n",
    "    index_1 = y[y=='BUSINESS'].sample(num_sample, random_state=3).index\n",
    "    index_2 = y[y=='LEISURE'].sample(num_sample, random_state=3).index\n",
    "    index_3 = y[y=='SECOND HOME'].sample(num_sample, random_state=3).index\n",
    "    index_4 = y[y=='STUDENT'].index\n",
    "    \n",
    "    all_indexes = list(index_1) + list(index_2) + list(index_3) + list(index_4)\n",
    "\n",
    "    X_ = X.loc[all_indexes]\n",
    "    y_ = y[all_indexes]\n",
    "    \n",
    "    return X_, y_"
   ]
  },
  {
   "cell_type": "markdown",
   "id": "sporting-operation",
   "metadata": {},
   "source": [
    "## base model"
   ]
  },
  {
   "cell_type": "code",
   "execution_count": 10,
   "id": "hourly-history",
   "metadata": {
    "scrolled": true
   },
   "outputs": [
    {
     "name": "stdout",
     "output_type": "stream",
     "text": [
      "Model results:  Pipeline\n",
      "              precision    recall  f1-score   support\n",
      "\n",
      "    BUSINESS       0.97      0.98      0.98     85735\n",
      "     LEISURE       0.96      0.93      0.94     57021\n",
      " SECOND HOME       0.97      0.98      0.97     45265\n",
      "     STUDENT       0.98      0.40      0.57       211\n",
      "\n",
      "    accuracy                           0.97    188232\n",
      "   macro avg       0.97      0.82      0.86    188232\n",
      "weighted avg       0.97      0.97      0.97    188232\n",
      "\n",
      "Confusion matrix:\n"
     ]
    },
    {
     "data": {
      "image/png": "[encoded data removed]",
      "text/plain": [
       "<Figure size 432x288 with 2 Axes>"
      ]
     },
     "metadata": {
      "needs_background": "light"
     },
     "output_type": "display_data"
    }
   ],
   "source": [
    "# base model for data\n",
    "\n",
    "y = df['FLIGHT_REASON']\n",
    "X = df[categorical_str+categorical_int+numerical+passthrough]\n",
    "\n",
    "X_train, X_test, y_train, y_test = train_test_split(X, y, stratify=y, test_size=0.20, random_state=1)\n",
    "\n",
    "pipe1 = create_pipeline_rf()\n",
    "\n",
    "pipe1.fit(X_train, y_train)\n",
    "preds = pipe1.predict(X_test)\n",
    "print_metrics(preds, y_test, pipe1)"
   ]
  },
  {
   "cell_type": "markdown",
   "id": "unexpected-union",
   "metadata": {},
   "source": [
    "## balancing data with random undersampling"
   ]
  },
  {
   "cell_type": "code",
   "execution_count": 11,
   "id": "specified-thread",
   "metadata": {
    "scrolled": false
   },
   "outputs": [
    {
     "name": "stderr",
     "output_type": "stream",
     "text": [
      "Features [0 0] are constant.\n",
      "invalid value encountered in true_divide\n"
     ]
    },
    {
     "name": "stdout",
     "output_type": "stream",
     "text": [
      "Model results:  Pipeline\n",
      "              precision    recall  f1-score   support\n",
      "\n",
      "    BUSINESS       0.92      0.94      0.93       212\n",
      "     LEISURE       0.94      0.86      0.90       212\n",
      " SECOND HOME       0.93      0.98      0.96       211\n",
      "     STUDENT       0.96      0.96      0.96       211\n",
      "\n",
      "    accuracy                           0.94       846\n",
      "   macro avg       0.94      0.94      0.94       846\n",
      "weighted avg       0.94      0.94      0.94       846\n",
      "\n",
      "Confusion matrix:\n"
     ]
    },
    {
     "data": {
      "image/png": "[encoded data removed]",
      "text/plain": [
       "<Figure size 432x288 with 2 Axes>"
      ]
     },
     "metadata": {
      "needs_background": "light"
     },
     "output_type": "display_data"
    }
   ],
   "source": [
    "# data blancing with random undersampling\n",
    "y = df['FLIGHT_REASON']\n",
    "X = df[categorical_str+categorical_int+numerical+passthrough]\n",
    "\n",
    "X, y = random_undersampling(X, y)\n",
    "\n",
    "X_train, X_test, y_train, y_test = train_test_split(X, y, stratify=y, test_size=0.20, random_state=1)\n",
    "\n",
    "pipe2 = create_pipeline_rf()\n",
    "\n",
    "pipe2.fit(X_train, y_train)\n",
    "preds = pipe2.predict(X_test)\n",
    "print_metrics(preds, y_test, pipe2)"
   ]
  },
  {
   "cell_type": "markdown",
   "id": "virgin-dubai",
   "metadata": {},
   "source": [
    "## feature importance"
   ]
  },
  {
   "cell_type": "code",
   "execution_count": 12,
   "id": "opened-buffer",
   "metadata": {
    "scrolled": false
   },
   "outputs": [
    {
     "data": {
      "image/png": "[encoded data removed]",
      "text/plain": [
       "<Figure size 720x504 with 1 Axes>"
      ]
     },
     "metadata": {
      "needs_background": "light"
     },
     "output_type": "display_data"
    }
   ],
   "source": [
    "from sklearn.inspection import permutation_importance\n",
    "\n",
    "result = permutation_importance(pipe2, X_test, y_test, n_repeats=10,\n",
    "                                random_state=42, n_jobs=2)\n",
    "sorted_idx = result.importances_mean.argsort()\n",
    "\n",
    "fig, ax = plt.subplots(figsize=(10,7))\n",
    "ax.boxplot(result.importances[sorted_idx].T,\n",
    "           vert=False, labels=X_test.columns[sorted_idx])\n",
    "ax.set_title(\"Permutation Importances (test set)\")\n",
    "fig.tight_layout()\n",
    "plt.show()"
   ]
  },
  {
   "cell_type": "code",
   "execution_count": 13,
   "id": "confident-degree",
   "metadata": {
    "scrolled": false
   },
   "outputs": [
    {
     "data": {
      "text/plain": [
       "ARR                             0\n",
       "DEP                             0\n",
       "ID_PNR_ITI_CABCLASS_1           0\n",
       "ID_PNR_ITI_CABCLASS_2      126438\n",
       "ID_PNR_ITI_SELCLASS_1           0\n",
       "ID_PNR_ITI_SELCLASS_2      126438\n",
       "JRNY_TYP                        0\n",
       "NTNLT1                     269937\n",
       "arrival_interval_1              0\n",
       "arrival_interval_2              0\n",
       "flight_month_1                  0\n",
       "flight_month_2             126438\n",
       "flight_weekday_1                0\n",
       "flight_weekday_2           126438\n",
       "pnr_create_month                0\n",
       "pnr_create_weekday              0\n",
       "pnr_workhour_interval           0\n",
       "CUST_AGE                   260750\n",
       "diff_pnr_firstflight            0\n",
       "diff_second_firstflight    126438\n",
       "flight_duration_1               0\n",
       "flight_duration_2          126438\n",
       "CHILD_FLG                       0\n",
       "FAMILY_FLG                      0\n",
       "INFANT_FLG                      0\n",
       "PET_FLG                         0\n",
       "POS_POC_SAME_FLG                0\n",
       "SAME_SRNAME_FLG                 0\n",
       "SEAT_SELECT_FLG                 0\n",
       "SPORT_FLG                       0\n",
       "XBAG_FIRST_FLT_FLG              0\n",
       "XBAG_LAST_FLT_FLG               0\n",
       "XBAG_TWO_WAY_FLT_FLG            0\n",
       "PNR_PSSG_COUNT                  0\n",
       "FLIGHT_REASON                   0\n",
       "dep_nat_flag                    0\n",
       "arr_nat_flag                    0\n",
       "dtype: int64"
      ]
     },
     "execution_count": 13,
     "metadata": {},
     "output_type": "execute_result"
    }
   ],
   "source": [
    "df.isna().sum()"
   ]
  },
  {
   "cell_type": "markdown",
   "id": "bronze-classics",
   "metadata": {},
   "source": [
    "## all models"
   ]
  },
  {
   "cell_type": "code",
   "execution_count": 14,
   "id": "extreme-pioneer",
   "metadata": {},
   "outputs": [],
   "source": [
    "import xgboost\n",
    "import lightgbm\n",
    "import sklearn\n",
    "import time\n",
    "from tqdm import tqdm\n",
    "from sklearn.base import ClassifierMixin\n",
    "from sklearn.utils.testing import all_estimators\n",
    "from sklearn.metrics import average_precision_score, accuracy_score, balanced_accuracy_score, recall_score, precision_score, f1_score"
   ]
  },
  {
   "cell_type": "code",
   "execution_count": 15,
   "id": "pleased-contractor",
   "metadata": {},
   "outputs": [],
   "source": [
    "def create_pipeline_without_clf(clf_name, clf_object):\n",
    "    \n",
    "    numeric_transformer1 = Pipeline(steps=[\n",
    "        ('imputer', SimpleImputer(strategy='median')),\n",
    "        ('scaler', StandardScaler())])\n",
    "    numeric_transformer2 = Pipeline(steps=[\n",
    "        ('imputer', SimpleImputer(strategy='constant', fill_value=0.0)),\n",
    "        ('scaler', StandardScaler())])\n",
    "\n",
    "    categorical_str_transformer1 = Pipeline(steps=[\n",
    "        ('imputer', SimpleImputer(strategy='most_frequent')),\n",
    "        ('one-hot', OneHotEncoder(handle_unknown='ignore'))])\n",
    "    categorical_str_transformer2 = Pipeline(steps=[\n",
    "        ('imputer', SimpleImputer(strategy='constant', fill_value='-')),\n",
    "        ('one-hot', OneHotEncoder(handle_unknown='ignore'))])\n",
    "\n",
    "    categorical_int_transformer1 = Pipeline(steps=[\n",
    "        ('imputer', SimpleImputer(strategy='constant', fill_value=-99)),\n",
    "        ('one-hot', OneHotEncoder(handle_unknown='ignore'))])\n",
    "    categorical_int_transformer2 = Pipeline(steps=[\n",
    "        ('imputer', SimpleImputer(strategy='constant', fill_value=-100)),\n",
    "        ('one-hot', OneHotEncoder(handle_unknown='ignore'))])\n",
    "\n",
    "    preprocessor = ColumnTransformer(\n",
    "                                    transformers=[\n",
    "                                                  ('num1', numeric_transformer1, numerical1),\n",
    "                                                  ('num2', numeric_transformer2, numerical2),\n",
    "                                                  ('cat_str1', categorical_str_transformer1, categorical_str1),\n",
    "                                                  ('cat_str2', categorical_str_transformer2, categorical_str2),\n",
    "                                                  ('cat_int1', categorical_int_transformer1, categorical_int1),\n",
    "                                                  ('cat_int2', categorical_int_transformer2, categorical_int2)], \n",
    "                                    n_jobs = -1,\n",
    "                                    transformer_weights = None,\n",
    "                                    remainder='passthrough')\n",
    "\n",
    "    pipeline = Pipeline(steps=[('preprocessor', preprocessor),\n",
    "                          ('f_selector', SelectKBest(f_classif, k='all')),\n",
    "                          (clf_name, clf_object)], verbose=False)\n",
    "    \n",
    "    return pipeline"
   ]
  },
  {
   "cell_type": "code",
   "execution_count": 16,
   "id": "tender-bhutan",
   "metadata": {},
   "outputs": [],
   "source": [
    "CLASSIFIERS = [est for est in all_estimators() if issubclass(est[1], ClassifierMixin)]\n",
    "removed_classifiers = [\n",
    "    (\"CheckingClassifier\", sklearn.utils._mocking.CheckingClassifier),\n",
    "    (\"ClassifierChain\", sklearn.multioutput.ClassifierChain),\n",
    "    (\"ComplementNB\", sklearn.naive_bayes.ComplementNB),\n",
    "    (\"GradientBoostingClassifier\", sklearn.ensemble.gradient_boosting.GradientBoostingClassifier,),\n",
    "    (\"GaussianProcessClassifier\", sklearn.gaussian_process.gpc.GaussianProcessClassifier,),\n",
    "    (\"HistGradientBoostingClassifier\", sklearn.ensemble._hist_gradient_boosting.gradient_boosting.HistGradientBoostingClassifier,),\n",
    "    (\"MLPClassifier\", sklearn.neural_network.multilayer_perceptron.MLPClassifier),\n",
    "    (\"LogisticRegressionCV\", sklearn.linear_model.logistic.LogisticRegressionCV),\n",
    "    (\"MultiOutputClassifier\", sklearn.multioutput.MultiOutputClassifier),\n",
    "    (\"MultinomialNB\", sklearn.naive_bayes.MultinomialNB),\n",
    "    (\"OneVsOneClassifier\", sklearn.multiclass.OneVsOneClassifier),\n",
    "    (\"OneVsRestClassifier\", sklearn.multiclass.OneVsRestClassifier),\n",
    "    (\"OutputCodeClassifier\", sklearn.multiclass.OutputCodeClassifier),\n",
    "    (\"RadiusNeighborsClassifier\", sklearn.neighbors.classification.RadiusNeighborsClassifier,),\n",
    "    (\"VotingClassifier\", sklearn.ensemble.voting.VotingClassifier),\n",
    "]\n",
    "\n",
    "for i in removed_classifiers:\n",
    "    CLASSIFIERS.pop(CLASSIFIERS.index(i))\n",
    "    \n",
    "CLASSIFIERS.append((\"XGBClassifier\", xgboost.XGBClassifier))\n",
    "CLASSIFIERS.append((\"LGBMClassifier\", lightgbm.LGBMClassifier))"
   ]
  },
  {
   "cell_type": "code",
   "execution_count": 17,
   "id": "combined-paragraph",
   "metadata": {},
   "outputs": [
    {
     "name": "stderr",
     "output_type": "stream",
     "text": [
      " 90%|█████████████████████████████████████████████████████████████████████████▌        | 26/29 [00:22<00:02,  1.40it/s]"
     ]
    },
    {
     "name": "stdout",
     "output_type": "stream",
     "text": [
      "StackingClassifier model failed to execute\n",
      "__init__() missing 1 required positional argument: 'estimators'\n"
     ]
    },
    {
     "name": "stderr",
     "output_type": "stream",
     "text": [
      "100%|██████████████████████████████████████████████████████████████████████████████████| 29/29 [00:25<00:00,  1.12it/s]\n"
     ]
    }
   ],
   "source": [
    "random_state = 10\n",
    "Accuracy_mean = []\n",
    "Accuracy_std = []\n",
    "F1_mean = []\n",
    "F1_std = []\n",
    "names = []\n",
    "TIME = []\n",
    "predictions = {}\n",
    "models = {}\n",
    "\n",
    "for name, model in tqdm(CLASSIFIERS):\n",
    "    start = time.time()\n",
    "    try:\n",
    "        if \"random_state\" in model().get_params().keys():\n",
    "            if \"class_weight\" in model().get_params().keys():\n",
    "                pipeline = create_pipeline_without_clf(\"classifier\", model(random_state=random_state, class_weight='balanced'))\n",
    "            else:\n",
    "                pipeline = create_pipeline_without_clf(\"classifier\", model(random_state=random_state))\n",
    "        else:\n",
    "            if \"class_weight\" in model().get_params().keys():\n",
    "                pipeline = create_pipeline_without_clf(\"classifier\", model(class_weight='balanced'))\n",
    "            else:\n",
    "                pipeline = create_pipeline_without_clf(\"classifier\", model())\n",
    "                \n",
    "                                   \n",
    "        results = evaluate_model_with_CV(X, y, model)\n",
    "                        \n",
    "        names.append(name)\n",
    "        Accuracy_mean.append(results['test_accuracy'].mean())\n",
    "        Accuracy_std.append(results['test_accuracy'].std())\n",
    "        F1_mean.append(results['test_f1_weighted'].mean())\n",
    "        F1_std.append(results['test_f1_weighted'].std())\n",
    "        TIME.append(results['fit_time'].mean())\n",
    "    \n",
    "    except Exception as exception:\n",
    "        print(name + \" model failed to execute\")\n",
    "        print(exception)\n",
    "                                   \n",
    "scores = pd.DataFrame(\n",
    "    {   \"Model\": names,\n",
    "        \"Accuracy Mean\": Accuracy_mean,\n",
    "        \"Accuracy Std\": Accuracy_std,\n",
    "        \"F1-Score Mean\": F1_mean,\n",
    "        \"F1-Score Std\": F1_std,\n",
    "        \"Time Taken\": TIME, })      "
   ]
  },
  {
   "cell_type": "code",
   "execution_count": 18,
   "id": "acting-prevention",
   "metadata": {},
   "outputs": [
    {
     "data": {
      "text/html": [
       "<div>\n",
       "<style scoped>\n",
       "    .dataframe tbody tr th:only-of-type {\n",
       "        vertical-align: middle;\n",
       "    }\n",
       "\n",
       "    .dataframe tbody tr th {\n",
       "        vertical-align: top;\n",
       "    }\n",
       "\n",
       "    .dataframe thead th {\n",
       "        text-align: right;\n",
       "    }\n",
       "</style>\n",
       "<table border=\"1\" class=\"dataframe\">\n",
       "  <thead>\n",
       "    <tr style=\"text-align: right;\">\n",
       "      <th></th>\n",
       "      <th>Model</th>\n",
       "      <th>Accuracy Mean</th>\n",
       "      <th>Accuracy Std</th>\n",
       "      <th>F1-Score Mean</th>\n",
       "      <th>F1-Score Std</th>\n",
       "      <th>Time Taken</th>\n",
       "    </tr>\n",
       "  </thead>\n",
       "  <tbody>\n",
       "    <tr>\n",
       "      <th>26</th>\n",
       "      <td>XGBClassifier</td>\n",
       "      <td>0.938738</td>\n",
       "      <td>0.012164</td>\n",
       "      <td>0.938539</td>\n",
       "      <td>0.012055</td>\n",
       "      <td>1.769198</td>\n",
       "    </tr>\n",
       "    <tr>\n",
       "      <th>21</th>\n",
       "      <td>RandomForestClassifier</td>\n",
       "      <td>0.935663</td>\n",
       "      <td>0.013034</td>\n",
       "      <td>0.935260</td>\n",
       "      <td>0.013000</td>\n",
       "      <td>1.084600</td>\n",
       "    </tr>\n",
       "    <tr>\n",
       "      <th>27</th>\n",
       "      <td>LGBMClassifier</td>\n",
       "      <td>0.933771</td>\n",
       "      <td>0.013838</td>\n",
       "      <td>0.933478</td>\n",
       "      <td>0.013766</td>\n",
       "      <td>0.665200</td>\n",
       "    </tr>\n",
       "    <tr>\n",
       "      <th>15</th>\n",
       "      <td>LogisticRegression</td>\n",
       "      <td>0.920294</td>\n",
       "      <td>0.011407</td>\n",
       "      <td>0.920041</td>\n",
       "      <td>0.011319</td>\n",
       "      <td>0.230400</td>\n",
       "    </tr>\n",
       "    <tr>\n",
       "      <th>25</th>\n",
       "      <td>SVC</td>\n",
       "      <td>0.920055</td>\n",
       "      <td>0.013701</td>\n",
       "      <td>0.919170</td>\n",
       "      <td>0.013776</td>\n",
       "      <td>0.589587</td>\n",
       "    </tr>\n",
       "    <tr>\n",
       "      <th>8</th>\n",
       "      <td>ExtraTreesClassifier</td>\n",
       "      <td>0.916270</td>\n",
       "      <td>0.010536</td>\n",
       "      <td>0.915998</td>\n",
       "      <td>0.010392</td>\n",
       "      <td>1.384000</td>\n",
       "    </tr>\n",
       "    <tr>\n",
       "      <th>1</th>\n",
       "      <td>BaggingClassifier</td>\n",
       "      <td>0.908225</td>\n",
       "      <td>0.012574</td>\n",
       "      <td>0.908044</td>\n",
       "      <td>0.012640</td>\n",
       "      <td>0.546200</td>\n",
       "    </tr>\n",
       "    <tr>\n",
       "      <th>14</th>\n",
       "      <td>LinearSVC</td>\n",
       "      <td>0.905865</td>\n",
       "      <td>0.013365</td>\n",
       "      <td>0.905364</td>\n",
       "      <td>0.013073</td>\n",
       "      <td>0.252200</td>\n",
       "    </tr>\n",
       "    <tr>\n",
       "      <th>3</th>\n",
       "      <td>CalibratedClassifierCV</td>\n",
       "      <td>0.905627</td>\n",
       "      <td>0.016469</td>\n",
       "      <td>0.904774</td>\n",
       "      <td>0.016157</td>\n",
       "      <td>0.816198</td>\n",
       "    </tr>\n",
       "    <tr>\n",
       "      <th>24</th>\n",
       "      <td>SGDClassifier</td>\n",
       "      <td>0.901367</td>\n",
       "      <td>0.017016</td>\n",
       "      <td>0.901224</td>\n",
       "      <td>0.016904</td>\n",
       "      <td>0.100217</td>\n",
       "    </tr>\n",
       "    <tr>\n",
       "      <th>23</th>\n",
       "      <td>RidgeClassifierCV</td>\n",
       "      <td>0.893087</td>\n",
       "      <td>0.018737</td>\n",
       "      <td>0.892142</td>\n",
       "      <td>0.018629</td>\n",
       "      <td>0.190200</td>\n",
       "    </tr>\n",
       "    <tr>\n",
       "      <th>22</th>\n",
       "      <td>RidgeClassifier</td>\n",
       "      <td>0.890727</td>\n",
       "      <td>0.016687</td>\n",
       "      <td>0.890049</td>\n",
       "      <td>0.016742</td>\n",
       "      <td>0.139198</td>\n",
       "    </tr>\n",
       "    <tr>\n",
       "      <th>18</th>\n",
       "      <td>PassiveAggressiveClassifier</td>\n",
       "      <td>0.889781</td>\n",
       "      <td>0.013217</td>\n",
       "      <td>0.889416</td>\n",
       "      <td>0.013391</td>\n",
       "      <td>0.090800</td>\n",
       "    </tr>\n",
       "    <tr>\n",
       "      <th>19</th>\n",
       "      <td>Perceptron</td>\n",
       "      <td>0.888131</td>\n",
       "      <td>0.018525</td>\n",
       "      <td>0.887874</td>\n",
       "      <td>0.018213</td>\n",
       "      <td>0.078200</td>\n",
       "    </tr>\n",
       "    <tr>\n",
       "      <th>5</th>\n",
       "      <td>DecisionTreeClassifier</td>\n",
       "      <td>0.886229</td>\n",
       "      <td>0.014537</td>\n",
       "      <td>0.885894</td>\n",
       "      <td>0.014158</td>\n",
       "      <td>0.121400</td>\n",
       "    </tr>\n",
       "    <tr>\n",
       "      <th>17</th>\n",
       "      <td>NuSVC</td>\n",
       "      <td>0.873936</td>\n",
       "      <td>0.016353</td>\n",
       "      <td>0.871958</td>\n",
       "      <td>0.016979</td>\n",
       "      <td>1.481200</td>\n",
       "    </tr>\n",
       "    <tr>\n",
       "      <th>10</th>\n",
       "      <td>KNeighborsClassifier</td>\n",
       "      <td>0.843894</td>\n",
       "      <td>0.012329</td>\n",
       "      <td>0.842967</td>\n",
       "      <td>0.012519</td>\n",
       "      <td>0.065000</td>\n",
       "    </tr>\n",
       "    <tr>\n",
       "      <th>2</th>\n",
       "      <td>BernoulliNB</td>\n",
       "      <td>0.826860</td>\n",
       "      <td>0.016420</td>\n",
       "      <td>0.825789</td>\n",
       "      <td>0.016681</td>\n",
       "      <td>0.073398</td>\n",
       "    </tr>\n",
       "    <tr>\n",
       "      <th>0</th>\n",
       "      <td>AdaBoostClassifier</td>\n",
       "      <td>0.776950</td>\n",
       "      <td>0.027738</td>\n",
       "      <td>0.777774</td>\n",
       "      <td>0.026829</td>\n",
       "      <td>0.359201</td>\n",
       "    </tr>\n",
       "    <tr>\n",
       "      <th>7</th>\n",
       "      <td>ExtraTreeClassifier</td>\n",
       "      <td>0.773411</td>\n",
       "      <td>0.028320</td>\n",
       "      <td>0.773147</td>\n",
       "      <td>0.028531</td>\n",
       "      <td>0.080800</td>\n",
       "    </tr>\n",
       "    <tr>\n",
       "      <th>16</th>\n",
       "      <td>NearestCentroid</td>\n",
       "      <td>0.631508</td>\n",
       "      <td>0.005804</td>\n",
       "      <td>0.593324</td>\n",
       "      <td>0.006406</td>\n",
       "      <td>0.066400</td>\n",
       "    </tr>\n",
       "    <tr>\n",
       "      <th>6</th>\n",
       "      <td>DummyClassifier</td>\n",
       "      <td>0.249058</td>\n",
       "      <td>0.010852</td>\n",
       "      <td>0.249171</td>\n",
       "      <td>0.010993</td>\n",
       "      <td>0.063800</td>\n",
       "    </tr>\n",
       "    <tr>\n",
       "      <th>4</th>\n",
       "      <td>CategoricalNB</td>\n",
       "      <td>NaN</td>\n",
       "      <td>NaN</td>\n",
       "      <td>NaN</td>\n",
       "      <td>NaN</td>\n",
       "      <td>0.065200</td>\n",
       "    </tr>\n",
       "    <tr>\n",
       "      <th>9</th>\n",
       "      <td>GaussianNB</td>\n",
       "      <td>NaN</td>\n",
       "      <td>NaN</td>\n",
       "      <td>NaN</td>\n",
       "      <td>NaN</td>\n",
       "      <td>0.061799</td>\n",
       "    </tr>\n",
       "    <tr>\n",
       "      <th>11</th>\n",
       "      <td>LabelPropagation</td>\n",
       "      <td>NaN</td>\n",
       "      <td>NaN</td>\n",
       "      <td>NaN</td>\n",
       "      <td>NaN</td>\n",
       "      <td>0.072598</td>\n",
       "    </tr>\n",
       "    <tr>\n",
       "      <th>12</th>\n",
       "      <td>LabelSpreading</td>\n",
       "      <td>NaN</td>\n",
       "      <td>NaN</td>\n",
       "      <td>NaN</td>\n",
       "      <td>NaN</td>\n",
       "      <td>0.063801</td>\n",
       "    </tr>\n",
       "    <tr>\n",
       "      <th>13</th>\n",
       "      <td>LinearDiscriminantAnalysis</td>\n",
       "      <td>NaN</td>\n",
       "      <td>NaN</td>\n",
       "      <td>NaN</td>\n",
       "      <td>NaN</td>\n",
       "      <td>0.062800</td>\n",
       "    </tr>\n",
       "    <tr>\n",
       "      <th>20</th>\n",
       "      <td>QuadraticDiscriminantAnalysis</td>\n",
       "      <td>NaN</td>\n",
       "      <td>NaN</td>\n",
       "      <td>NaN</td>\n",
       "      <td>NaN</td>\n",
       "      <td>0.062001</td>\n",
       "    </tr>\n",
       "  </tbody>\n",
       "</table>\n",
       "</div>"
      ],
      "text/plain": [
       "                            Model  Accuracy Mean  Accuracy Std  F1-Score Mean  \\\n",
       "26                  XGBClassifier       0.938738      0.012164       0.938539   \n",
       "21         RandomForestClassifier       0.935663      0.013034       0.935260   \n",
       "27                 LGBMClassifier       0.933771      0.013838       0.933478   \n",
       "15             LogisticRegression       0.920294      0.011407       0.920041   \n",
       "25                            SVC       0.920055      0.013701       0.919170   \n",
       "8            ExtraTreesClassifier       0.916270      0.010536       0.915998   \n",
       "1               BaggingClassifier       0.908225      0.012574       0.908044   \n",
       "14                      LinearSVC       0.905865      0.013365       0.905364   \n",
       "3          CalibratedClassifierCV       0.905627      0.016469       0.904774   \n",
       "24                  SGDClassifier       0.901367      0.017016       0.901224   \n",
       "23              RidgeClassifierCV       0.893087      0.018737       0.892142   \n",
       "22                RidgeClassifier       0.890727      0.016687       0.890049   \n",
       "18    PassiveAggressiveClassifier       0.889781      0.013217       0.889416   \n",
       "19                     Perceptron       0.888131      0.018525       0.887874   \n",
       "5          DecisionTreeClassifier       0.886229      0.014537       0.885894   \n",
       "17                          NuSVC       0.873936      0.016353       0.871958   \n",
       "10           KNeighborsClassifier       0.843894      0.012329       0.842967   \n",
       "2                     BernoulliNB       0.826860      0.016420       0.825789   \n",
       "0              AdaBoostClassifier       0.776950      0.027738       0.777774   \n",
       "7             ExtraTreeClassifier       0.773411      0.028320       0.773147   \n",
       "16                NearestCentroid       0.631508      0.005804       0.593324   \n",
       "6                 DummyClassifier       0.249058      0.010852       0.249171   \n",
       "4                   CategoricalNB            NaN           NaN            NaN   \n",
       "9                      GaussianNB            NaN           NaN            NaN   \n",
       "11               LabelPropagation            NaN           NaN            NaN   \n",
       "12                 LabelSpreading            NaN           NaN            NaN   \n",
       "13     LinearDiscriminantAnalysis            NaN           NaN            NaN   \n",
       "20  QuadraticDiscriminantAnalysis            NaN           NaN            NaN   \n",
       "\n",
       "    F1-Score Std  Time Taken  \n",
       "26      0.012055    1.769198  \n",
       "21      0.013000    1.084600  \n",
       "27      0.013766    0.665200  \n",
       "15      0.011319    0.230400  \n",
       "25      0.013776    0.589587  \n",
       "8       0.010392    1.384000  \n",
       "1       0.012640    0.546200  \n",
       "14      0.013073    0.252200  \n",
       "3       0.016157    0.816198  \n",
       "24      0.016904    0.100217  \n",
       "23      0.018629    0.190200  \n",
       "22      0.016742    0.139198  \n",
       "18      0.013391    0.090800  \n",
       "19      0.018213    0.078200  \n",
       "5       0.014158    0.121400  \n",
       "17      0.016979    1.481200  \n",
       "10      0.012519    0.065000  \n",
       "2       0.016681    0.073398  \n",
       "0       0.026829    0.359201  \n",
       "7       0.028531    0.080800  \n",
       "16      0.006406    0.066400  \n",
       "6       0.010993    0.063800  \n",
       "4            NaN    0.065200  \n",
       "9            NaN    0.061799  \n",
       "11           NaN    0.072598  \n",
       "12           NaN    0.063801  \n",
       "13           NaN    0.062800  \n",
       "20           NaN    0.062001  "
      ]
     },
     "execution_count": 18,
     "metadata": {},
     "output_type": "execute_result"
    }
   ],
   "source": [
    "scores.sort_values(by='F1-Score Mean', ascending=False)"
   ]
  },
  {
   "cell_type": "code",
   "execution_count": 19,
   "id": "trying-finish",
   "metadata": {},
   "outputs": [
    {
     "data": {
      "text/html": [
       "<div>\n",
       "<style scoped>\n",
       "    .dataframe tbody tr th:only-of-type {\n",
       "        vertical-align: middle;\n",
       "    }\n",
       "\n",
       "    .dataframe tbody tr th {\n",
       "        vertical-align: top;\n",
       "    }\n",
       "\n",
       "    .dataframe thead th {\n",
       "        text-align: right;\n",
       "    }\n",
       "</style>\n",
       "<table border=\"1\" class=\"dataframe\">\n",
       "  <thead>\n",
       "    <tr style=\"text-align: right;\">\n",
       "      <th></th>\n",
       "      <th>Model</th>\n",
       "      <th>Accuracy Mean</th>\n",
       "      <th>Accuracy Std</th>\n",
       "      <th>F1-Score Mean</th>\n",
       "      <th>F1-Score Std</th>\n",
       "      <th>Time Taken</th>\n",
       "    </tr>\n",
       "  </thead>\n",
       "  <tbody>\n",
       "    <tr>\n",
       "      <th>26</th>\n",
       "      <td>XGBClassifier</td>\n",
       "      <td>0.938738</td>\n",
       "      <td>0.012164</td>\n",
       "      <td>0.938539</td>\n",
       "      <td>0.012055</td>\n",
       "      <td>1.769198</td>\n",
       "    </tr>\n",
       "    <tr>\n",
       "      <th>21</th>\n",
       "      <td>RandomForestClassifier</td>\n",
       "      <td>0.935663</td>\n",
       "      <td>0.013034</td>\n",
       "      <td>0.935260</td>\n",
       "      <td>0.013000</td>\n",
       "      <td>1.084600</td>\n",
       "    </tr>\n",
       "    <tr>\n",
       "      <th>27</th>\n",
       "      <td>LGBMClassifier</td>\n",
       "      <td>0.933771</td>\n",
       "      <td>0.013838</td>\n",
       "      <td>0.933478</td>\n",
       "      <td>0.013766</td>\n",
       "      <td>0.665200</td>\n",
       "    </tr>\n",
       "    <tr>\n",
       "      <th>15</th>\n",
       "      <td>LogisticRegression</td>\n",
       "      <td>0.920294</td>\n",
       "      <td>0.011407</td>\n",
       "      <td>0.920041</td>\n",
       "      <td>0.011319</td>\n",
       "      <td>0.230400</td>\n",
       "    </tr>\n",
       "    <tr>\n",
       "      <th>25</th>\n",
       "      <td>SVC</td>\n",
       "      <td>0.920055</td>\n",
       "      <td>0.013701</td>\n",
       "      <td>0.919170</td>\n",
       "      <td>0.013776</td>\n",
       "      <td>0.589587</td>\n",
       "    </tr>\n",
       "  </tbody>\n",
       "</table>\n",
       "</div>"
      ],
      "text/plain": [
       "                     Model  Accuracy Mean  Accuracy Std  F1-Score Mean  \\\n",
       "26           XGBClassifier       0.938738      0.012164       0.938539   \n",
       "21  RandomForestClassifier       0.935663      0.013034       0.935260   \n",
       "27          LGBMClassifier       0.933771      0.013838       0.933478   \n",
       "15      LogisticRegression       0.920294      0.011407       0.920041   \n",
       "25                     SVC       0.920055      0.013701       0.919170   \n",
       "\n",
       "    F1-Score Std  Time Taken  \n",
       "26      0.012055    1.769198  \n",
       "21      0.013000    1.084600  \n",
       "27      0.013766    0.665200  \n",
       "15      0.011319    0.230400  \n",
       "25      0.013776    0.589587  "
      ]
     },
     "execution_count": 19,
     "metadata": {},
     "output_type": "execute_result"
    }
   ],
   "source": [
    "final_models = scores[(scores['F1-Score Mean']>0.9)].nlargest(5, 'F1-Score Mean')\n",
    "final_models"
   ]
  },
  {
   "cell_type": "markdown",
   "id": "enormous-delivery",
   "metadata": {},
   "source": [
    "## tuning"
   ]
  },
  {
   "cell_type": "code",
   "execution_count": 20,
   "id": "planned-accordance",
   "metadata": {},
   "outputs": [
    {
     "data": {
      "text/plain": [
       "array(['XGBClassifier', 'RandomForestClassifier', 'LGBMClassifier',\n",
       "       'LogisticRegression', 'SVC'], dtype=object)"
      ]
     },
     "execution_count": 20,
     "metadata": {},
     "output_type": "execute_result"
    }
   ],
   "source": [
    "final_models.Model.values"
   ]
  },
  {
   "cell_type": "code",
   "execution_count": 21,
   "id": "beneficial-backing",
   "metadata": {},
   "outputs": [],
   "source": [
    "from sklearn.svm import SVC\n",
    "from sklearn.ensemble import RandomForestClassifier\n",
    "from sklearn.linear_model import LogisticRegression\n",
    "from xgboost import XGBClassifier\n",
    "from lightgbm import LGBMClassifier"
   ]
  },
  {
   "cell_type": "code",
   "execution_count": 22,
   "id": "proper-thumbnail",
   "metadata": {},
   "outputs": [],
   "source": [
    "classifier_objects = {\n",
    "    'RandomForestClassifier' : RandomForestClassifier(random_state=0, n_jobs=-1),\n",
    "    'LGBMClassifier' : LGBMClassifier(random_state=0, n_jobs=-1),\n",
    "    'XGBClassifier' : XGBClassifier(random_state=0, n_jobs=-1),\n",
    "    'LogisticRegression' : LogisticRegression(random_state=0),\n",
    "    'SVC' : SVC(random_state=0),\n",
    "}"
   ]
  },
  {
   "cell_type": "code",
   "execution_count": 23,
   "id": "dressed-bobby",
   "metadata": {},
   "outputs": [],
   "source": [
    "params_list = {\n",
    "'RandomForestClassifier' : {'max_depth': [5,10, 20, None], 'min_samples_leaf': [1, 2, 3, 5,10], \n",
    "                            'min_samples_split': [2, 3, 5], 'n_estimators': [100, 250, 500]},\n",
    "'LGBMClassifier' : {'num_leaves': [5,10,15,20,25,31], 'learning_rate': [0.005, 0.01],\n",
    "                          'max_depth': [-1, 5,10, 20], 'min_samples_split': [2,3,5],\n",
    "                          'n_estimators': [100, 250,500]},\n",
    "'XGBClassifier' : {'min_child_weight': [1, 5, 10], 'gamma': [0.5, 1, 1.5, 2, 5],\n",
    "                   'subsample': [0.6, 0.8, 1.0], 'colsample_bytree': [0.6, 0.8, 1.0],\n",
    "                    'max_depth': [3, 4, 5]},\n",
    "'LogisticRegression':{'C':np.logspace(-3,3,7), 'penalty':[\"l1\",\"l2\"]},\n",
    "'SVC':{'C': [ 0.1, 1, 10, 100], 'kernel':['poly', 'rbf'], \n",
    "         'degree':[2,3,4,5], 'gamma':[1,0.1,0.001,0.0001]}\n",
    "}"
   ]
  },
  {
   "cell_type": "code",
   "execution_count": 24,
   "id": "painted-washington",
   "metadata": {},
   "outputs": [],
   "source": [
    "X_train, X_test, y_train, y_test = train_test_split(X, y, stratify=y, test_size=0.20, random_state=42)"
   ]
  },
  {
   "cell_type": "code",
   "execution_count": 25,
   "id": "three-slope",
   "metadata": {},
   "outputs": [],
   "source": [
    "def prepare_param_grid(params):\n",
    "    \n",
    "    param_grid = {}\n",
    "    for key, value in params.items():\n",
    "        new_key = 'classifier__' + key \n",
    "        param_grid[new_key] = value\n",
    "    return param_grid"
   ]
  },
  {
   "cell_type": "code",
   "execution_count": 26,
   "id": "intellectual-satisfaction",
   "metadata": {},
   "outputs": [],
   "source": [
    "def grid_search(classifier, clf):\n",
    "    \n",
    "    param_grid = prepare_param_grid(params_list[clf])\n",
    "    grid_search = GridSearchCV(classifier, param_grid=param_grid, cv = 5, scoring='f1_weighted', verbose = -1,  n_jobs = 16)\n",
    "    grid_search.fit(X_train, y_train)\n",
    "    gs_preds = grid_search.predict(X_test)\n",
    "    \n",
    "    return gs_preds, grid_search.best_params_, grid_search.cv_results_['mean_test_score']"
   ]
  },
  {
   "cell_type": "code",
   "execution_count": 27,
   "id": "optimum-cambridge",
   "metadata": {},
   "outputs": [
    {
     "name": "stderr",
     "output_type": "stream",
     "text": [
      "[Parallel(n_jobs=16)]: Using backend LokyBackend with 16 concurrent workers.\n",
      "[Parallel(n_jobs=16)]: Done  40 tasks      | elapsed:    5.1s\n",
      "[Parallel(n_jobs=16)]: Done 256 tasks      | elapsed:   17.8s\n",
      "[Parallel(n_jobs=16)]: Done 616 tasks      | elapsed:   38.1s\n",
      "[Parallel(n_jobs=16)]: Done 1120 tasks      | elapsed:  1.2min\n",
      "[Parallel(n_jobs=16)]: Done 1768 tasks      | elapsed:  2.0min\n",
      "[Parallel(n_jobs=16)]: Done 2025 out of 2025 | elapsed:  2.3min finished\n",
      "Features [0 0] are constant.\n",
      "invalid value encountered in true_divide\n",
      "[Parallel(n_jobs=16)]: Using backend LokyBackend with 16 concurrent workers.\n",
      "[Parallel(n_jobs=16)]: Done  40 tasks      | elapsed:    4.6s\n",
      "[Parallel(n_jobs=16)]: Done 256 tasks      | elapsed:   18.0s\n",
      "[Parallel(n_jobs=16)]: Done 616 tasks      | elapsed:   46.0s\n",
      "[Parallel(n_jobs=16)]: Done 900 out of 900 | elapsed:  1.2min finished\n",
      "Features [0 0] are constant.\n",
      "invalid value encountered in true_divide\n",
      "[Parallel(n_jobs=16)]: Using backend LokyBackend with 16 concurrent workers.\n",
      "[Parallel(n_jobs=16)]: Done  40 tasks      | elapsed:    4.3s\n",
      "[Parallel(n_jobs=16)]: Done 256 tasks      | elapsed:   25.0s\n",
      "[Parallel(n_jobs=16)]: Done 616 tasks      | elapsed:   54.7s\n",
      "[Parallel(n_jobs=16)]: Done 1120 tasks      | elapsed:  1.7min\n",
      "[Parallel(n_jobs=16)]: Done 1768 tasks      | elapsed:  2.6min\n",
      "[Parallel(n_jobs=16)]: Done 2160 out of 2160 | elapsed:  3.2min finished\n",
      "Features [0 0] are constant.\n",
      "invalid value encountered in true_divide\n",
      "[Parallel(n_jobs=16)]: Using backend LokyBackend with 16 concurrent workers.\n",
      "[Parallel(n_jobs=16)]: Done  70 out of  70 | elapsed:    3.1s finished\n",
      "Features [0 0] are constant.\n",
      "invalid value encountered in true_divide\n",
      "lbfgs failed to converge (status=1):\n",
      "STOP: TOTAL NO. of ITERATIONS REACHED LIMIT.\n",
      "\n",
      "Increase the number of iterations (max_iter) or scale the data as shown in:\n",
      "    https://scikit-learn.org/stable/modules/preprocessing.html\n",
      "Please also refer to the documentation for alternative solver options:\n",
      "    https://scikit-learn.org/stable/modules/linear_model.html#logistic-regression\n",
      "[Parallel(n_jobs=16)]: Using backend LokyBackend with 16 concurrent workers.\n",
      "[Parallel(n_jobs=16)]: Done  40 tasks      | elapsed:    6.0s\n",
      "[Parallel(n_jobs=16)]: Done 256 tasks      | elapsed:   25.2s\n",
      "[Parallel(n_jobs=16)]: Done 640 out of 640 | elapsed:   54.7s finished\n",
      "Features [0 0] are constant.\n",
      "invalid value encountered in true_divide\n"
     ]
    }
   ],
   "source": [
    "k=0\n",
    "gs_results = pd.DataFrame(columns=['Model', 'acc_score', 'best_params', 'F1-score', 'mean val score', 'clf_report'])\n",
    "\n",
    "for model in final_models.Model.values:\n",
    "    \n",
    "    k+=1\n",
    "    try:\n",
    "        pipeline = create_pipeline_without_clf(\"classifier\", classifier_objects[model])\n",
    "        preds, best_params, mean_val_score = grid_search(pipeline, model)\n",
    "    except:\n",
    "        print('an error with', model)\n",
    "        continue\n",
    "    f1_s = f1_score(y_test, preds, average='weighted')\n",
    "    acc_score = accuracy_score(y_test, preds)\n",
    "    clf_report = classification_report(y_test, preds)\n",
    "    \n",
    "    gs_results = gs_results.append(pd.DataFrame({'Model':model,'acc_score':[acc_score], 'best_params':str(best_params),\n",
    "                                           'F1-score':f1_s, 'mean val score':[mean_val_score],'clf_report':clf_report}, index=[k]))"
   ]
  },
  {
   "cell_type": "code",
   "execution_count": 28,
   "id": "amino-wonder",
   "metadata": {},
   "outputs": [
    {
     "data": {
      "text/html": [
       "<div>\n",
       "<style scoped>\n",
       "    .dataframe tbody tr th:only-of-type {\n",
       "        vertical-align: middle;\n",
       "    }\n",
       "\n",
       "    .dataframe tbody tr th {\n",
       "        vertical-align: top;\n",
       "    }\n",
       "\n",
       "    .dataframe thead th {\n",
       "        text-align: right;\n",
       "    }\n",
       "</style>\n",
       "<table border=\"1\" class=\"dataframe\">\n",
       "  <thead>\n",
       "    <tr style=\"text-align: right;\">\n",
       "      <th></th>\n",
       "      <th>Model</th>\n",
       "      <th>acc_score</th>\n",
       "      <th>best_params</th>\n",
       "      <th>F1-score</th>\n",
       "      <th>mean val score</th>\n",
       "      <th>clf_report</th>\n",
       "    </tr>\n",
       "  </thead>\n",
       "  <tbody>\n",
       "    <tr>\n",
       "      <th>2</th>\n",
       "      <td>RandomForestClassifier</td>\n",
       "      <td>0.940898</td>\n",
       "      <td>{'classifier__max_depth': None, 'classifier__m...</td>\n",
       "      <td>0.940255</td>\n",
       "      <td>[0.8829248277330951, 0.8914153193277887, 0.889...</td>\n",
       "      <td>precision    recall  f1-score   ...</td>\n",
       "    </tr>\n",
       "    <tr>\n",
       "      <th>3</th>\n",
       "      <td>LGBMClassifier</td>\n",
       "      <td>0.937352</td>\n",
       "      <td>{'classifier__learning_rate': 0.01, 'classifie...</td>\n",
       "      <td>0.936946</td>\n",
       "      <td>[0.846771466801466, 0.8867673703654418, 0.8983...</td>\n",
       "      <td>precision    recall  f1-score   ...</td>\n",
       "    </tr>\n",
       "    <tr>\n",
       "      <th>1</th>\n",
       "      <td>XGBClassifier</td>\n",
       "      <td>0.934988</td>\n",
       "      <td>{'classifier__colsample_bytree': 0.6, 'classif...</td>\n",
       "      <td>0.934625</td>\n",
       "      <td>[0.9296756657586727, 0.9303632358569169, 0.930...</td>\n",
       "      <td>precision    recall  f1-score   ...</td>\n",
       "    </tr>\n",
       "    <tr>\n",
       "      <th>5</th>\n",
       "      <td>SVC</td>\n",
       "      <td>0.929078</td>\n",
       "      <td>{'classifier__C': 10, 'classifier__degree': 2,...</td>\n",
       "      <td>0.928503</td>\n",
       "      <td>[0.9179421748558688, 0.1156131630809802, 0.920...</td>\n",
       "      <td>precision    recall  f1-score   ...</td>\n",
       "    </tr>\n",
       "    <tr>\n",
       "      <th>4</th>\n",
       "      <td>LogisticRegression</td>\n",
       "      <td>0.920804</td>\n",
       "      <td>{'classifier__C': 1.0, 'classifier__penalty': ...</td>\n",
       "      <td>0.920203</td>\n",
       "      <td>[nan, 0.7943705028934065, nan, 0.8895613550735...</td>\n",
       "      <td>precision    recall  f1-score   ...</td>\n",
       "    </tr>\n",
       "  </tbody>\n",
       "</table>\n",
       "</div>"
      ],
      "text/plain": [
       "                    Model  acc_score  \\\n",
       "2  RandomForestClassifier   0.940898   \n",
       "3          LGBMClassifier   0.937352   \n",
       "1           XGBClassifier   0.934988   \n",
       "5                     SVC   0.929078   \n",
       "4      LogisticRegression   0.920804   \n",
       "\n",
       "                                         best_params  F1-score  \\\n",
       "2  {'classifier__max_depth': None, 'classifier__m...  0.940255   \n",
       "3  {'classifier__learning_rate': 0.01, 'classifie...  0.936946   \n",
       "1  {'classifier__colsample_bytree': 0.6, 'classif...  0.934625   \n",
       "5  {'classifier__C': 10, 'classifier__degree': 2,...  0.928503   \n",
       "4  {'classifier__C': 1.0, 'classifier__penalty': ...  0.920203   \n",
       "\n",
       "                                      mean val score  \\\n",
       "2  [0.8829248277330951, 0.8914153193277887, 0.889...   \n",
       "3  [0.846771466801466, 0.8867673703654418, 0.8983...   \n",
       "1  [0.9296756657586727, 0.9303632358569169, 0.930...   \n",
       "5  [0.9179421748558688, 0.1156131630809802, 0.920...   \n",
       "4  [nan, 0.7943705028934065, nan, 0.8895613550735...   \n",
       "\n",
       "                                          clf_report  \n",
       "2                precision    recall  f1-score   ...  \n",
       "3                precision    recall  f1-score   ...  \n",
       "1                precision    recall  f1-score   ...  \n",
       "5                precision    recall  f1-score   ...  \n",
       "4                precision    recall  f1-score   ...  "
      ]
     },
     "execution_count": 28,
     "metadata": {},
     "output_type": "execute_result"
    }
   ],
   "source": [
    "gs_results.sort_values(by='F1-score', ascending=False)"
   ]
  },
  {
   "cell_type": "code",
   "execution_count": 29,
   "id": "rental-insert",
   "metadata": {},
   "outputs": [
    {
     "data": {
      "text/plain": [
       "{'colsample_bytree': 0.6,\n",
       " 'gamma': 0.5,\n",
       " 'max_depth': 4,\n",
       " 'min_child_weight': 1,\n",
       " 'subsample': 1.0}"
      ]
     },
     "execution_count": 29,
     "metadata": {},
     "output_type": "execute_result"
    }
   ],
   "source": [
    "{k.replace('classifier__', ''): v for k,v in eval(gs_results.loc[1, 'best_params']).items()}"
   ]
  },
  {
   "cell_type": "markdown",
   "id": "fifth-discretion",
   "metadata": {},
   "source": [
    "## ensemble, stacking"
   ]
  },
  {
   "cell_type": "code",
   "execution_count": 30,
   "id": "brilliant-grenada",
   "metadata": {},
   "outputs": [
    {
     "name": "stdout",
     "output_type": "stream",
     "text": [
      "Random Forest F1: 0.93 (+/- 0.01) \n",
      "Light GBM F1: 0.92 (+/- 0.01) \n",
      "XGBoost F1: 0.93 (+/- 0.00) \n",
      "Voting F1: 0.93 (+/- 0.00) \n"
     ]
    }
   ],
   "source": [
    "from sklearn.ensemble import VotingClassifier\n",
    "\n",
    "clf1 = create_pipeline_without_clf('rfc',RandomForestClassifier(max_depth= None, min_samples_leaf= 1, min_samples_split= 2, n_estimators= 500))\n",
    "clf2 = create_pipeline_without_clf('lgb',LGBMClassifier(learning_rate=0.01,max_depth=-1, min_samples_split=2, num_leaves=20, n_estimators= 500))\n",
    "clf3 = create_pipeline_without_clf('xgb', XGBClassifier(colsample_bytree=0.6, gamma= 0.5, max_depth=4, min_child_weight=1, subsample= 1.0))\n",
    "\n",
    "\n",
    "    \n",
    "eclf = VotingClassifier(\n",
    "    estimators=[('rfc', clf1), ('lgb', clf2), ('xgb', clf3)],\n",
    "    voting='hard')\n",
    "    \n",
    "\n",
    "for clf, label in zip([clf1, clf2, clf3, eclf], ['Random Forest', 'Light GBM', 'XGBoost', 'Voting']):\n",
    "    scores = cross_val_score(clf, X, y, scoring='f1_weighted', cv=5, n_jobs=-1)\n",
    "    print(\"%s F1: %0.2f (+/- %0.2f) \" % (label, scores.mean(), scores.std()))\n"
   ]
  },
  {
   "cell_type": "code",
   "execution_count": 31,
   "id": "peripheral-friendship",
   "metadata": {},
   "outputs": [
    {
     "name": "stdout",
     "output_type": "stream",
     "text": [
      "Random Forest F1: 0.93 (+/- 0.01) \n",
      "SVC F1: 0.91 (+/- 0.01) \n",
      "Log F1: 0.91 (+/- 0.01) \n",
      "Voting F1: 0.93 (+/- 0.01) \n"
     ]
    }
   ],
   "source": [
    "from sklearn.ensemble import VotingClassifier\n",
    "\n",
    "clf1 = create_pipeline_without_clf('rfc',RandomForestClassifier(max_depth= None, min_samples_leaf= 1, min_samples_split= 2, n_estimators= 500))\n",
    "clf2 = create_pipeline_without_clf('svc',SVC(C= 10, degree= 2, gamma= 0.1, kernel= 'rbf'))\n",
    "clf3 = create_pipeline_without_clf('log', LogisticRegression(C= 1.0, penalty= 'l2'))\n",
    "\n",
    "\n",
    "    \n",
    "eclf = VotingClassifier(\n",
    "    estimators=[('rfc', clf1), ('svc', clf2), ('log', clf3)],\n",
    "    voting='hard')\n",
    "    \n",
    "\n",
    "for clf, label in zip([clf1, clf2, clf3, eclf], ['Random Forest', 'SVC', 'Log', 'Voting']):\n",
    "    scores = cross_val_score(clf, X, y, scoring='f1_weighted', cv=5, n_jobs=-1)\n",
    "    print(\"%s F1: %0.2f (+/- %0.2f) \" % (label, scores.mean(), scores.std()))\n"
   ]
  },
  {
   "cell_type": "code",
   "execution_count": 32,
   "id": "breathing-living",
   "metadata": {},
   "outputs": [
    {
     "name": "stdout",
     "output_type": "stream",
     "text": [
      "Random Forest F1: 0.9294 (+/- 0.0092) \n",
      "Light GBM F1: 0.9249 (+/- 0.0051) \n",
      "XGBoost F1: 0.9324 (+/- 0.0019) \n",
      "SVC F1: 0.9122 (+/- 0.0091) \n",
      "Log F1: 0.9131 (+/- 0.0062) \n",
      "Voting F1: 0.9318 (+/- 0.0049) \n"
     ]
    }
   ],
   "source": [
    "from sklearn.ensemble import VotingClassifier\n",
    "\n",
    "clf1 = create_pipeline_without_clf('rfc',RandomForestClassifier(max_depth= None, min_samples_leaf= 1, min_samples_split= 2, n_estimators= 500))\n",
    "clf2 = create_pipeline_without_clf('lgb',LGBMClassifier(learning_rate=0.01,max_depth=-1, min_samples_split=2, num_leaves=20, n_estimators= 500))\n",
    "clf3 = create_pipeline_without_clf('xgb', XGBClassifier(colsample_bytree=0.6, gamma= 0.5, max_depth=4, min_child_weight=1, subsample= 1.0))\n",
    "clf4 = create_pipeline_without_clf('svc',SVC(C= 10, degree= 2, gamma= 0.1, kernel= 'rbf'))\n",
    "clf5 = create_pipeline_without_clf('log', LogisticRegression(C= 1.0, penalty= 'l2'))\n",
    "\n",
    "    \n",
    "eclf = VotingClassifier(\n",
    "    estimators=[('rfc', clf1), ('lgb', clf2), ('xgb', clf3), ('svc', clf4), ('log', clf5)],\n",
    "    voting='hard', n_jobs=-1)\n",
    "    \n",
    "\n",
    "for clf, label in zip([clf1, clf2, clf3, clf4, clf5, eclf], ['Random Forest', 'Light GBM', 'XGBoost', 'SVC', 'Log', 'Voting']):\n",
    "    scores = cross_val_score(clf, X, y, scoring='f1_weighted', cv=5, n_jobs=-1)\n",
    "    print(\"%s F1: %0.4f (+/- %0.4f) \" % (label, scores.mean(), scores.std()))\n"
   ]
  },
  {
   "cell_type": "markdown",
   "id": "single-merchant",
   "metadata": {},
   "source": [
    "with voting classifier the f1-score is increased and also variance is decreased"
   ]
  },
  {
   "cell_type": "code",
   "execution_count": 48,
   "id": "surprising-constant",
   "metadata": {},
   "outputs": [
    {
     "name": "stdout",
     "output_type": "stream",
     "text": [
      "Model results:  VotingClassifier\n",
      "              precision    recall  f1-score   support\n",
      "\n",
      "    BUSINESS       0.91      0.95      0.93       212\n",
      "     LEISURE       0.94      0.87      0.90       211\n",
      " SECOND HOME       0.95      0.96      0.96       212\n",
      "     STUDENT       0.96      0.98      0.97       211\n",
      "\n",
      "    accuracy                           0.94       846\n",
      "   macro avg       0.94      0.94      0.94       846\n",
      "weighted avg       0.94      0.94      0.94       846\n",
      "\n",
      "Confusion matrix:\n",
      "0.941279585706372\n"
     ]
    },
    {
     "data": {
      "image/png": "[encoded data removed]",
      "text/plain": [
       "<Figure size 432x288 with 2 Axes>"
      ]
     },
     "metadata": {
      "needs_background": "light"
     },
     "output_type": "display_data"
    }
   ],
   "source": [
    "X_train, X_test, y_train, y_test = train_test_split(X, y, stratify=y, test_size=0.20, random_state=42)\n",
    "\n",
    "eclf = VotingClassifier(\n",
    "    estimators=[('rfc', clf1), ('lgb', clf2), ('xgb', clf3), ('svc', clf4), ('log', clf5)],\n",
    "    voting='hard', n_jobs=-1)\n",
    "\n",
    "eclf.fit(X_train, y_train)\n",
    "preds = eclf.predict(X_test)\n",
    "print_metrics(preds, y_test, eclf)\n",
    "print(f1_score(preds, y_test, average='weighted'))"
   ]
  },
  {
   "cell_type": "code",
   "execution_count": 44,
   "id": "center-archives",
   "metadata": {},
   "outputs": [],
   "source": [
    "from sklearn.ensemble import StackingClassifier\n",
    "\n",
    "final_clf = create_pipeline_without_clf('rfc',RandomForestClassifier(max_depth= None, min_samples_leaf= 1, min_samples_split= 2, n_estimators= 500))\n",
    "clf1 = create_pipeline_without_clf('lgb',LGBMClassifier(learning_rate=0.01,max_depth=-1, min_samples_split=2, num_leaves=20, n_estimators= 500))\n",
    "clf2 = create_pipeline_without_clf('svc',SVC(C= 10, degree= 2, gamma= 0.1, kernel= 'rbf'))\n",
    "clf3 = create_pipeline_without_clf('log', LogisticRegression(C= 1.0, penalty= 'l2'))\n",
    "\n",
    "estimators_list = [('lgb', clf1),('svc', clf2),('log', clf3)]\n",
    "stacking = StackingClassifier(estimators=estimators_list,  n_jobs=-1)"
   ]
  },
  {
   "cell_type": "code",
   "execution_count": 46,
   "id": "ranking-storm",
   "metadata": {
    "scrolled": true
   },
   "outputs": [
    {
     "name": "stderr",
     "output_type": "stream",
     "text": [
      "lbfgs failed to converge (status=1):\n",
      "STOP: TOTAL NO. of ITERATIONS REACHED LIMIT.\n",
      "\n",
      "Increase the number of iterations (max_iter) or scale the data as shown in:\n",
      "    https://scikit-learn.org/stable/modules/preprocessing.html\n",
      "Please also refer to the documentation for alternative solver options:\n",
      "    https://scikit-learn.org/stable/modules/linear_model.html#logistic-regression\n"
     ]
    },
    {
     "name": "stdout",
     "output_type": "stream",
     "text": [
      "Model results:  StackingClassifier\n",
      "              precision    recall  f1-score   support\n",
      "\n",
      "    BUSINESS       0.92      0.95      0.93       212\n",
      "     LEISURE       0.94      0.88      0.91       211\n",
      " SECOND HOME       0.96      0.97      0.96       212\n",
      "     STUDENT       0.95      0.98      0.96       211\n",
      "\n",
      "    accuracy                           0.94       846\n",
      "   macro avg       0.94      0.94      0.94       846\n",
      "weighted avg       0.94      0.94      0.94       846\n",
      "\n",
      "Confusion matrix:\n",
      "0.9435606993231471\n"
     ]
    },
    {
     "data": {
      "image/png": "[encoded data removed]",
      "text/plain": [
       "<Figure size 432x288 with 2 Axes>"
      ]
     },
     "metadata": {
      "needs_background": "light"
     },
     "output_type": "display_data"
    }
   ],
   "source": [
    "X_train, X_test, y_train, y_test = train_test_split(X, y, stratify=y, test_size=0.20, random_state=42)\n",
    "\n",
    "stacking.fit(X_train, y_train)\n",
    "preds = stacking.predict(X_test)\n",
    "print_metrics(preds, y_test, stacking)\n",
    "print(f1_score(preds, y_test, average='weighted'))"
   ]
  },
  {
   "cell_type": "markdown",
   "id": "heard-clause",
   "metadata": {},
   "source": [
    "### best model"
   ]
  },
  {
   "cell_type": "code",
   "execution_count": 51,
   "id": "supported-houston",
   "metadata": {},
   "outputs": [
    {
     "name": "stderr",
     "output_type": "stream",
     "text": [
      "lbfgs failed to converge (status=1):\n",
      "STOP: TOTAL NO. of ITERATIONS REACHED LIMIT.\n",
      "\n",
      "Increase the number of iterations (max_iter) or scale the data as shown in:\n",
      "    https://scikit-learn.org/stable/modules/preprocessing.html\n",
      "Please also refer to the documentation for alternative solver options:\n",
      "    https://scikit-learn.org/stable/modules/linear_model.html#logistic-regression\n"
     ]
    },
    {
     "name": "stdout",
     "output_type": "stream",
     "text": [
      "Model results:  StackingClassifier\n",
      "              precision    recall  f1-score   support\n",
      "\n",
      "    BUSINESS       0.92      0.95      0.94       212\n",
      "     LEISURE       0.94      0.89      0.92       211\n",
      " SECOND HOME       0.96      0.97      0.96       212\n",
      "     STUDENT       0.96      0.98      0.97       211\n",
      "\n",
      "    accuracy                           0.95       846\n",
      "   macro avg       0.95      0.95      0.95       846\n",
      "weighted avg       0.95      0.95      0.95       846\n",
      "\n",
      "Confusion matrix:\n",
      "0.9482320547848865\n"
     ]
    },
    {
     "data": {
      "image/png": "[encoded data removed]",
      "text/plain": [
       "<Figure size 432x288 with 2 Axes>"
      ]
     },
     "metadata": {
      "needs_background": "light"
     },
     "output_type": "display_data"
    }
   ],
   "source": [
    "from sklearn.ensemble import StackingClassifier\n",
    "\n",
    "clf1 = create_pipeline_without_clf('lgb',LGBMClassifier(learning_rate=0.01,max_depth=-1, min_samples_split=2, num_leaves=20, n_estimators= 500))\n",
    "clf2 = create_pipeline_without_clf('svc',SVC(C= 10, degree= 2, gamma= 0.1, kernel= 'rbf'))\n",
    "clf3 = create_pipeline_without_clf('log', LogisticRegression(C= 1.0, penalty= 'l2', max_iter=500))\n",
    "clf4 = create_pipeline_without_clf('rfc',RandomForestClassifier(max_depth= None, min_samples_leaf= 1, min_samples_split= 2, n_estimators= 500))\n",
    "\n",
    "estimators_list = [('lgb', clf1),('svc', clf2),('log', clf3),('rfc', clf4)]\n",
    "stacking = StackingClassifier(estimators=estimators_list,  n_jobs=-1)\n",
    "\n",
    "X_train, X_test, y_train, y_test = train_test_split(X, y, stratify=y, test_size=0.20, random_state=42)\n",
    "\n",
    "stacking.fit(X_train, y_train)\n",
    "preds = stacking.predict(X_test)\n",
    "print_metrics(preds, y_test, stacking)\n",
    "print(f1_score(preds, y_test, average='weighted'))"
   ]
  },
  {
   "cell_type": "markdown",
   "id": "educational-internet",
   "metadata": {},
   "source": [
    "stacking and voting classifier results the nearly same metrics but stacking is a little bit better based on weighted f1 score and f1-score for each individual category"
   ]
  }
 ],
 "metadata": {
  "kernelspec": {
   "display_name": "Python 3",
   "language": "python",
   "name": "python3"
  },
  "language_info": {
   "codemirror_mode": {
    "name": "ipython",
    "version": 3
   },
   "file_extension": ".py",
   "mimetype": "text/x-python",
   "name": "python",
   "nbconvert_exporter": "python",
   "pygments_lexer": "ipython3",
   "version": "3.8.5"
  }
 },
 "nbformat": 4,
 "nbformat_minor": 5
}
