{
 "cells": [
  {
   "cell_type": "code",
   "execution_count": 1,
   "id": "defined-picnic",
   "metadata": {},
   "outputs": [],
   "source": [
    "import pandas as pd\n",
    "import numpy as np\n",
    "import seaborn as sns\n",
    "import pickle\n",
    "from collections import Counter"
   ]
  },
  {
   "cell_type": "code",
   "execution_count": 2,
   "id": "recognized-victor",
   "metadata": {},
   "outputs": [],
   "source": [
    "def find_transitions(df):\n",
    "    \n",
    "    flight_pairs = list(zip(df['ORG_CITY_NM'], df['CITY_NM']))\n",
    "    pair_counts = Counter(flight_pairs)\n",
    "    # all_cities = set(list(df['ORG_CITY_NM'].unique()) + list(df['CITY_NM'].unique()))\n",
    "    shape = (len(all_cities_list), len(all_cities_list))\n",
    "    \n",
    "    transition_df = pd.DataFrame(np.zeros(shape),index=sorted(all_cities_list), columns=sorted(all_cities_list))\n",
    "    \n",
    "    for k, v in pair_counts.items():\n",
    "        transition_df.loc[k[0], k[1]] = v\n",
    "    \n",
    "    return transition_df.div(transition_df.sum(axis=1)+0.0000001, axis=0)"
   ]
  },
  {
   "cell_type": "code",
   "execution_count": 3,
   "id": "meaning-evanescence",
   "metadata": {},
   "outputs": [],
   "source": [
    "def find_customer_transitions(cust_df):\n",
    "    return find_transitions(cust_df)"
   ]
  },
  {
   "cell_type": "code",
   "execution_count": 4,
   "id": "enormous-cartoon",
   "metadata": {},
   "outputs": [],
   "source": [
    "def find_seasonal_transitions(df, season):\n",
    "    seasonal_df = df[df['season']==season]\n",
    "    return find_transitions(seasonal_df)"
   ]
  },
  {
   "cell_type": "code",
   "execution_count": 5,
   "id": "legal-press",
   "metadata": {},
   "outputs": [],
   "source": [
    "dtypes = {'CUST_KEY': 'int32',\n",
    "          'ORG_CITY_NM': 'category',\n",
    "          'CITY_NM': 'category',\n",
    "          'DOM_INTNL_FLAG': 'category',\n",
    "          'JRNY_TYP': 'category',\n",
    "          'TOP1_ORG_MKT_REGN': 'category',\n",
    "          'TOP1_ORG_CTY': 'category'}\n",
    "dates = ['SEG_LCL_DEP_DT']"
   ]
  },
  {
   "cell_type": "code",
   "execution_count": 6,
   "id": "executive-reply",
   "metadata": {},
   "outputs": [],
   "source": [
    "replace_for_errors= {'ABÃÂ°DJAN':'ABIDJAN',\n",
    "                     'AB�DJAN':'ABIDJAN',\n",
    "                     '─NGELHOLM': 'ANGELHOLM',\n",
    "                    'ADDÃÂ°S ABABA' : 'ADDIS ABABA',\n",
    "                     'ADD�S ABABA' : 'ADDIS ABABA',\n",
    "                     'ASUNCIÃÂ³N': 'ASUNCION',\n",
    "                     'CHAPEC≤': 'CHAPECO',\n",
    "                     'CÃÂºCUTA': 'CUCUTA',\n",
    "                     'HO CHÃÂ° MÃÂ°NH CÃÂ°TY (SAÃÂ°GO' : 'HO CHI MINH CITY (SAIGON)',\n",
    "                     'HO CH� M�NH C�TY (SA�GON)' : 'HO CHI MINH CITY (SAIGON)',\n",
    "                     'HAGΣT±A, GUAM': 'HAGATNA, GUAM',\n",
    "                     'ILHΘUS': 'ILHEUS',\n",
    "                     'LEFKOÃÅ¾A' : 'LEFKOSA',\n",
    "                     'LEFKO�A':'LEFKOSA',\n",
    "                     'LÃÂ°LONGWE': 'LILONGWE',\n",
    "                     'L�LONGWE': 'LILONGWE',\n",
    "                     'LINK÷PING': 'LINKOPING',\n",
    "                    'KÃÂ°LÃÂ°MANJARO' : 'KILIMANJARO',\n",
    "                     'K�L�MANJARO': 'KILIMANJARO',\n",
    "                    'MOGADÃÂ°SHU' : 'MOGADISHU',\n",
    "                     'MOGAD�SHU' : 'MOGADISHU',\n",
    "                     'JOÃÂ£O PESSOA': 'JOAO PESSOA',\n",
    "                     'MALÃÂ°': 'MALI',\n",
    "                     'MÃÂ°SURATA': 'MISURATA',\n",
    "                     'M�SURATA': 'MISURATA',\n",
    "                     'MAZAR-E SHARÃÂ°F': 'MAZAR-E SHARIF',\n",
    "                     'MAZAR-E SHAR�F': 'MAZAR-E SHARIF',\n",
    "                     'NOVOSÃÂ°BÃÂ°RSK': 'NOVOSIBIRSK',\n",
    "                     'NOVOS�B�RSK': 'NOVOSIBIRSK',\n",
    "                     'OVÃÂ°EDO': 'OVIEDO',\n",
    "                     'OV�EDO': 'OVIEDO',\n",
    "                     'OKÃÂ°NAWA': 'OKINAWA',\n",
    "                     'OK�NAWA': 'OKINAWA',\n",
    "                     'ÃÂ�STERSUND': 'OSTERSUND',\n",
    "                     'REYKJAVÃÂ­K': 'REYKJAVIK',\n",
    "                    'SÃÂ°NOP' : 'SINOP',\n",
    "                     'S�NOP': 'SINOP',\n",
    "                    'SULEYMANÃÂ°AH' : 'SULEYMANIAH',\n",
    "                     'SULEYMAN�AH': 'SULEYMANIAH',\n",
    "                    'SHÃÂ°RAZ' : 'SHIRAZ',\n",
    "                     'SH�RAZ': 'SHIRAZ',\n",
    "                    'SHARM EL-SHEÃÂ°KH' : 'SHARM EL-SHEIKH',\n",
    "                     'SHARM EL-SHE�KH': 'SHARM EL-SHEIKH',\n",
    "                     'SÃÂ£O LUÃÂ­S': 'SAO LUIS',\n",
    "                     'SEVÃÂ°LLE': 'SEVILLE',\n",
    "                     'SEV�LLE': 'SEVILLE',\n",
    "                     'SPLÃÂ°T':'SPLIT',\n",
    "                     'SPL�T':'SPLIT',\n",
    "                     'SÃÂ°ÃÂ°RT' : 'SIIRT',\n",
    "                     'S��RT':'SIIRT',\n",
    "                     'SΠO JOSΘ DO RIO PRETO': 'SAO JOSE DO RIO PRETO',\n",
    "                     'SAN JOSÃÂ© DEL CABO': 'SAN JOSE DEL CABO',\n",
    "                     'SAN PEDRO SULA\\t': 'SAN PEDRO SULA',                     \n",
    "                     'SAN ANDRΘS': 'SAN ANDROS',\n",
    "                    'TURÃÂ°N(TORÃÂ°NO)' : 'TURIN(TORINO)',\n",
    "                     'TUR�N(TOR�NO)': 'TURIN(TORINO)',\n",
    "                    'TEK\u001aRDAG' : 'TEKIRDAG',\n",
    "                     'TEK�RDAG': 'TEKIRDAG',\n",
    "                     'TAÃÂ°F': 'TAIF',\n",
    "                     'TA�F': 'TAIF',\n",
    "                     'TA\u001aPA': 'TAIPA',\n",
    "                     'UBERLÃÂ¢NDIA':'UBERLANDIA',\n",
    "                    'THESSALONÃÂ°KÃÂ°' : 'THESSALONIKI',\n",
    "                     'THESSALON�K�': 'THESSALONIKI',\n",
    "                    'VALENCÃÂ°A' : 'VALENCIA',\n",
    "                     'VALENC�A': 'VALENCIA',\n",
    "                    'VITÃÂ³RIA': 'VITORIA'}\n",
    "\n",
    "replace_for_errors = {k.lower(): v.lower() for k,v in replace_for_errors.items()}"
   ]
  },
  {
   "cell_type": "code",
   "execution_count": 7,
   "id": "deluxe-seattle",
   "metadata": {},
   "outputs": [
    {
     "data": {
      "text/plain": [
       "{12: 'winter',\n",
       " 1: 'winter',\n",
       " 2: 'winter',\n",
       " 3: 'spring',\n",
       " 4: 'spring',\n",
       " 5: 'spring',\n",
       " 6: 'summer',\n",
       " 7: 'summer',\n",
       " 8: 'summer',\n",
       " 9: 'fall',\n",
       " 10: 'fall',\n",
       " 11: 'fall'}"
      ]
     },
     "execution_count": 7,
     "metadata": {},
     "output_type": "execute_result"
    }
   ],
   "source": [
    "seasons = {'winter':[12,1,2], \n",
    "           'spring':[3,4,5], \n",
    "           'summer':[6,7,8],\n",
    "           'fall':[9,10,11]}\n",
    "\n",
    "season_mapping = {month:k for k,v in seasons.items() for month in v}\n",
    "season_mapping"
   ]
  },
  {
   "cell_type": "code",
   "execution_count": 8,
   "id": "structured-panama",
   "metadata": {},
   "outputs": [],
   "source": [
    "path = r'BIR_SONRAKI_DEST_VALSET.csv'\n",
    "cols = ['CUST_KEY', 'SEG_LCL_DEP_DT', 'CITY_NM', 'ORG_CITY_NM', 'TOP1_ORG_CTY']\n",
    "val = pd.read_csv(path, sep='|', parse_dates=dates, usecols=cols)"
   ]
  },
  {
   "cell_type": "code",
   "execution_count": 9,
   "id": "heard-universal",
   "metadata": {},
   "outputs": [],
   "source": [
    "for col in ['ORG_CITY_NM', 'CITY_NM', 'TOP1_ORG_CTY']:\n",
    "    val[col] = val[col].str.lower()"
   ]
  },
  {
   "cell_type": "code",
   "execution_count": 10,
   "id": "facial-partnership",
   "metadata": {},
   "outputs": [],
   "source": [
    "val.replace(replace_for_errors, inplace=True)"
   ]
  },
  {
   "cell_type": "code",
   "execution_count": 11,
   "id": "further-semiconductor",
   "metadata": {},
   "outputs": [],
   "source": [
    "val['season'] = val['SEG_LCL_DEP_DT'].apply(lambda x: season_mapping[x.month]).astype('category')"
   ]
  },
  {
   "cell_type": "code",
   "execution_count": 12,
   "id": "removable-aerospace",
   "metadata": {},
   "outputs": [],
   "source": [
    "val.dropna(inplace=True)"
   ]
  },
  {
   "cell_type": "code",
   "execution_count": 13,
   "id": "intensive-lounge",
   "metadata": {},
   "outputs": [
    {
     "data": {
      "text/html": [
       "<div>\n",
       "<style scoped>\n",
       "    .dataframe tbody tr th:only-of-type {\n",
       "        vertical-align: middle;\n",
       "    }\n",
       "\n",
       "    .dataframe tbody tr th {\n",
       "        vertical-align: top;\n",
       "    }\n",
       "\n",
       "    .dataframe thead th {\n",
       "        text-align: right;\n",
       "    }\n",
       "</style>\n",
       "<table border=\"1\" class=\"dataframe\">\n",
       "  <thead>\n",
       "    <tr style=\"text-align: right;\">\n",
       "      <th></th>\n",
       "      <th>CUST_KEY</th>\n",
       "      <th>SEG_LCL_DEP_DT</th>\n",
       "      <th>CITY_NM</th>\n",
       "      <th>ORG_CITY_NM</th>\n",
       "      <th>TOP1_ORG_CTY</th>\n",
       "      <th>season</th>\n",
       "    </tr>\n",
       "  </thead>\n",
       "  <tbody>\n",
       "    <tr>\n",
       "      <th>0</th>\n",
       "      <td>5238184</td>\n",
       "      <td>2021-06-19</td>\n",
       "      <td>ankara</td>\n",
       "      <td>blantyre</td>\n",
       "      <td>ankara</td>\n",
       "      <td>summer</td>\n",
       "    </tr>\n",
       "    <tr>\n",
       "      <th>1</th>\n",
       "      <td>5435557</td>\n",
       "      <td>2021-05-22</td>\n",
       "      <td>istanbul</td>\n",
       "      <td>ankara</td>\n",
       "      <td>istanbul</td>\n",
       "      <td>spring</td>\n",
       "    </tr>\n",
       "    <tr>\n",
       "      <th>2</th>\n",
       "      <td>5528575</td>\n",
       "      <td>2021-06-30</td>\n",
       "      <td>adana</td>\n",
       "      <td>istanbul</td>\n",
       "      <td>adana</td>\n",
       "      <td>summer</td>\n",
       "    </tr>\n",
       "    <tr>\n",
       "      <th>3</th>\n",
       "      <td>5609847</td>\n",
       "      <td>2021-03-02</td>\n",
       "      <td>istanbul</td>\n",
       "      <td>malatya</td>\n",
       "      <td>istanbul</td>\n",
       "      <td>spring</td>\n",
       "    </tr>\n",
       "    <tr>\n",
       "      <th>4</th>\n",
       "      <td>5719611</td>\n",
       "      <td>2021-03-19</td>\n",
       "      <td>ankara</td>\n",
       "      <td>suleymaniah</td>\n",
       "      <td>ankara</td>\n",
       "      <td>spring</td>\n",
       "    </tr>\n",
       "  </tbody>\n",
       "</table>\n",
       "</div>"
      ],
      "text/plain": [
       "   CUST_KEY SEG_LCL_DEP_DT   CITY_NM  ORG_CITY_NM TOP1_ORG_CTY  season\n",
       "0   5238184     2021-06-19    ankara     blantyre       ankara  summer\n",
       "1   5435557     2021-05-22  istanbul       ankara     istanbul  spring\n",
       "2   5528575     2021-06-30     adana     istanbul        adana  summer\n",
       "3   5609847     2021-03-02  istanbul      malatya     istanbul  spring\n",
       "4   5719611     2021-03-19    ankara  suleymaniah       ankara  spring"
      ]
     },
     "execution_count": 13,
     "metadata": {},
     "output_type": "execute_result"
    }
   ],
   "source": [
    "val.head()"
   ]
  },
  {
   "cell_type": "code",
   "execution_count": 14,
   "id": "alone-humidity",
   "metadata": {},
   "outputs": [],
   "source": [
    "alt_cities_path = r'AlternatifSehirler_BirSonrakiDestinasyonTahminleme.xlsx'\n",
    "\n",
    "replace_for_alter_cities = {'ordu_giresun':'ordu-giresun',\n",
    "                            'dar_es_salaam':'dar es salaam',\n",
    "                            'dalaman_mugla':'dalaman (mugla)',\n",
    "                            'tel_aviv':'tel aviv',\n",
    "                            'sharm_el_sheikh':'sharm el-sheikh',\n",
    "                            'abu_dhabi':'abu dhabi',\n",
    "                           'basel_mulhouse':'basel/mulhouse',\n",
    "                           'amasya___merzifon':'amasya/merzifon',\n",
    "                           'balikesir_edremit':'balikesir edremit'}\n",
    "\n",
    "alter_cities = pd.read_excel(alt_cities_path, usecols=['City_1', 'City_2'])\n",
    "\n",
    "for col in alter_cities.columns:\n",
    "    alter_cities[col] = alter_cities[col].str.lower()\n",
    "alter_cities.replace(replace_for_alter_cities, inplace=True)"
   ]
  },
  {
   "cell_type": "code",
   "execution_count": null,
   "id": "electric-latino",
   "metadata": {},
   "outputs": [],
   "source": [
    "import pickle\n",
    "with open(\"general_transitions.p\",\"rb\") as f:\n",
    "    general_transitions = pickle.load(f)\n",
    "with open(\"seasonal_transitions.p\",\"rb\") as f:\n",
    "    seasonal_transitions = pickle.load(f)"
   ]
  },
  {
   "cell_type": "code",
   "execution_count": null,
   "id": "alleged-criterion",
   "metadata": {},
   "outputs": [],
   "source": [
    "with open(\"train_df.p\",\"rb\") as f:\n",
    "    df = pickle.load(f)"
   ]
  },
  {
   "cell_type": "code",
   "execution_count": 17,
   "id": "original-capitol",
   "metadata": {},
   "outputs": [],
   "source": [
    "# finding all unique cities\n",
    "all_cities_list = list(general_transitions.index)"
   ]
  },
  {
   "cell_type": "code",
   "execution_count": 18,
   "id": "executed-sailing",
   "metadata": {},
   "outputs": [],
   "source": [
    "def add_dataframes(general_df, seasonal_df, customer_df):\n",
    "    \n",
    "    tmp_df = pd.DataFrame(np.zeros(general_df.shape), \n",
    "                          columns=general_df.columns, index=general_df.index)\n",
    "    seasonal_df = seasonal_df.add(tmp_df, fill_value=0.0)\n",
    "    customer_df = customer_df.add(tmp_df, fill_value=0.0)\n",
    "    \n",
    "    return general_df + seasonal_df + customer_df"
   ]
  },
  {
   "cell_type": "code",
   "execution_count": 19,
   "id": "packed-julian",
   "metadata": {},
   "outputs": [],
   "source": [
    "def predict(row, pred_dep='origin', season=None, n_pred=7, pred_type='only_cities', filter_alternate=True):\n",
    "    \"\"\"\n",
    "    Parameters:\n",
    "    -----------\n",
    "    row: Series\n",
    "        Data point to be predicted\n",
    "        \n",
    "    pred_dep: {'origin', 'top_city'}, default 'origin'\n",
    "        Which city will be used for predicting the next flight. \n",
    "        'origin' refers to using test flight's origin city.\n",
    "        'top_city' refers to using 'TOP1_ORG_CTY' of the customer.\n",
    "        \n",
    "    season: {None, 'winter', 'summer', 'spring', 'fall'}, default None\n",
    "        Season param for using seasonal transition matrix. \n",
    "        None refers to using test flight's season\n",
    "        \n",
    "    n_pred: int, default 7\n",
    "        Number of cities that model suggest to the customer.\n",
    "        \n",
    "    pred_type: {'only_cities', 'with_probs'}, default 'only_cities'\n",
    "        'only_cities': returns only the top predicted cities\n",
    "        'with_probs': returns predictions with probabilities\n",
    "    \n",
    "    filter_alternate: {True, False}, default True\n",
    "        filters alternative cities from suggestions\n",
    "    Returns:\n",
    "    --------\n",
    "    final_preds: dict or list\n",
    "        if pred_type param is 'only_cities' it returns only predicted cities (list)\n",
    "        if pred_type param is 'with_probs' it returns predicted cities with probabilities (dict)\n",
    "        \n",
    "    \"\"\"\n",
    "    \n",
    "    cust_key = row['CUST_KEY']\n",
    "    cust_df = df[df['CUST_KEY']==cust_key]\n",
    "\n",
    "    # customer transitions\n",
    "    cust_transitions = find_customer_transitions(cust_df)\n",
    "\n",
    "    # seasonal customer transitions\n",
    "    if season==None:\n",
    "        season = row['season']\n",
    "    if not season in seasons.keys():\n",
    "        print('Wrong season')\n",
    "        return False\n",
    "    cust_seasonal_transitions = find_seasonal_transitions(cust_df, season)\n",
    "\n",
    "    # weights\n",
    "    w1 = 1\n",
    "    w2 = len(cust_df)\n",
    "    w3 = 2*w2\n",
    "    total_sum = (w1+w2+w3)\n",
    "    w1 = w1/total_sum\n",
    "    w2 = w2/total_sum\n",
    "    w3 = w3/total_sum\n",
    "    \n",
    "\n",
    "    if pred_dep == 'origin':\n",
    "        departure = row['ORG_CITY_NM']\n",
    "    elif pred_dep == 'top_city':\n",
    "        departure = row['TOP1_ORG_CTY']\n",
    "    else:\n",
    "        print('Season param is wrong!')\n",
    "        return False   \n",
    "    \n",
    "    # final_transitions = add_dataframes(w1*general_transitions, w2*seasonal_transitions[season], \n",
    "    #                                   w3*cust_seasonal_transitions)\n",
    "    final_transitions = w1*general_transitions.values+w2*seasonal_transitions[season].values+w3*cust_seasonal_transitions.values\n",
    "    final_transitions = pd.DataFrame(final_transitions, index=general_transitions.index, columns=general_transitions.index) \n",
    "    # final_transitions.loc[departure].sort_values(ascending=False)[0:n_pred]\n",
    "    \n",
    "    preds = final_transitions.loc[departure].sort_values(ascending=False)\n",
    "    filtered_preds = []\n",
    "    alternative_cities = []\n",
    "    for city, prob in preds.items():\n",
    "        \n",
    "        if not city in alternative_cities:\n",
    "            filtered_preds.append((city, prob))\n",
    "            alternative_cities.extend(alter_cities.loc[alter_cities['City_1']==city, 'City_2'].values)\n",
    "            \n",
    "        if len(filtered_preds)>=n_pred:\n",
    "            break\n",
    "            \n",
    "    final_preds = dict(filtered_preds)\n",
    "    \n",
    "    if pred_type == 'only_cities':\n",
    "        return list(final_preds.keys())\n",
    "    elif pred_type == 'with_probs':\n",
    "        return final_preds\n",
    "    else:\n",
    "        print('Wrong return type!')\n",
    "        return False"
   ]
  },
  {
   "cell_type": "code",
   "execution_count": 20,
   "id": "virtual-attempt",
   "metadata": {},
   "outputs": [],
   "source": [
    "def calculate_accuracy(y_test, y_pred):\n",
    "    trues = 0\n",
    "    for true, pred in zip(y_test, y_pred):\n",
    "        if true in pred:\n",
    "            trues += 1\n",
    "    return trues/len(y_test)"
   ]
  },
  {
   "cell_type": "code",
   "execution_count": 22,
   "id": "distinguished-leone",
   "metadata": {},
   "outputs": [],
   "source": [
    "import random\n",
    "sample_indexes = random.sample(list(val.index), 100_000)"
   ]
  },
  {
   "cell_type": "code",
   "execution_count": 26,
   "id": "sound-pressure",
   "metadata": {},
   "outputs": [
    {
     "name": "stdout",
     "output_type": "stream",
     "text": [
      "0 :  0.7588010460671897\n",
      "10000 :  0.76\n",
      "20000 :  0.7533514766656587\n",
      "30000 :  0.7529222087867795\n",
      "40000 :  0.7434243676307568\n",
      "50000 :  0.7487158827676503\n",
      "60000 :  0.7553855445943225\n",
      "70000 :  0.6653857821822227\n",
      "80000 :  0.6883077544426495\n",
      "90000 :  0.7538027601490883\n"
     ]
    }
   ],
   "source": [
    "sample_size = 10_000\n",
    "final_results = {}\n",
    "final_accs = {}\n",
    "\n",
    "for i in range(0, 100_000, sample_size):\n",
    "    \n",
    "    data = val.loc[sample_indexes[i: i+sample_size]]\n",
    "    results = data.apply(predict, axis=1, pred_type='only_cities', pred_dep='origin')\n",
    "    acc = calculate_accuracy(data['CITY_NM'], results)\n",
    "    final_results[i] = results\n",
    "    final_accs[i] = acc\n",
    "    print(i, ': ', acc)"
   ]
  },
  {
   "cell_type": "code",
   "execution_count": 30,
   "id": "opponent-brief",
   "metadata": {},
   "outputs": [
    {
     "data": {
      "text/plain": [
       "(0.7380096823286318, 0.031326354600529294)"
      ]
     },
     "execution_count": 30,
     "metadata": {},
     "output_type": "execute_result"
    }
   ],
   "source": [
    "means = np.array(list(final_accs.values()))\n",
    "means.mean(), means.std()"
   ]
  },
  {
   "cell_type": "code",
   "execution_count": 42,
   "id": "present-medline",
   "metadata": {},
   "outputs": [
    {
     "name": "stderr",
     "output_type": "stream",
     "text": [
      "<ipython-input-42-f5b7f9ca5cd9>:1: SettingWithCopyWarning: \n",
      "A value is trying to be set on a copy of a slice from a DataFrame.\n",
      "Try using .loc[row_indexer,col_indexer] = value instead\n",
      "\n",
      "See the caveats in the documentation: https://pandas.pydata.org/pandas-docs/stable/user_guide/indexing.html#returning-a-view-versus-a-copy\n",
      "  data['results'] = results\n"
     ]
    }
   ],
   "source": [
    "data['results'] = results"
   ]
  },
  {
   "cell_type": "code",
   "execution_count": 46,
   "id": "sophisticated-management",
   "metadata": {
    "scrolled": false
   },
   "outputs": [
    {
     "data": {
      "text/plain": [
       "0.7538027601490883"
      ]
     },
     "execution_count": 46,
     "metadata": {},
     "output_type": "execute_result"
    }
   ],
   "source": [
    "calculate_accuracy(data['CITY_NM'],data['results'])"
   ]
  },
  {
   "cell_type": "code",
   "execution_count": null,
   "id": "compressed-novel",
   "metadata": {},
   "outputs": [],
   "source": []
  }
 ],
 "metadata": {
  "kernelspec": {
   "display_name": "Python 3 (ipykernel)",
   "language": "python",
   "name": "python3"
  },
  "language_info": {
   "codemirror_mode": {
    "name": "ipython",
    "version": 3
   },
   "file_extension": ".py",
   "mimetype": "text/x-python",
   "name": "python",
   "nbconvert_exporter": "python",
   "pygments_lexer": "ipython3",
   "version": "3.8.12"
  }
 },
 "nbformat": 4,
 "nbformat_minor": 5
}
