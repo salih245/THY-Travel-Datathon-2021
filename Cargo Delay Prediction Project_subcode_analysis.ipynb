{
 "cells": [
  {
   "cell_type": "code",
   "execution_count": 1,
   "id": "honey-pathology",
   "metadata": {},
   "outputs": [
    {
     "name": "stdout",
     "output_type": "stream",
     "text": [
      "Couldn't find program: 'False'\n"
     ]
    }
   ],
   "source": [
    "%%script False\n",
    "# installs for new libraries\n",
    "pip install phik\n",
    "pip install pandas-profiling\n",
    "pip install missingno\n",
    "pip install plotly"
   ]
  },
  {
   "cell_type": "code",
   "execution_count": 1,
   "id": "numerous-excuse",
   "metadata": {},
   "outputs": [],
   "source": [
    "import pandas as pd\n",
    "from datetime import datetime, timedelta\n",
    "import numpy as np\n",
    "import seaborn as sns\n",
    "import matplotlib.pyplot as plt\n",
    "#from pandas_profiling import ProfileReport\n",
    "import missingno as msgn\n",
    "#from phik.report import plot_correlation_matrix\n",
    "import seaborn as sns\n",
    "import numpy as np\n",
    "import matplotlib.pyplot as plt\n",
    "import statsmodels.api as sm\n",
    "import pylab as py\n",
    "import plotly.express as px\n",
    "from collections import Counter\n",
    "from sklearn.model_selection import train_test_split\n",
    "\n",
    "from sklearn.model_selection import cross_val_score\n",
    "from sklearn.feature_selection import f_classif\n",
    "from sklearn.model_selection import StratifiedKFold\n",
    "\n",
    "from sklearn.preprocessing import PowerTransformer\n",
    "\n",
    "from sklearn.compose import ColumnTransformer\n",
    "from sklearn.pipeline import Pipeline\n",
    "from sklearn.impute import SimpleImputer\n",
    "from sklearn.preprocessing import StandardScaler, OneHotEncoder\n",
    "from sklearn.linear_model import LogisticRegression\n",
    "from sklearn.model_selection import GridSearchCV\n",
    "\n",
    "from sklearn.metrics import classification_report, accuracy_score, confusion_matrix, ConfusionMatrixDisplay\n",
    "from sklearn.utils.class_weight import compute_class_weight\n",
    "import numpy as np\n",
    "from sklearn.ensemble import RandomForestClassifier\n",
    "from sklearn.model_selection import train_test_split\n",
    "#import shap\n",
    "\n",
    "from sklearn.feature_selection import SelectKBest\n",
    "from sklearn.feature_selection import mutual_info_classif\n",
    "from sklearn.model_selection import cross_validate\n",
    "\n",
    "from sklearn.metrics import roc_curve\n",
    "from sklearn.metrics import precision_recall_curve\n",
    "from matplotlib import pyplot\n",
    "from numpy import argmax\n",
    "from sklearn.metrics import f1_score\n",
    "from sklearn.ensemble import RandomForestClassifier\n",
    "from sklearn.ensemble import ExtraTreesClassifier\n",
    "#from lightgbm import LGBMClassifier\n",
    "from xgboost import XGBClassifier\n",
    "from sklearn.metrics import f1_score"
   ]
  },
  {
   "cell_type": "code",
   "execution_count": 2,
   "id": "skilled-robert",
   "metadata": {},
   "outputs": [
    {
     "data": {
      "text/html": [
       "<div>\n",
       "<style scoped>\n",
       "    .dataframe tbody tr th:only-of-type {\n",
       "        vertical-align: middle;\n",
       "    }\n",
       "\n",
       "    .dataframe tbody tr th {\n",
       "        vertical-align: top;\n",
       "    }\n",
       "\n",
       "    .dataframe thead th {\n",
       "        text-align: right;\n",
       "    }\n",
       "</style>\n",
       "<table border=\"1\" class=\"dataframe\">\n",
       "  <thead>\n",
       "    <tr style=\"text-align: right;\">\n",
       "      <th></th>\n",
       "      <th>FLT_NO</th>\n",
       "      <th>ACT_CUS_FLE</th>\n",
       "      <th>FLEET</th>\n",
       "      <th>FLEET_FAM</th>\n",
       "      <th>FLEET_FAM_GRP</th>\n",
       "      <th>FLEET_BODY_TYP</th>\n",
       "      <th>FLT_TYP</th>\n",
       "      <th>LEG_DEP_AP</th>\n",
       "      <th>LEG_DEP_GMT_DT</th>\n",
       "      <th>LEG_DEP_GMT_TM</th>\n",
       "      <th>...</th>\n",
       "      <th>DELAY2_SUB_CODE</th>\n",
       "      <th>DELAY3_SUB_CODE</th>\n",
       "      <th>DELAY4_SUB_CODE</th>\n",
       "      <th>DELAY_ROOT_ARR_AP</th>\n",
       "      <th>DELAY_ROOT_DEP_AP</th>\n",
       "      <th>DELAY1_DURATION</th>\n",
       "      <th>DELAY2_DURATION</th>\n",
       "      <th>DELAY3_DURATION</th>\n",
       "      <th>DELAY4_DURATION</th>\n",
       "      <th>TOT_DELAY_DURATION</th>\n",
       "    </tr>\n",
       "  </thead>\n",
       "  <tbody>\n",
       "    <tr>\n",
       "      <th>0</th>\n",
       "      <td>FL7064</td>\n",
       "      <td>FL-45X</td>\n",
       "      <td>TX750-30</td>\n",
       "      <td>TX750</td>\n",
       "      <td>TX750</td>\n",
       "      <td>B1</td>\n",
       "      <td>TYP1</td>\n",
       "      <td>IST</td>\n",
       "      <td>20210509</td>\n",
       "      <td>1205</td>\n",
       "      <td>...</td>\n",
       "      <td>NaN</td>\n",
       "      <td>NaN</td>\n",
       "      <td>NaN</td>\n",
       "      <td>?</td>\n",
       "      <td>?</td>\n",
       "      <td>0</td>\n",
       "      <td>0</td>\n",
       "      <td>0</td>\n",
       "      <td>0</td>\n",
       "      <td>0</td>\n",
       "    </tr>\n",
       "    <tr>\n",
       "      <th>1</th>\n",
       "      <td>FL7064</td>\n",
       "      <td>FL-45X</td>\n",
       "      <td>TX750-30</td>\n",
       "      <td>TX750</td>\n",
       "      <td>TX750</td>\n",
       "      <td>B1</td>\n",
       "      <td>TYP1</td>\n",
       "      <td>IST</td>\n",
       "      <td>20210512</td>\n",
       "      <td>1526</td>\n",
       "      <td>...</td>\n",
       "      <td>NaN</td>\n",
       "      <td>NaN</td>\n",
       "      <td>NaN</td>\n",
       "      <td>?</td>\n",
       "      <td>?</td>\n",
       "      <td>0</td>\n",
       "      <td>0</td>\n",
       "      <td>0</td>\n",
       "      <td>0</td>\n",
       "      <td>0</td>\n",
       "    </tr>\n",
       "    <tr>\n",
       "      <th>2</th>\n",
       "      <td>FL7064</td>\n",
       "      <td>FL-45X</td>\n",
       "      <td>TX750-30</td>\n",
       "      <td>TX750</td>\n",
       "      <td>TX750</td>\n",
       "      <td>B1</td>\n",
       "      <td>TYP1</td>\n",
       "      <td>IST</td>\n",
       "      <td>20210516</td>\n",
       "      <td>1209</td>\n",
       "      <td>...</td>\n",
       "      <td>NaN</td>\n",
       "      <td>NaN</td>\n",
       "      <td>NaN</td>\n",
       "      <td>?</td>\n",
       "      <td>?</td>\n",
       "      <td>0</td>\n",
       "      <td>0</td>\n",
       "      <td>0</td>\n",
       "      <td>0</td>\n",
       "      <td>0</td>\n",
       "    </tr>\n",
       "  </tbody>\n",
       "</table>\n",
       "<p>3 rows × 28 columns</p>\n",
       "</div>"
      ],
      "text/plain": [
       "   FLT_NO ACT_CUS_FLE     FLEET FLEET_FAM FLEET_FAM_GRP FLEET_BODY_TYP  \\\n",
       "0  FL7064      FL-45X  TX750-30     TX750         TX750             B1   \n",
       "1  FL7064      FL-45X  TX750-30     TX750         TX750             B1   \n",
       "2  FL7064      FL-45X  TX750-30     TX750         TX750             B1   \n",
       "\n",
       "  FLT_TYP LEG_DEP_AP  LEG_DEP_GMT_DT  LEG_DEP_GMT_TM  ... DELAY2_SUB_CODE  \\\n",
       "0    TYP1        IST        20210509            1205  ...             NaN   \n",
       "1    TYP1        IST        20210512            1526  ...             NaN   \n",
       "2    TYP1        IST        20210516            1209  ...             NaN   \n",
       "\n",
       "  DELAY3_SUB_CODE DELAY4_SUB_CODE  DELAY_ROOT_ARR_AP  DELAY_ROOT_DEP_AP  \\\n",
       "0             NaN             NaN                  ?                  ?   \n",
       "1             NaN             NaN                  ?                  ?   \n",
       "2             NaN             NaN                  ?                  ?   \n",
       "\n",
       "  DELAY1_DURATION DELAY2_DURATION DELAY3_DURATION DELAY4_DURATION  \\\n",
       "0               0               0               0               0   \n",
       "1               0               0               0               0   \n",
       "2               0               0               0               0   \n",
       "\n",
       "  TOT_DELAY_DURATION  \n",
       "0                  0  \n",
       "1                  0  \n",
       "2                  0  \n",
       "\n",
       "[3 rows x 28 columns]"
      ]
     },
     "execution_count": 2,
     "metadata": {},
     "output_type": "execute_result"
    }
   ],
   "source": [
    "df = pd.read_excel(r'CARGO_FOTP_DATASET.xlsx')\n",
    "df.head(3)"
   ]
  },
  {
   "cell_type": "code",
   "execution_count": 3,
   "id": "proof-commons",
   "metadata": {},
   "outputs": [
    {
     "data": {
      "text/plain": [
       "(99546, 28)"
      ]
     },
     "execution_count": 3,
     "metadata": {},
     "output_type": "execute_result"
    }
   ],
   "source": [
    "df.shape"
   ]
  },
  {
   "cell_type": "code",
   "execution_count": 4,
   "id": "headed-committee",
   "metadata": {},
   "outputs": [
    {
     "name": "stdout",
     "output_type": "stream",
     "text": [
      "<class 'pandas.core.frame.DataFrame'>\n",
      "RangeIndex: 99546 entries, 0 to 99545\n",
      "Data columns (total 28 columns):\n",
      " #   Column               Non-Null Count  Dtype \n",
      "---  ------               --------------  ----- \n",
      " 0   FLT_NO               99546 non-null  object\n",
      " 1   ACT_CUS_FLE          99546 non-null  object\n",
      " 2   FLEET                99546 non-null  object\n",
      " 3   FLEET_FAM            99546 non-null  object\n",
      " 4   FLEET_FAM_GRP        99546 non-null  object\n",
      " 5   FLEET_BODY_TYP       99546 non-null  object\n",
      " 6   FLT_TYP              99546 non-null  object\n",
      " 7   LEG_DEP_AP           99546 non-null  object\n",
      " 8   LEG_DEP_GMT_DT       99546 non-null  int64 \n",
      " 9   LEG_DEP_GMT_TM       99546 non-null  int64 \n",
      " 10  LEG_DEP_CNTRY_COD    99512 non-null  object\n",
      " 11  LEG_DEP_RGN_COD      95771 non-null  object\n",
      " 12  LEG_ARR_AP           99546 non-null  object\n",
      " 13  LEG_ARR_GMT_DT       99546 non-null  int64 \n",
      " 14  LEG_ARR_GMT_TM       99546 non-null  int64 \n",
      " 15  LEG_ARR_CNTRY_COD    99512 non-null  object\n",
      " 16  LEG_ACT_ARR_RGN_COD  95769 non-null  object\n",
      " 17  DELAY1_SUB_CODE      63399 non-null  object\n",
      " 18  DELAY2_SUB_CODE      35947 non-null  object\n",
      " 19  DELAY3_SUB_CODE      10146 non-null  object\n",
      " 20  DELAY4_SUB_CODE      1536 non-null   object\n",
      " 21  DELAY_ROOT_ARR_AP    99546 non-null  object\n",
      " 22  DELAY_ROOT_DEP_AP    99546 non-null  object\n",
      " 23  DELAY1_DURATION      99546 non-null  int64 \n",
      " 24  DELAY2_DURATION      99546 non-null  int64 \n",
      " 25  DELAY3_DURATION      99546 non-null  int64 \n",
      " 26  DELAY4_DURATION      99546 non-null  int64 \n",
      " 27  TOT_DELAY_DURATION   99546 non-null  int64 \n",
      "dtypes: int64(9), object(19)\n",
      "memory usage: 21.3+ MB\n"
     ]
    }
   ],
   "source": [
    "df.info()"
   ]
  },
  {
   "cell_type": "code",
   "execution_count": 12,
   "id": "statutory-basement",
   "metadata": {},
   "outputs": [
    {
     "data": {
      "text/html": [
       "<div>\n",
       "<style scoped>\n",
       "    .dataframe tbody tr th:only-of-type {\n",
       "        vertical-align: middle;\n",
       "    }\n",
       "\n",
       "    .dataframe tbody tr th {\n",
       "        vertical-align: top;\n",
       "    }\n",
       "\n",
       "    .dataframe thead th {\n",
       "        text-align: right;\n",
       "    }\n",
       "</style>\n",
       "<table border=\"1\" class=\"dataframe\">\n",
       "  <thead>\n",
       "    <tr style=\"text-align: right;\">\n",
       "      <th></th>\n",
       "      <th>LEG_DEP_GMT_DT</th>\n",
       "      <th>LEG_DEP_GMT_TM</th>\n",
       "      <th>LEG_ARR_GMT_DT</th>\n",
       "      <th>LEG_ARR_GMT_TM</th>\n",
       "      <th>DELAY1_DURATION</th>\n",
       "      <th>DELAY2_DURATION</th>\n",
       "      <th>DELAY3_DURATION</th>\n",
       "      <th>DELAY4_DURATION</th>\n",
       "      <th>TOT_DELAY_DURATION</th>\n",
       "    </tr>\n",
       "  </thead>\n",
       "  <tbody>\n",
       "    <tr>\n",
       "      <th>count</th>\n",
       "      <td>9.954600e+04</td>\n",
       "      <td>99546.000000</td>\n",
       "      <td>9.954600e+04</td>\n",
       "      <td>99546.000000</td>\n",
       "      <td>99546.000000</td>\n",
       "      <td>99546.000000</td>\n",
       "      <td>99546.000000</td>\n",
       "      <td>99546.000000</td>\n",
       "      <td>99546.000000</td>\n",
       "    </tr>\n",
       "    <tr>\n",
       "      <th>mean</th>\n",
       "      <td>2.019249e+07</td>\n",
       "      <td>1201.375203</td>\n",
       "      <td>2.019230e+07</td>\n",
       "      <td>1208.110803</td>\n",
       "      <td>112.058486</td>\n",
       "      <td>12.377192</td>\n",
       "      <td>2.249915</td>\n",
       "      <td>0.353264</td>\n",
       "      <td>127.038856</td>\n",
       "    </tr>\n",
       "    <tr>\n",
       "      <th>std</th>\n",
       "      <td>1.289824e+04</td>\n",
       "      <td>668.607877</td>\n",
       "      <td>6.528663e+04</td>\n",
       "      <td>666.799934</td>\n",
       "      <td>277.712802</td>\n",
       "      <td>67.957361</td>\n",
       "      <td>24.556694</td>\n",
       "      <td>8.632271</td>\n",
       "      <td>297.532552</td>\n",
       "    </tr>\n",
       "    <tr>\n",
       "      <th>min</th>\n",
       "      <td>2.017010e+07</td>\n",
       "      <td>0.000000</td>\n",
       "      <td>0.000000e+00</td>\n",
       "      <td>0.000000</td>\n",
       "      <td>0.000000</td>\n",
       "      <td>0.000000</td>\n",
       "      <td>0.000000</td>\n",
       "      <td>0.000000</td>\n",
       "      <td>0.000000</td>\n",
       "    </tr>\n",
       "    <tr>\n",
       "      <th>25%</th>\n",
       "      <td>2.018083e+07</td>\n",
       "      <td>618.000000</td>\n",
       "      <td>2.018083e+07</td>\n",
       "      <td>646.000000</td>\n",
       "      <td>0.000000</td>\n",
       "      <td>0.000000</td>\n",
       "      <td>0.000000</td>\n",
       "      <td>0.000000</td>\n",
       "      <td>0.000000</td>\n",
       "    </tr>\n",
       "    <tr>\n",
       "      <th>50%</th>\n",
       "      <td>2.019112e+07</td>\n",
       "      <td>1235.000000</td>\n",
       "      <td>2.019112e+07</td>\n",
       "      <td>1226.000000</td>\n",
       "      <td>14.000000</td>\n",
       "      <td>0.000000</td>\n",
       "      <td>0.000000</td>\n",
       "      <td>0.000000</td>\n",
       "      <td>20.000000</td>\n",
       "    </tr>\n",
       "    <tr>\n",
       "      <th>75%</th>\n",
       "      <td>2.020093e+07</td>\n",
       "      <td>1757.000000</td>\n",
       "      <td>2.020093e+07</td>\n",
       "      <td>1757.000000</td>\n",
       "      <td>94.000000</td>\n",
       "      <td>7.000000</td>\n",
       "      <td>0.000000</td>\n",
       "      <td>0.000000</td>\n",
       "      <td>116.000000</td>\n",
       "    </tr>\n",
       "    <tr>\n",
       "      <th>max</th>\n",
       "      <td>2.021063e+07</td>\n",
       "      <td>2359.000000</td>\n",
       "      <td>2.021070e+07</td>\n",
       "      <td>2359.000000</td>\n",
       "      <td>7596.000000</td>\n",
       "      <td>5362.000000</td>\n",
       "      <td>2880.000000</td>\n",
       "      <td>1159.000000</td>\n",
       "      <td>7596.000000</td>\n",
       "    </tr>\n",
       "  </tbody>\n",
       "</table>\n",
       "</div>"
      ],
      "text/plain": [
       "       LEG_DEP_GMT_DT  LEG_DEP_GMT_TM  LEG_ARR_GMT_DT  LEG_ARR_GMT_TM  \\\n",
       "count    9.954600e+04    99546.000000    9.954600e+04    99546.000000   \n",
       "mean     2.019249e+07     1201.375203    2.019230e+07     1208.110803   \n",
       "std      1.289824e+04      668.607877    6.528663e+04      666.799934   \n",
       "min      2.017010e+07        0.000000    0.000000e+00        0.000000   \n",
       "25%      2.018083e+07      618.000000    2.018083e+07      646.000000   \n",
       "50%      2.019112e+07     1235.000000    2.019112e+07     1226.000000   \n",
       "75%      2.020093e+07     1757.000000    2.020093e+07     1757.000000   \n",
       "max      2.021063e+07     2359.000000    2.021070e+07     2359.000000   \n",
       "\n",
       "       DELAY1_DURATION  DELAY2_DURATION  DELAY3_DURATION  DELAY4_DURATION  \\\n",
       "count     99546.000000     99546.000000     99546.000000     99546.000000   \n",
       "mean        112.058486        12.377192         2.249915         0.353264   \n",
       "std         277.712802        67.957361        24.556694         8.632271   \n",
       "min           0.000000         0.000000         0.000000         0.000000   \n",
       "25%           0.000000         0.000000         0.000000         0.000000   \n",
       "50%          14.000000         0.000000         0.000000         0.000000   \n",
       "75%          94.000000         7.000000         0.000000         0.000000   \n",
       "max        7596.000000      5362.000000      2880.000000      1159.000000   \n",
       "\n",
       "       TOT_DELAY_DURATION  \n",
       "count        99546.000000  \n",
       "mean           127.038856  \n",
       "std            297.532552  \n",
       "min              0.000000  \n",
       "25%              0.000000  \n",
       "50%             20.000000  \n",
       "75%            116.000000  \n",
       "max           7596.000000  "
      ]
     },
     "execution_count": 12,
     "metadata": {},
     "output_type": "execute_result"
    }
   ],
   "source": [
    "df.describe()"
   ]
  },
  {
   "cell_type": "code",
   "execution_count": 14,
   "id": "bcd626b2",
   "metadata": {},
   "outputs": [
    {
     "data": {
      "text/plain": [
       "93Z    36277\n",
       "89Z     6702\n",
       "26C     2822\n",
       "22E     1521\n",
       "09C      944\n",
       "       ...  \n",
       "85T        1\n",
       "11O        1\n",
       "66E        1\n",
       "28B        1\n",
       "73A        1\n",
       "Name: DELAY1_SUB_CODE, Length: 353, dtype: int64"
      ]
     },
     "execution_count": 14,
     "metadata": {},
     "output_type": "execute_result"
    }
   ],
   "source": [
    "df['DELAY1_SUB_CODE'].value_counts()"
   ]
  },
  {
   "cell_type": "code",
   "execution_count": 15,
   "id": "4e4a0547",
   "metadata": {},
   "outputs": [
    {
     "data": {
      "text/plain": [
       "63399"
      ]
     },
     "execution_count": 15,
     "metadata": {},
     "output_type": "execute_result"
    }
   ],
   "source": [
    "sum(df['DELAY1_SUB_CODE'].value_counts())"
   ]
  },
  {
   "cell_type": "code",
   "execution_count": 134,
   "id": "069768f4",
   "metadata": {},
   "outputs": [],
   "source": [
    "probs = []\n",
    "for i,k in df['DELAY3_SUB_CODE'].value_counts().items():\n",
    "    probs.append((i,k/sum(df['DELAY3_SUB_CODE'].value_counts())))"
   ]
  },
  {
   "cell_type": "code",
   "execution_count": 135,
   "id": "746cbf5b",
   "metadata": {},
   "outputs": [],
   "source": [
    "probs10 = sorted(probs, key = lambda x: x[1], reverse = True)[:10]"
   ]
  },
  {
   "cell_type": "code",
   "execution_count": 137,
   "id": "6f3575a6",
   "metadata": {},
   "outputs": [
    {
     "data": {
      "text/plain": [
       "89Z    7108\n",
       "89K     306\n",
       "22E     260\n",
       "26C     190\n",
       "26A     145\n",
       "       ... \n",
       "94A       1\n",
       "01B       1\n",
       "26X       1\n",
       "67E       1\n",
       "41O       1\n",
       "Name: DELAY3_SUB_CODE, Length: 231, dtype: int64"
      ]
     },
     "execution_count": 137,
     "metadata": {},
     "output_type": "execute_result"
    }
   ],
   "source": [
    "df['DELAY3_SUB_CODE'].value_counts()"
   ]
  },
  {
   "cell_type": "code",
   "execution_count": 103,
   "id": "0faeba5f",
   "metadata": {},
   "outputs": [
    {
     "name": "stderr",
     "output_type": "stream",
     "text": [
      "<ipython-input-103-f3733dce3f95>:6: MatplotlibDeprecationWarning: Case-insensitive properties were deprecated in 3.3 and support will be removed two minor releases later\n",
      "  plt.text(i, round(y[i],2),round(y[i],2), ha = 'center',\n"
     ]
    },
    {
     "data": {
      "image/png": "[encoded data removed]",
      "text/plain": [
       "<Figure size 1000x500 with 1 Axes>"
      ]
     },
     "metadata": {
      "needs_background": "light"
     },
     "output_type": "display_data"
    }
   ],
   "source": [
    "%matplotlib inline\n",
    "plt.rcParams.update({'figure.figsize':(9,5), 'figure.dpi':100})\n",
    "\n",
    "def addlabels(x,y):\n",
    "    for i in range(len(x)):\n",
    "        plt.text(i, round(y[i],2),round(y[i],2), ha = 'center',\n",
    "                 Bbox = dict(facecolor = 'white', alpha = .5))\n",
    "\n",
    "        \n",
    "        \n",
    "if __name__ == '__main__':\n",
    "    \n",
    "    # creating data on which bar chart will be plot\n",
    "    x = pd.DataFrame(probs10)[0]\n",
    "    y = pd.DataFrame(probs10)[1]\n",
    "      \n",
    "    # setting figure size by using figure() function \n",
    "    plt.figure(figsize = (10,5))\n",
    "    \n",
    "    # making the bar chart on the data with color red\n",
    "    plt.bar(x, y, color = 'yellowgreen')\n",
    "      \n",
    "    # calling the function to add value labels\n",
    "    addlabels(x, y)\n",
    "      \n",
    "    # giving title to the plot\n",
    "    plt.title(\"Percentages of Delay Codes\")\n",
    "      \n",
    "    # giving X and Y labels\n",
    "    plt.xlabel(\"Percentages\")\n",
    "    plt.ylabel(\"Delay Codes\")\n",
    "      \n",
    "    # visualizing the plot\n",
    "    plt.show()"
   ]
  },
  {
   "cell_type": "code",
   "execution_count": 106,
   "id": "024953cf",
   "metadata": {},
   "outputs": [],
   "source": [
    "delaycodesofflight = [('DELAY1_SUB_CODE',sum(df['DELAY1_SUB_CODE'].value_counts())),('DELAY2_SUB_CODE',sum(df['DELAY2_SUB_CODE'].value_counts())),\n",
    "                      ('DELAY3_SUB_CODE',sum(df['DELAY3_SUB_CODE'].value_counts())),('DELAY4_SUB_CODE',sum(df['DELAY4_SUB_CODE'].value_counts()))]"
   ]
  },
  {
   "cell_type": "code",
   "execution_count": 116,
   "id": "791b4cb1",
   "metadata": {},
   "outputs": [
    {
     "data": {
      "text/plain": [
       "111028"
      ]
     },
     "execution_count": 116,
     "metadata": {},
     "output_type": "execute_result"
    }
   ],
   "source": [
    "sum(pd.DataFrame(delaycodesofflight)[1])"
   ]
  },
  {
   "cell_type": "code",
   "execution_count": 46,
   "id": "c876c64d",
   "metadata": {},
   "outputs": [
    {
     "name": "stderr",
     "output_type": "stream",
     "text": [
      "<ipython-input-46-02c3db920036>:6: MatplotlibDeprecationWarning: Case-insensitive properties were deprecated in 3.3 and support will be removed two minor releases later\n",
      "  plt.text(i, round(y[i],2),round(y[i],2), ha = 'center',\n"
     ]
    },
    {
     "data": {
      "image/png": "[encoded data removed]",
      "text/plain": [
       "<Figure size 800x400 with 1 Axes>"
      ]
     },
     "metadata": {
      "needs_background": "light"
     },
     "output_type": "display_data"
    }
   ],
   "source": [
    "%matplotlib inline\n",
    "plt.rcParams.update({'figure.figsize':(9,5), 'figure.dpi':100})\n",
    "\n",
    "def addlabels(x,y):\n",
    "    for i in range(len(x)):\n",
    "        plt.text(i, round(y[i],2),round(y[i],2), ha = 'center',\n",
    "                 Bbox = dict(facecolor = 'white', alpha = .5))\n",
    "\n",
    "        \n",
    "        \n",
    "if __name__ == '__main__':\n",
    "    \n",
    "    # creating data on which bar chart will be plot\n",
    "    x = pd.DataFrame(delaycodesofflight)[0]\n",
    "    y = pd.DataFrame(delaycodesofflight)[1]\n",
    "      \n",
    "    # setting figure size by using figure() function \n",
    "    plt.figure(figsize = (8,4))\n",
    "    \n",
    "    # making the bar chart on the data with color red\n",
    "    plt.bar(x, y, width=0.4, color = 'indianred')\n",
    "      \n",
    "    # calling the function to add value labels\n",
    "    addlabels(x, y)\n",
    "      \n",
    "    # giving title to the plot\n",
    "    plt.title(\"Delay Codes\")\n",
    "      \n",
    "    # giving X and Y labels\n",
    "    plt.xlabel(\"Delay Codes\")\n",
    "    plt.ylabel(\"Number of Each Delay Code\")\n",
    "      \n",
    "    # visualizing the plot\n",
    "    plt.show()"
   ]
  },
  {
   "cell_type": "code",
   "execution_count": 95,
   "id": "659d35cf",
   "metadata": {},
   "outputs": [],
   "source": [
    "d1 = pd.DataFrame(df[df['DELAY1_SUB_CODE']=='93Z']['DELAY1_DURATION']).rename(columns = {'DELAY1_DURATION': 'Delay Duration'})\n",
    "d2 = pd.DataFrame(df[df['DELAY2_SUB_CODE']=='93Z']['DELAY2_DURATION']).rename(columns = {'DELAY2_DURATION': 'Delay Duration'})\n",
    "d3 = pd.DataFrame(df[df['DELAY3_SUB_CODE']=='93Z']['DELAY3_DURATION']).rename(columns = {'DELAY3_DURATION': 'Delay Duration'})\n",
    "d4 = pd.DataFrame(df[df['DELAY4_SUB_CODE']=='93Z']['DELAY4_DURATION']).rename(columns = {'DELAY4_DURATION': 'Delay Duration'})\n",
    "d93z = pd.concat([d1,d2,d3,d4], axis=0)"
   ]
  },
  {
   "cell_type": "code",
   "execution_count": 102,
   "id": "e856df11",
   "metadata": {},
   "outputs": [
    {
     "data": {
      "image/png": "[encoded data removed]",
      "text/plain": [
       "<Figure size 900x500 with 1 Axes>"
      ]
     },
     "metadata": {
      "needs_background": "light"
     },
     "output_type": "display_data"
    }
   ],
   "source": [
    "ax = sns.boxplot(x=\"Delay Duration\",  data=d93z)"
   ]
  },
  {
   "cell_type": "code",
   "execution_count": 154,
   "id": "f910fc1a",
   "metadata": {},
   "outputs": [],
   "source": [
    "dcodecols = ['DELAY1_SUB_CODE','DELAY2_SUB_CODE','DELAY3_SUB_CODE','DELAY4_SUB_CODE']\n",
    "dduration = ['DELAY1_DURATION','DELAY2_DURATION','DELAY3_DURATION','DELAY4_DURATION']\n",
    "dcodenames = pd.DataFrame(probs10)[0]\n",
    "delay = []\n",
    "for i in dcodenames:\n",
    "    delay1 = pd.DataFrame(df[df['DELAY1_SUB_CODE']==i]['DELAY1_DURATION']).rename(columns = {'DELAY1_DURATION': 'Delay Duration'})\n",
    "    delay2 = pd.DataFrame(df[df['DELAY2_SUB_CODE']==i]['DELAY2_DURATION']).rename(columns = {'DELAY2_DURATION': 'Delay Duration'})\n",
    "    delay3 = pd.DataFrame(df[df['DELAY3_SUB_CODE']==i]['DELAY3_DURATION']).rename(columns = {'DELAY3_DURATION': 'Delay Duration'})\n",
    "    delay4 = pd.DataFrame(df[df['DELAY4_SUB_CODE']==i]['DELAY4_DURATION']).rename(columns = {'DELAY4_DURATION': 'Delay Duration'})\n",
    "    concat = pd.concat([delay1,delay2,delay3,delay4], axis=0)\n",
    "    delay.append(concat)\n",
    "    "
   ]
  },
  {
   "cell_type": "code",
   "execution_count": 182,
   "id": "a9bbd6bf",
   "metadata": {},
   "outputs": [],
   "source": [
    "countdelay = []\n",
    "for i in range(10):\n",
    "    countdelay.append(delay[i].count().values[0])"
   ]
  },
  {
   "cell_type": "code",
   "execution_count": 183,
   "id": "53afd650",
   "metadata": {},
   "outputs": [],
   "source": [
    "listdelaycodes = []\n",
    "for i,j in zip(dcodenames, countdelay):\n",
    "    listdelaycodes.append((i,j))"
   ]
  },
  {
   "cell_type": "code",
   "execution_count": 188,
   "id": "bea86a03",
   "metadata": {},
   "outputs": [],
   "source": [
    "def take_second(elem):\n",
    "    return elem[1]\n",
    "listdelaycodes = sorted(listdelaycodes, key= take_second, reverse=True)"
   ]
  },
  {
   "cell_type": "code",
   "execution_count": 195,
   "id": "52b8dbe2",
   "metadata": {
    "scrolled": false
   },
   "outputs": [
    {
     "name": "stderr",
     "output_type": "stream",
     "text": [
      "<ipython-input-195-289712a62129>:6: MatplotlibDeprecationWarning: Case-insensitive properties were deprecated in 3.3 and support will be removed two minor releases later\n",
      "  plt.text(i, round(y[i],2),round(y[i],2), ha = 'center',\n"
     ]
    },
    {
     "data": {
      "image/png": "[encoded data removed]",
      "text/plain": [
       "<Figure size 800x400 with 1 Axes>"
      ]
     },
     "metadata": {
      "needs_background": "light"
     },
     "output_type": "display_data"
    }
   ],
   "source": [
    "%matplotlib inline\n",
    "plt.rcParams.update({'figure.figsize':(9,5), 'figure.dpi':100})\n",
    "\n",
    "def addlabels(x,y):\n",
    "    for i in range(len(x)):\n",
    "        plt.text(i, round(y[i],2),round(y[i],2), ha = 'center',\n",
    "                 Bbox = dict(facecolor = 'white', alpha = .5))\n",
    "\n",
    "        \n",
    "        \n",
    "if __name__ == '__main__':\n",
    "    \n",
    "    # creating data on which bar chart will be plot\n",
    "    x = pd.DataFrame(listdelaycodes)[0]\n",
    "    y = pd.DataFrame(listdelaycodes)[1]\n",
    "      \n",
    "    # setting figure size by using figure() function \n",
    "    plt.figure(figsize = (8,4))\n",
    "    \n",
    "    # making the bar chart on the data with color red\n",
    "    plt.bar(x, y, width=0.6, color = 'indianred')\n",
    "      \n",
    "    # calling the function to add value labels\n",
    "    addlabels(x, y)\n",
    "      \n",
    "    # giving title to the plot\n",
    "    plt.title(\"Delay Codes Count\")\n",
    "      \n",
    "    # giving X and Y labels\n",
    "    plt.xlabel(\"Delay Codes\")\n",
    "    plt.ylabel(\"Number of Each Delay Code in Total\")\n",
    "      \n",
    "    # visualizing the plot\n",
    "    plt.show()"
   ]
  },
  {
   "cell_type": "markdown",
   "id": "12360828",
   "metadata": {},
   "source": [
    "When delay subcodes are checked, we can see that numbers of 93Z and 89Z codes are very close. In DELAY1_SUB_CODE, 93Z is the majority. In the rest, 89Z is the majority."
   ]
  },
  {
   "cell_type": "markdown",
   "id": "b7e2b58d",
   "metadata": {},
   "source": [
    "We applied multi label classification to be able to find the delay codes of a delay. Hpwever, results are not satisfyting. Thus, we approach them from a descriptive statistics point of view. "
   ]
  },
  {
   "cell_type": "code",
   "execution_count": 6,
   "id": "chemical-stability",
   "metadata": {
    "scrolled": false
   },
   "outputs": [
    {
     "name": "stdout",
     "output_type": "stream",
     "text": [
      "Couldn't find program: 'False'\n"
     ]
    }
   ],
   "source": [
    "%%script False\n",
    "profile = ProfileReport(df, title=\"Pandas Profiling Report\", explorative=True)\n",
    "profile"
   ]
  },
  {
   "cell_type": "code",
   "execution_count": 7,
   "id": "voluntary-raising",
   "metadata": {
    "scrolled": false
   },
   "outputs": [
    {
     "data": {
      "text/plain": [
       "<AxesSubplot:>"
      ]
     },
     "execution_count": 7,
     "metadata": {},
     "output_type": "execute_result"
    },
    {
     "data": {
      "image/png": "[encoded data removed]",
      "text/plain": [
       "<Figure size 1800x720 with 2 Axes>"
      ]
     },
     "metadata": {
      "needs_background": "light"
     },
     "output_type": "display_data"
    }
   ],
   "source": [
    "# missing values\n",
    "msgn.matrix(df, color=(0.45, 0.15, 0.25))"
   ]
  },
  {
   "cell_type": "code",
   "execution_count": 9,
   "id": "sublime-livestock",
   "metadata": {
    "scrolled": false
   },
   "outputs": [
    {
     "data": {
      "image/png": "[encoded data removed]",
      "text/plain": [
       "<Figure size 576x360 with 2 Axes>"
      ]
     },
     "metadata": {
      "needs_background": "light"
     },
     "output_type": "display_data"
    }
   ],
   "source": [
    "# correlation matrix\n",
    "matrix = df.corr().abs()\n",
    "\n",
    "# Create a mask\n",
    "mask = np.triu(np.ones_like(matrix, dtype=bool))\n",
    "\n",
    "# Create a custom diverging palette\n",
    "cmap = sns.diverging_palette(250, 15, s=75, l=40, n=9, center=\"light\", as_cmap=True)\n",
    "plt.figure(figsize=(8, 5))\n",
    "sns.heatmap(matrix[matrix>0.5], mask=mask, center=0, annot=True, fmt='.2f', square=True, cmap='Dark2_r')\n",
    "\n",
    "plt.show();"
   ]
  },
  {
   "cell_type": "code",
   "execution_count": 10,
   "id": "regular-nature",
   "metadata": {},
   "outputs": [
    {
     "name": "stdout",
     "output_type": "stream",
     "text": [
      "interval columns not set, guessing: ['LEG_DEP_GMT_DT', 'LEG_DEP_GMT_TM', 'LEG_ARR_GMT_DT', 'LEG_ARR_GMT_TM', 'DELAY1_DURATION', 'DELAY2_DURATION', 'DELAY3_DURATION', 'DELAY4_DURATION', 'TOT_DELAY_DURATION']\n"
     ]
    },
    {
     "data": {
      "image/png": "[encoded data removed]",
      "text/plain": [
       "<Figure size 1296x864 with 2 Axes>"
      ]
     },
     "metadata": {
      "needs_background": "light"
     },
     "output_type": "display_data"
    }
   ],
   "source": [
    "# phi correlation\n",
    "# source: https://en.wikipedia.org/wiki/Phi_coefficient\n",
    "\n",
    "phik_overview = df.drop('FLT_NO', axis=1).phik_matrix()\n",
    "\n",
    "matrix = phik_overview.abs()\n",
    "\n",
    "# Create a mask\n",
    "mask = np.triu(np.ones_like(matrix, dtype=bool))\n",
    "\n",
    "# Create a custom diverging palette\n",
    "cmap = sns.diverging_palette(250, 15, s=75, l=40, n=9, center=\"light\", as_cmap=True)\n",
    "plt.figure(figsize=(18, 12))\n",
    "sns.heatmap(matrix[matrix>0.5], mask=mask, center=0, annot=True, fmt='.2f', square=True, cmap='Dark2_r')\n",
    "\n",
    "plt.show();"
   ]
  },
  {
   "cell_type": "code",
   "execution_count": 11,
   "id": "vocal-planet",
   "metadata": {},
   "outputs": [
    {
     "data": {
      "text/plain": [
       "(99546, 28)"
      ]
     },
     "execution_count": 11,
     "metadata": {},
     "output_type": "execute_result"
    }
   ],
   "source": [
    "df.drop_duplicates().shape"
   ]
  },
  {
   "cell_type": "code",
   "execution_count": 12,
   "id": "mediterranean-marker",
   "metadata": {},
   "outputs": [
    {
     "data": {
      "text/html": [
       "<div>\n",
       "<style scoped>\n",
       "    .dataframe tbody tr th:only-of-type {\n",
       "        vertical-align: middle;\n",
       "    }\n",
       "\n",
       "    .dataframe tbody tr th {\n",
       "        vertical-align: top;\n",
       "    }\n",
       "\n",
       "    .dataframe thead th {\n",
       "        text-align: right;\n",
       "    }\n",
       "</style>\n",
       "<table border=\"1\" class=\"dataframe\">\n",
       "  <thead>\n",
       "    <tr style=\"text-align: right;\">\n",
       "      <th></th>\n",
       "      <th>FLT_NO</th>\n",
       "      <th>ACT_CUS_FLE</th>\n",
       "      <th>FLEET</th>\n",
       "      <th>FLEET_FAM</th>\n",
       "      <th>FLEET_FAM_GRP</th>\n",
       "      <th>FLEET_BODY_TYP</th>\n",
       "      <th>FLT_TYP</th>\n",
       "      <th>LEG_DEP_AP</th>\n",
       "      <th>LEG_DEP_GMT_DT</th>\n",
       "      <th>LEG_DEP_GMT_TM</th>\n",
       "      <th>...</th>\n",
       "      <th>DELAY2_SUB_CODE</th>\n",
       "      <th>DELAY3_SUB_CODE</th>\n",
       "      <th>DELAY4_SUB_CODE</th>\n",
       "      <th>DELAY_ROOT_ARR_AP</th>\n",
       "      <th>DELAY_ROOT_DEP_AP</th>\n",
       "      <th>DELAY1_DURATION</th>\n",
       "      <th>DELAY2_DURATION</th>\n",
       "      <th>DELAY3_DURATION</th>\n",
       "      <th>DELAY4_DURATION</th>\n",
       "      <th>TOT_DELAY_DURATION</th>\n",
       "    </tr>\n",
       "  </thead>\n",
       "  <tbody>\n",
       "    <tr>\n",
       "      <th>0</th>\n",
       "      <td>FL7064</td>\n",
       "      <td>FL-45X</td>\n",
       "      <td>TX750-30</td>\n",
       "      <td>TX750</td>\n",
       "      <td>TX750</td>\n",
       "      <td>B1</td>\n",
       "      <td>TYP1</td>\n",
       "      <td>IST</td>\n",
       "      <td>20210509</td>\n",
       "      <td>1205</td>\n",
       "      <td>...</td>\n",
       "      <td>NaN</td>\n",
       "      <td>NaN</td>\n",
       "      <td>NaN</td>\n",
       "      <td>?</td>\n",
       "      <td>?</td>\n",
       "      <td>0</td>\n",
       "      <td>0</td>\n",
       "      <td>0</td>\n",
       "      <td>0</td>\n",
       "      <td>0</td>\n",
       "    </tr>\n",
       "    <tr>\n",
       "      <th>1</th>\n",
       "      <td>FL7064</td>\n",
       "      <td>FL-45X</td>\n",
       "      <td>TX750-30</td>\n",
       "      <td>TX750</td>\n",
       "      <td>TX750</td>\n",
       "      <td>B1</td>\n",
       "      <td>TYP1</td>\n",
       "      <td>IST</td>\n",
       "      <td>20210512</td>\n",
       "      <td>1526</td>\n",
       "      <td>...</td>\n",
       "      <td>NaN</td>\n",
       "      <td>NaN</td>\n",
       "      <td>NaN</td>\n",
       "      <td>?</td>\n",
       "      <td>?</td>\n",
       "      <td>0</td>\n",
       "      <td>0</td>\n",
       "      <td>0</td>\n",
       "      <td>0</td>\n",
       "      <td>0</td>\n",
       "    </tr>\n",
       "  </tbody>\n",
       "</table>\n",
       "<p>2 rows × 28 columns</p>\n",
       "</div>"
      ],
      "text/plain": [
       "   FLT_NO ACT_CUS_FLE     FLEET FLEET_FAM FLEET_FAM_GRP FLEET_BODY_TYP  \\\n",
       "0  FL7064      FL-45X  TX750-30     TX750         TX750             B1   \n",
       "1  FL7064      FL-45X  TX750-30     TX750         TX750             B1   \n",
       "\n",
       "  FLT_TYP LEG_DEP_AP  LEG_DEP_GMT_DT  LEG_DEP_GMT_TM  ... DELAY2_SUB_CODE  \\\n",
       "0    TYP1        IST        20210509            1205  ...             NaN   \n",
       "1    TYP1        IST        20210512            1526  ...             NaN   \n",
       "\n",
       "  DELAY3_SUB_CODE DELAY4_SUB_CODE  DELAY_ROOT_ARR_AP  DELAY_ROOT_DEP_AP  \\\n",
       "0             NaN             NaN                  ?                  ?   \n",
       "1             NaN             NaN                  ?                  ?   \n",
       "\n",
       "  DELAY1_DURATION DELAY2_DURATION DELAY3_DURATION DELAY4_DURATION  \\\n",
       "0               0               0               0               0   \n",
       "1               0               0               0               0   \n",
       "\n",
       "  TOT_DELAY_DURATION  \n",
       "0                  0  \n",
       "1                  0  \n",
       "\n",
       "[2 rows x 28 columns]"
      ]
     },
     "execution_count": 12,
     "metadata": {},
     "output_type": "execute_result"
    }
   ],
   "source": [
    "df.head(2)"
   ]
  },
  {
   "cell_type": "markdown",
   "id": "expanded-afternoon",
   "metadata": {},
   "source": [
    "## feature engineering"
   ]
  },
  {
   "cell_type": "markdown",
   "id": "serious-politics",
   "metadata": {},
   "source": [
    "#### helper functions"
   ]
  },
  {
   "cell_type": "code",
   "execution_count": 3,
   "id": "adequate-corruption",
   "metadata": {},
   "outputs": [],
   "source": [
    "def convert_date(x):\n",
    "    if x != 0:\n",
    "        return datetime.strptime(str(int(x)) , '%Y%m%d').strftime('%Y-%m-%d')\n",
    "    else:\n",
    "        return x"
   ]
  },
  {
   "cell_type": "code",
   "execution_count": 4,
   "id": "negative-stretch",
   "metadata": {},
   "outputs": [],
   "source": [
    "convert_hours = lambda x: datetime(1900, 1, 1, int(x)//100, int(x)%100)"
   ]
  },
  {
   "cell_type": "code",
   "execution_count": 5,
   "id": "asian-coordinate",
   "metadata": {},
   "outputs": [],
   "source": [
    "find_hour_difference = lambda x,y : (convert_hours(x)-convert_hours(y)).total_seconds()/60 if not pd.isna(y) else np.nan"
   ]
  },
  {
   "cell_type": "code",
   "execution_count": 6,
   "id": "young-preference",
   "metadata": {},
   "outputs": [],
   "source": [
    "convert_to_timedelta = lambda x: timedelta(hours=int(x)//60, minutes=int(x)%60)"
   ]
  },
  {
   "cell_type": "code",
   "execution_count": 7,
   "id": "intended-background",
   "metadata": {},
   "outputs": [],
   "source": [
    "convert_time_to_interval = lambda x: 2*x.hour + (x.minute>30)"
   ]
  },
  {
   "cell_type": "code",
   "execution_count": 8,
   "id": "nonprofit-leadership",
   "metadata": {},
   "outputs": [],
   "source": [
    "df['LEG_DEP_GMT_DT'] = df['LEG_DEP_GMT_DT'].apply(convert_date)\n",
    "df['LEG_ARR_GMT_DT'] = df['LEG_ARR_GMT_DT'].apply(convert_date)"
   ]
  },
  {
   "cell_type": "code",
   "execution_count": 9,
   "id": "equipped-doubt",
   "metadata": {},
   "outputs": [],
   "source": [
    "df['flight_duration_day'] = (pd.to_datetime(df['LEG_ARR_GMT_DT']) - pd.to_datetime(df['LEG_DEP_GMT_DT'])).apply(lambda x: x.days)\n",
    "df['flight_duration_min'] = df[['LEG_ARR_GMT_TM', 'LEG_DEP_GMT_TM']].apply(lambda x: find_hour_difference(*x), axis=1)"
   ]
  },
  {
   "cell_type": "code",
   "execution_count": 10,
   "id": "revolutionary-request",
   "metadata": {},
   "outputs": [],
   "source": [
    "df['flight_duration'] = df['flight_duration_min'] + df['flight_duration_day']*1440"
   ]
  },
  {
   "cell_type": "code",
   "execution_count": 11,
   "id": "temporal-flesh",
   "metadata": {},
   "outputs": [],
   "source": [
    "df['arr_month'] = pd.to_datetime(df['LEG_ARR_GMT_DT']).dt.month\n",
    "df['arr_weekday'] = pd.to_datetime(df['LEG_ARR_GMT_DT']).dt.weekday\n",
    "df['arr_day'] = pd.to_datetime(df['LEG_ARR_GMT_DT']).dt.day"
   ]
  },
  {
   "cell_type": "code",
   "execution_count": 12,
   "id": "sixth-workstation",
   "metadata": {},
   "outputs": [],
   "source": [
    "df['expected_arrival_interval'] = df['LEG_ARR_GMT_TM'].apply(convert_hours).apply(convert_time_to_interval)\n",
    "df['expected_departure_interval'] = df['LEG_DEP_GMT_TM'].apply(convert_hours).apply(convert_time_to_interval)"
   ]
  },
  {
   "cell_type": "code",
   "execution_count": 13,
   "id": "turkish-technical",
   "metadata": {
    "scrolled": true
   },
   "outputs": [
    {
     "data": {
      "text/plain": [
       "81585   -25756744.0\n",
       "91747       -1239.0\n",
       "81526          -5.0\n",
       "10579          -2.0\n",
       "2470            4.0\n",
       "            ...    \n",
       "49799         920.0\n",
       "49796         922.0\n",
       "49805         929.0\n",
       "48810         935.0\n",
       "48808         936.0\n",
       "Name: flight_duration, Length: 99546, dtype: float64"
      ]
     },
     "execution_count": 13,
     "metadata": {},
     "output_type": "execute_result"
    }
   ],
   "source": [
    "df['flight_duration'].sort_values()"
   ]
  },
  {
   "cell_type": "code",
   "execution_count": 24,
   "id": "demographic-lawsuit",
   "metadata": {},
   "outputs": [
    {
     "data": {
      "text/plain": [
       "FLT_NO                             FL7157\n",
       "ACT_CUS_FLE                        FL-87Z\n",
       "FLEET                           TW650-30Z\n",
       "FLEET_FAM                           TW650\n",
       "FLEET_FAM_GRP                       TW650\n",
       "FLEET_BODY_TYP                         B1\n",
       "FLT_TYP                              TYP1\n",
       "LEG_DEP_AP                            IST\n",
       "LEG_DEP_GMT_DT                 2020-07-13\n",
       "LEG_DEP_GMT_TM                       1411\n",
       "LEG_DEP_CNTRY_COD                      TR\n",
       "LEG_DEP_RGN_COD                        DO\n",
       "LEG_ARR_AP                            IST\n",
       "LEG_ARR_GMT_DT                 2020-07-13\n",
       "LEG_ARR_GMT_TM                       1415\n",
       "LEG_ARR_CNTRY_COD                      TR\n",
       "LEG_ACT_ARR_RGN_COD                    DO\n",
       "DELAY1_SUB_CODE                       62D\n",
       "DELAY2_SUB_CODE                       NaN\n",
       "DELAY3_SUB_CODE                       NaN\n",
       "DELAY4_SUB_CODE                       NaN\n",
       "DELAY_ROOT_ARR_AP                       ?\n",
       "DELAY_ROOT_DEP_AP                       ?\n",
       "DELAY1_DURATION                         6\n",
       "DELAY2_DURATION                         0\n",
       "DELAY3_DURATION                         0\n",
       "DELAY4_DURATION                         0\n",
       "TOT_DELAY_DURATION                      6\n",
       "flight_duration_day                     0\n",
       "flight_duration_min                   4.0\n",
       "flight_duration                       4.0\n",
       "arr_month                               7\n",
       "arr_weekday                             0\n",
       "arr_day                                13\n",
       "expected_arrival_interval              28\n",
       "expected_departure_interval            28\n",
       "Name: 2470, dtype: object"
      ]
     },
     "execution_count": 24,
     "metadata": {},
     "output_type": "execute_result"
    }
   ],
   "source": [
    "# a flight that lasted 4 mins, a potential outlier\n",
    "df.loc[2470]"
   ]
  },
  {
   "cell_type": "code",
   "execution_count": 25,
   "id": "straight-vinyl",
   "metadata": {},
   "outputs": [
    {
     "data": {
      "text/html": [
       "<div>\n",
       "<style scoped>\n",
       "    .dataframe tbody tr th:only-of-type {\n",
       "        vertical-align: middle;\n",
       "    }\n",
       "\n",
       "    .dataframe tbody tr th {\n",
       "        vertical-align: top;\n",
       "    }\n",
       "\n",
       "    .dataframe thead th {\n",
       "        text-align: right;\n",
       "    }\n",
       "</style>\n",
       "<table border=\"1\" class=\"dataframe\">\n",
       "  <thead>\n",
       "    <tr style=\"text-align: right;\">\n",
       "      <th></th>\n",
       "      <th>FLT_NO</th>\n",
       "      <th>ACT_CUS_FLE</th>\n",
       "      <th>FLEET</th>\n",
       "      <th>FLEET_FAM</th>\n",
       "      <th>FLEET_FAM_GRP</th>\n",
       "      <th>FLEET_BODY_TYP</th>\n",
       "      <th>FLT_TYP</th>\n",
       "      <th>LEG_DEP_AP</th>\n",
       "      <th>LEG_DEP_GMT_DT</th>\n",
       "      <th>LEG_DEP_GMT_TM</th>\n",
       "      <th>...</th>\n",
       "      <th>DELAY4_DURATION</th>\n",
       "      <th>TOT_DELAY_DURATION</th>\n",
       "      <th>flight_duration_day</th>\n",
       "      <th>flight_duration_min</th>\n",
       "      <th>flight_duration</th>\n",
       "      <th>arr_month</th>\n",
       "      <th>arr_weekday</th>\n",
       "      <th>arr_day</th>\n",
       "      <th>expected_arrival_interval</th>\n",
       "      <th>expected_departure_interval</th>\n",
       "    </tr>\n",
       "  </thead>\n",
       "  <tbody>\n",
       "    <tr>\n",
       "      <th>265</th>\n",
       "      <td>FL7106</td>\n",
       "      <td>FL-87Z</td>\n",
       "      <td>TW650-30Z</td>\n",
       "      <td>TW650</td>\n",
       "      <td>TW650</td>\n",
       "      <td>B1</td>\n",
       "      <td>TYP1</td>\n",
       "      <td>HKG</td>\n",
       "      <td>2020-09-28</td>\n",
       "      <td>1441</td>\n",
       "      <td>...</td>\n",
       "      <td>0</td>\n",
       "      <td>0</td>\n",
       "      <td>0</td>\n",
       "      <td>40.0</td>\n",
       "      <td>40.0</td>\n",
       "      <td>9</td>\n",
       "      <td>0</td>\n",
       "      <td>28</td>\n",
       "      <td>30</td>\n",
       "      <td>29</td>\n",
       "    </tr>\n",
       "    <tr>\n",
       "      <th>297</th>\n",
       "      <td>FL7107</td>\n",
       "      <td>FL-45X</td>\n",
       "      <td>TX750-30</td>\n",
       "      <td>TX750</td>\n",
       "      <td>TX750</td>\n",
       "      <td>B1</td>\n",
       "      <td>TYP1</td>\n",
       "      <td>IST</td>\n",
       "      <td>2021-04-13</td>\n",
       "      <td>400</td>\n",
       "      <td>...</td>\n",
       "      <td>0</td>\n",
       "      <td>5</td>\n",
       "      <td>0</td>\n",
       "      <td>10.0</td>\n",
       "      <td>10.0</td>\n",
       "      <td>4</td>\n",
       "      <td>1</td>\n",
       "      <td>13</td>\n",
       "      <td>8</td>\n",
       "      <td>8</td>\n",
       "    </tr>\n",
       "    <tr>\n",
       "      <th>313</th>\n",
       "      <td>FL7107</td>\n",
       "      <td>FL-45X</td>\n",
       "      <td>TX750-30</td>\n",
       "      <td>TX750</td>\n",
       "      <td>TX750</td>\n",
       "      <td>B1</td>\n",
       "      <td>TYP1</td>\n",
       "      <td>JNB</td>\n",
       "      <td>2021-06-09</td>\n",
       "      <td>1606</td>\n",
       "      <td>...</td>\n",
       "      <td>0</td>\n",
       "      <td>21</td>\n",
       "      <td>0</td>\n",
       "      <td>56.0</td>\n",
       "      <td>56.0</td>\n",
       "      <td>6</td>\n",
       "      <td>2</td>\n",
       "      <td>9</td>\n",
       "      <td>34</td>\n",
       "      <td>32</td>\n",
       "    </tr>\n",
       "    <tr>\n",
       "      <th>363</th>\n",
       "      <td>FL7107</td>\n",
       "      <td>FL-45T</td>\n",
       "      <td>TX750-30</td>\n",
       "      <td>TX750</td>\n",
       "      <td>TX750</td>\n",
       "      <td>B1</td>\n",
       "      <td>TYP1</td>\n",
       "      <td>IST</td>\n",
       "      <td>2021-04-18</td>\n",
       "      <td>1350</td>\n",
       "      <td>...</td>\n",
       "      <td>0</td>\n",
       "      <td>120</td>\n",
       "      <td>0</td>\n",
       "      <td>32.0</td>\n",
       "      <td>32.0</td>\n",
       "      <td>4</td>\n",
       "      <td>6</td>\n",
       "      <td>18</td>\n",
       "      <td>28</td>\n",
       "      <td>27</td>\n",
       "    </tr>\n",
       "    <tr>\n",
       "      <th>937</th>\n",
       "      <td>FL7121</td>\n",
       "      <td>FL-45T</td>\n",
       "      <td>TX750-30</td>\n",
       "      <td>TX750</td>\n",
       "      <td>TX750</td>\n",
       "      <td>B1</td>\n",
       "      <td>TYP1</td>\n",
       "      <td>IST</td>\n",
       "      <td>2020-08-18</td>\n",
       "      <td>245</td>\n",
       "      <td>...</td>\n",
       "      <td>0</td>\n",
       "      <td>50</td>\n",
       "      <td>0</td>\n",
       "      <td>30.0</td>\n",
       "      <td>30.0</td>\n",
       "      <td>8</td>\n",
       "      <td>1</td>\n",
       "      <td>18</td>\n",
       "      <td>6</td>\n",
       "      <td>5</td>\n",
       "    </tr>\n",
       "    <tr>\n",
       "      <th>...</th>\n",
       "      <td>...</td>\n",
       "      <td>...</td>\n",
       "      <td>...</td>\n",
       "      <td>...</td>\n",
       "      <td>...</td>\n",
       "      <td>...</td>\n",
       "      <td>...</td>\n",
       "      <td>...</td>\n",
       "      <td>...</td>\n",
       "      <td>...</td>\n",
       "      <td>...</td>\n",
       "      <td>...</td>\n",
       "      <td>...</td>\n",
       "      <td>...</td>\n",
       "      <td>...</td>\n",
       "      <td>...</td>\n",
       "      <td>...</td>\n",
       "      <td>...</td>\n",
       "      <td>...</td>\n",
       "      <td>...</td>\n",
       "      <td>...</td>\n",
       "    </tr>\n",
       "    <tr>\n",
       "      <th>98402</th>\n",
       "      <td>FL7842</td>\n",
       "      <td>FL-4SX</td>\n",
       "      <td>TX750-20K</td>\n",
       "      <td>TX750</td>\n",
       "      <td>TX750</td>\n",
       "      <td>B1</td>\n",
       "      <td>TYP2</td>\n",
       "      <td>ALA</td>\n",
       "      <td>2019-04-13</td>\n",
       "      <td>459</td>\n",
       "      <td>...</td>\n",
       "      <td>0</td>\n",
       "      <td>54</td>\n",
       "      <td>0</td>\n",
       "      <td>31.0</td>\n",
       "      <td>31.0</td>\n",
       "      <td>4</td>\n",
       "      <td>5</td>\n",
       "      <td>13</td>\n",
       "      <td>10</td>\n",
       "      <td>9</td>\n",
       "    </tr>\n",
       "    <tr>\n",
       "      <th>98826</th>\n",
       "      <td>FL7844</td>\n",
       "      <td>FL-4RK</td>\n",
       "      <td>TX750-20K</td>\n",
       "      <td>TX750</td>\n",
       "      <td>TX750</td>\n",
       "      <td>B1</td>\n",
       "      <td>TYP2</td>\n",
       "      <td>ALA</td>\n",
       "      <td>2018-11-28</td>\n",
       "      <td>645</td>\n",
       "      <td>...</td>\n",
       "      <td>0</td>\n",
       "      <td>160</td>\n",
       "      <td>0</td>\n",
       "      <td>105.0</td>\n",
       "      <td>105.0</td>\n",
       "      <td>11</td>\n",
       "      <td>2</td>\n",
       "      <td>28</td>\n",
       "      <td>16</td>\n",
       "      <td>13</td>\n",
       "    </tr>\n",
       "    <tr>\n",
       "      <th>98962</th>\n",
       "      <td>FL7844</td>\n",
       "      <td>FL-4SX</td>\n",
       "      <td>TX750-20K</td>\n",
       "      <td>TX750</td>\n",
       "      <td>TX750</td>\n",
       "      <td>B1</td>\n",
       "      <td>TYP2</td>\n",
       "      <td>HKG</td>\n",
       "      <td>2019-09-03</td>\n",
       "      <td>2028</td>\n",
       "      <td>...</td>\n",
       "      <td>0</td>\n",
       "      <td>23</td>\n",
       "      <td>1</td>\n",
       "      <td>-1193.0</td>\n",
       "      <td>247.0</td>\n",
       "      <td>9</td>\n",
       "      <td>2</td>\n",
       "      <td>4</td>\n",
       "      <td>1</td>\n",
       "      <td>40</td>\n",
       "    </tr>\n",
       "    <tr>\n",
       "      <th>99419</th>\n",
       "      <td>FL7846</td>\n",
       "      <td>FL-4SX</td>\n",
       "      <td>TX750-20K</td>\n",
       "      <td>TX750</td>\n",
       "      <td>TX750</td>\n",
       "      <td>B1</td>\n",
       "      <td>TYP2</td>\n",
       "      <td>HKG</td>\n",
       "      <td>2021-03-23</td>\n",
       "      <td>313</td>\n",
       "      <td>...</td>\n",
       "      <td>0</td>\n",
       "      <td>8</td>\n",
       "      <td>0</td>\n",
       "      <td>10.0</td>\n",
       "      <td>10.0</td>\n",
       "      <td>3</td>\n",
       "      <td>1</td>\n",
       "      <td>23</td>\n",
       "      <td>6</td>\n",
       "      <td>6</td>\n",
       "    </tr>\n",
       "    <tr>\n",
       "      <th>99530</th>\n",
       "      <td>FL7848</td>\n",
       "      <td>FL-4SX</td>\n",
       "      <td>TX750-20K</td>\n",
       "      <td>TX750</td>\n",
       "      <td>TX750</td>\n",
       "      <td>B1</td>\n",
       "      <td>TYP2</td>\n",
       "      <td>HKG</td>\n",
       "      <td>2020-12-04</td>\n",
       "      <td>728</td>\n",
       "      <td>...</td>\n",
       "      <td>0</td>\n",
       "      <td>8</td>\n",
       "      <td>0</td>\n",
       "      <td>15.0</td>\n",
       "      <td>15.0</td>\n",
       "      <td>12</td>\n",
       "      <td>4</td>\n",
       "      <td>4</td>\n",
       "      <td>15</td>\n",
       "      <td>14</td>\n",
       "    </tr>\n",
       "  </tbody>\n",
       "</table>\n",
       "<p>341 rows × 36 columns</p>\n",
       "</div>"
      ],
      "text/plain": [
       "       FLT_NO ACT_CUS_FLE      FLEET FLEET_FAM FLEET_FAM_GRP FLEET_BODY_TYP  \\\n",
       "265    FL7106      FL-87Z  TW650-30Z     TW650         TW650             B1   \n",
       "297    FL7107      FL-45X   TX750-30     TX750         TX750             B1   \n",
       "313    FL7107      FL-45X   TX750-30     TX750         TX750             B1   \n",
       "363    FL7107      FL-45T   TX750-30     TX750         TX750             B1   \n",
       "937    FL7121      FL-45T   TX750-30     TX750         TX750             B1   \n",
       "...       ...         ...        ...       ...           ...            ...   \n",
       "98402  FL7842      FL-4SX  TX750-20K     TX750         TX750             B1   \n",
       "98826  FL7844      FL-4RK  TX750-20K     TX750         TX750             B1   \n",
       "98962  FL7844      FL-4SX  TX750-20K     TX750         TX750             B1   \n",
       "99419  FL7846      FL-4SX  TX750-20K     TX750         TX750             B1   \n",
       "99530  FL7848      FL-4SX  TX750-20K     TX750         TX750             B1   \n",
       "\n",
       "      FLT_TYP LEG_DEP_AP LEG_DEP_GMT_DT  LEG_DEP_GMT_TM  ... DELAY4_DURATION  \\\n",
       "265      TYP1        HKG     2020-09-28            1441  ...               0   \n",
       "297      TYP1        IST     2021-04-13             400  ...               0   \n",
       "313      TYP1        JNB     2021-06-09            1606  ...               0   \n",
       "363      TYP1        IST     2021-04-18            1350  ...               0   \n",
       "937      TYP1        IST     2020-08-18             245  ...               0   \n",
       "...       ...        ...            ...             ...  ...             ...   \n",
       "98402    TYP2        ALA     2019-04-13             459  ...               0   \n",
       "98826    TYP2        ALA     2018-11-28             645  ...               0   \n",
       "98962    TYP2        HKG     2019-09-03            2028  ...               0   \n",
       "99419    TYP2        HKG     2021-03-23             313  ...               0   \n",
       "99530    TYP2        HKG     2020-12-04             728  ...               0   \n",
       "\n",
       "      TOT_DELAY_DURATION flight_duration_day flight_duration_min  \\\n",
       "265                    0                   0                40.0   \n",
       "297                    5                   0                10.0   \n",
       "313                   21                   0                56.0   \n",
       "363                  120                   0                32.0   \n",
       "937                   50                   0                30.0   \n",
       "...                  ...                 ...                 ...   \n",
       "98402                 54                   0                31.0   \n",
       "98826                160                   0               105.0   \n",
       "98962                 23                   1             -1193.0   \n",
       "99419                  8                   0                10.0   \n",
       "99530                  8                   0                15.0   \n",
       "\n",
       "       flight_duration arr_month arr_weekday arr_day  \\\n",
       "265               40.0         9           0      28   \n",
       "297               10.0         4           1      13   \n",
       "313               56.0         6           2       9   \n",
       "363               32.0         4           6      18   \n",
       "937               30.0         8           1      18   \n",
       "...                ...       ...         ...     ...   \n",
       "98402             31.0         4           5      13   \n",
       "98826            105.0        11           2      28   \n",
       "98962            247.0         9           2       4   \n",
       "99419             10.0         3           1      23   \n",
       "99530             15.0        12           4       4   \n",
       "\n",
       "      expected_arrival_interval expected_departure_interval  \n",
       "265                          30                          29  \n",
       "297                           8                           8  \n",
       "313                          34                          32  \n",
       "363                          28                          27  \n",
       "937                           6                           5  \n",
       "...                         ...                         ...  \n",
       "98402                        10                           9  \n",
       "98826                        16                          13  \n",
       "98962                         1                          40  \n",
       "99419                         6                           6  \n",
       "99530                        15                          14  \n",
       "\n",
       "[341 rows x 36 columns]"
      ]
     },
     "execution_count": 25,
     "metadata": {},
     "output_type": "execute_result"
    }
   ],
   "source": [
    "df[df['LEG_DEP_AP'] == df['LEG_ARR_AP']]"
   ]
  },
  {
   "cell_type": "code",
   "execution_count": 26,
   "id": "specified-aquatic",
   "metadata": {},
   "outputs": [
    {
     "data": {
      "text/plain": [
       "0          0\n",
       "1          0\n",
       "2          0\n",
       "3          0\n",
       "4          0\n",
       "        ... \n",
       "99541    119\n",
       "99542     56\n",
       "99543     20\n",
       "99544    221\n",
       "99545     45\n",
       "Name: TOT_DELAY_DURATION, Length: 99546, dtype: int64"
      ]
     },
     "execution_count": 26,
     "metadata": {},
     "output_type": "execute_result"
    }
   ],
   "source": [
    "df['TOT_DELAY_DURATION']"
   ]
  },
  {
   "cell_type": "code",
   "execution_count": 27,
   "id": "measured-turkey",
   "metadata": {
    "scrolled": true
   },
   "outputs": [
    {
     "data": {
      "text/plain": [
       "B1    99520\n",
       "B2       26\n",
       "Name: FLEET_BODY_TYP, dtype: int64"
      ]
     },
     "execution_count": 27,
     "metadata": {},
     "output_type": "execute_result"
    }
   ],
   "source": [
    "df['FLEET_BODY_TYP'].value_counts()"
   ]
  },
  {
   "cell_type": "code",
   "execution_count": 28,
   "id": "decreased-heavy",
   "metadata": {},
   "outputs": [
    {
     "data": {
      "text/plain": [
       "TX750-20K     48647\n",
       "TW600-20X     16459\n",
       "TX650-40      11557\n",
       "TW650-30Z      8896\n",
       "TW510-40K      6102\n",
       "TW510-40KX     3285\n",
       "TX750-30       2064\n",
       "TW510-40X      1568\n",
       "TX500-60K       862\n",
       "TW800-9          53\n",
       "TX750-20         16\n",
       "TX750-34         11\n",
       "TW500-80          8\n",
       "TX702-23          7\n",
       "TX702-20          4\n",
       "TW500-90Z         4\n",
       "TX702-27          3\n",
       "Name: FLEET, dtype: int64"
      ]
     },
     "execution_count": 28,
     "metadata": {},
     "output_type": "execute_result"
    }
   ],
   "source": [
    "df['FLEET'].value_counts()"
   ]
  },
  {
   "cell_type": "code",
   "execution_count": 36,
   "id": "terminal-midwest",
   "metadata": {},
   "outputs": [
    {
     "data": {
      "text/plain": [
       "93Z    36277\n",
       "89Z     6702\n",
       "26C     2822\n",
       "22E     1521\n",
       "09C      944\n",
       "       ...  \n",
       "32X        1\n",
       "73B        1\n",
       "17X        1\n",
       "71X        1\n",
       "23X        1\n",
       "Name: DELAY1_SUB_CODE, Length: 353, dtype: int64"
      ]
     },
     "execution_count": 36,
     "metadata": {},
     "output_type": "execute_result"
    }
   ],
   "source": [
    "df['DELAY1_SUB_CODE'].value_counts()"
   ]
  },
  {
   "cell_type": "code",
   "execution_count": 27,
   "id": "broadband-composition",
   "metadata": {},
   "outputs": [],
   "source": [
    "categorical_str = ['ACT_CUS_FLE', 'LEG_DEP_AP', 'LEG_ARR_AP']\n",
    "\n",
    "categorical_int = ['arr_month', 'arr_weekday', 'arr_day', 'expected_arrival_interval','expected_departure_interval']\n",
    "\n",
    "numerical = ['flight_duration']\n",
    "\n",
    "label= ['delayed']\n",
    "\n",
    "drop_cols = ['FLT_NO','TOT_DELAY_DURATION', 'FLT_TYP','LEG_DEP_GMT_DT', 'LEG_DEP_GMT_TM', 'LEG_ARR_GMT_DT',\n",
    "             'LEG_ARR_GMT_TM', 'DELAY1_SUB_CODE', 'DELAY2_SUB_CODE', 'LEG_DEP_CNTRY_COD', 'LEG_DEP_RGN_COD',\n",
    "             'DELAY3_SUB_CODE', 'DELAY4_SUB_CODE', 'DELAY_ROOT_ARR_AP', 'LEG_ARR_CNTRY_COD', 'LEG_ACT_ARR_RGN_COD',\n",
    "             'DELAY1_DURATION', 'DELAY2_DURATION', 'DELAY3_DURATION', 'DELAY4_DURATION',\n",
    "             'DELAY_ROOT_DEP_AP', 'DELAY1_DURATION', 'flight_duration_day', 'flight_duration_min',\n",
    "            'FLEET_FAM', 'FLEET_FAM_GRP', 'FLEET_BODY_TYP', 'FLEET']"
   ]
  },
  {
   "cell_type": "code",
   "execution_count": 38,
   "id": "current-assumption",
   "metadata": {},
   "outputs": [],
   "source": [
    "df = df[categorical_str+categorical_int+numerical+label]"
   ]
  },
  {
   "cell_type": "code",
   "execution_count": 39,
   "id": "minimal-scottish",
   "metadata": {
    "scrolled": true
   },
   "outputs": [
    {
     "data": {
      "text/plain": [
       "Index(['ACT_CUS_FLE', 'LEG_DEP_AP', 'LEG_ARR_AP', 'arr_month', 'arr_weekday',\n",
       "       'arr_day', 'expected_arrival_interval', 'expected_departure_interval',\n",
       "       'flight_duration', 'delayed'],\n",
       "      dtype='object')"
      ]
     },
     "execution_count": 39,
     "metadata": {},
     "output_type": "execute_result"
    }
   ],
   "source": [
    "df.columns"
   ]
  },
  {
   "cell_type": "code",
   "execution_count": 14,
   "id": "9c8a3ad3",
   "metadata": {},
   "outputs": [],
   "source": [
    "sub_df = df.copy()"
   ]
  },
  {
   "cell_type": "code",
   "execution_count": 64,
   "id": "local-behavior",
   "metadata": {},
   "outputs": [
    {
     "name": "stdout",
     "output_type": "stream",
     "text": [
      "Model results:  Pipeline\n",
      "              precision    recall  f1-score   support\n",
      "\n",
      "           0       0.77      0.79      0.78      7207\n",
      "           1       0.78      0.77      0.78      7208\n",
      "\n",
      "    accuracy                           0.78     14415\n",
      "   macro avg       0.78      0.78      0.78     14415\n",
      "weighted avg       0.78      0.78      0.78     14415\n",
      "\n",
      "Confusion matrix:\n"
     ]
    },
    {
     "data": {
      "image/png": "[encoded data removed]",
      "text/plain": [
       "<Figure size 432x288 with 2 Axes>"
      ]
     },
     "metadata": {
      "needs_background": "light"
     },
     "output_type": "display_data"
    }
   ],
   "source": [
    "# balancing data with undersampling\n",
    "size_for_min_label = min(df['delayed'].value_counts())\n",
    "zero_label = df[df['delayed']==0].sample(size_for_min_label)\n",
    "one_label = df[df['delayed']==1].sample(size_for_min_label)\n",
    "\n",
    "df_v2 = pd.concat([zero_label, one_label])\n",
    "\n",
    "y = df_v2['delayed']\n",
    "X = df_v2[categorical_str+categorical_int+numerical]\n",
    "X_train, X_test, y_train, y_test = train_test_split(X, y, stratify=y, test_size=0.2, random_state=1)\n",
    "\n",
    "pipe2 = create_pipeline_rf()\n",
    "\n",
    "pipe2.fit(X_train, y_train)\n",
    "preds = pipe2.predict(X_test)\n",
    "print_metrics(preds, y_test, pipe2)"
   ]
  },
  {
   "cell_type": "code",
   "execution_count": 15,
   "id": "046a44cc",
   "metadata": {},
   "outputs": [],
   "source": [
    "sub_df = df[df['DELAY1_DURATION']>0]"
   ]
  },
  {
   "cell_type": "code",
   "execution_count": 16,
   "id": "a4225aed",
   "metadata": {},
   "outputs": [
    {
     "data": {
      "text/plain": [
       "FLT_NO                             0\n",
       "ACT_CUS_FLE                        0\n",
       "FLEET                              0\n",
       "FLEET_FAM                          0\n",
       "FLEET_FAM_GRP                      0\n",
       "FLEET_BODY_TYP                     0\n",
       "FLT_TYP                            0\n",
       "LEG_DEP_AP                         0\n",
       "LEG_DEP_GMT_DT                     0\n",
       "LEG_DEP_GMT_TM                     0\n",
       "LEG_DEP_CNTRY_COD                 17\n",
       "LEG_DEP_RGN_COD                 2816\n",
       "LEG_ARR_AP                         0\n",
       "LEG_ARR_GMT_DT                     0\n",
       "LEG_ARR_GMT_TM                     0\n",
       "LEG_ARR_CNTRY_COD                 17\n",
       "LEG_ACT_ARR_RGN_COD             2865\n",
       "DELAY1_SUB_CODE                    0\n",
       "DELAY2_SUB_CODE                27452\n",
       "DELAY3_SUB_CODE                53253\n",
       "DELAY4_SUB_CODE                61863\n",
       "DELAY_ROOT_ARR_AP                  0\n",
       "DELAY_ROOT_DEP_AP                  0\n",
       "DELAY1_DURATION                    0\n",
       "DELAY2_DURATION                    0\n",
       "DELAY3_DURATION                    0\n",
       "DELAY4_DURATION                    0\n",
       "TOT_DELAY_DURATION                 0\n",
       "flight_duration_day                0\n",
       "flight_duration_min                0\n",
       "flight_duration                    0\n",
       "arr_month                          0\n",
       "arr_weekday                        0\n",
       "arr_day                            0\n",
       "expected_arrival_interval          0\n",
       "expected_departure_interval        0\n",
       "dtype: int64"
      ]
     },
     "execution_count": 16,
     "metadata": {},
     "output_type": "execute_result"
    }
   ],
   "source": [
    "sub_df.isna().sum()"
   ]
  },
  {
   "cell_type": "code",
   "execution_count": 17,
   "id": "d525d9b0",
   "metadata": {
    "scrolled": true
   },
   "outputs": [
    {
     "name": "stderr",
     "output_type": "stream",
     "text": [
      "C:\\Users\\Salih\\anaconda3\\lib\\site-packages\\pandas\\core\\frame.py:3191: SettingWithCopyWarning: \n",
      "A value is trying to be set on a copy of a slice from a DataFrame.\n",
      "Try using .loc[row_indexer,col_indexer] = value instead\n",
      "\n",
      "See the caveats in the documentation: https://pandas.pydata.org/pandas-docs/stable/user_guide/indexing.html#returning-a-view-versus-a-copy\n",
      "  self[k1] = value[k2]\n"
     ]
    }
   ],
   "source": [
    "sub_df[['DELAY1_SUB_CODE','DELAY2_SUB_CODE','DELAY3_SUB_CODE','DELAY4_SUB_CODE']]=sub_df[['DELAY1_SUB_CODE','DELAY2_SUB_CODE','DELAY3_SUB_CODE','DELAY4_SUB_CODE']].fillna('missing') "
   ]
  },
  {
   "cell_type": "code",
   "execution_count": 18,
   "id": "6c234861",
   "metadata": {},
   "outputs": [],
   "source": [
    "unq_codes = set(list(sub_df['DELAY1_SUB_CODE'].unique()) + list(sub_df['DELAY2_SUB_CODE'].unique()) + list(sub_df['DELAY3_SUB_CODE'].unique()) + list(sub_df['DELAY4_SUB_CODE'].unique()))"
   ]
  },
  {
   "cell_type": "code",
   "execution_count": 19,
   "id": "7fefe13f",
   "metadata": {
    "scrolled": true
   },
   "outputs": [
    {
     "data": {
      "text/plain": [
       "{'01A',\n",
       " '01B',\n",
       " '01C',\n",
       " '01D',\n",
       " '01E',\n",
       " '01X',\n",
       " '01Y',\n",
       " '02A',\n",
       " '02B',\n",
       " '03A',\n",
       " '03B',\n",
       " '04A',\n",
       " '09A',\n",
       " '09B',\n",
       " '09C',\n",
       " '11O',\n",
       " '13M',\n",
       " '14A',\n",
       " '14N',\n",
       " '16A',\n",
       " '16D',\n",
       " '16N',\n",
       " '17A',\n",
       " '17P',\n",
       " '17Q',\n",
       " '17X',\n",
       " '21A',\n",
       " '21C',\n",
       " '21E',\n",
       " '21X',\n",
       " '22A',\n",
       " '22B',\n",
       " '22C',\n",
       " '22D',\n",
       " '22E',\n",
       " '22N',\n",
       " '22O',\n",
       " '22X',\n",
       " '23A',\n",
       " '23B',\n",
       " '23C',\n",
       " '23D',\n",
       " '23E',\n",
       " '23X',\n",
       " '24A',\n",
       " '24B',\n",
       " '24N',\n",
       " '24X',\n",
       " '24Y',\n",
       " '25A',\n",
       " '25B',\n",
       " '25C',\n",
       " '26A',\n",
       " '26C',\n",
       " '26T',\n",
       " '26X',\n",
       " '27A',\n",
       " '27C',\n",
       " '28A',\n",
       " '28B',\n",
       " '28C',\n",
       " '28D',\n",
       " '29A',\n",
       " '29B',\n",
       " '31A',\n",
       " '31B',\n",
       " '31C',\n",
       " '31D',\n",
       " '31E',\n",
       " '31F',\n",
       " '31G',\n",
       " '31H',\n",
       " '31N',\n",
       " '31P',\n",
       " '31S',\n",
       " '31X',\n",
       " '32A',\n",
       " '32B',\n",
       " '32C',\n",
       " '32D',\n",
       " '32E',\n",
       " '32F',\n",
       " '32G',\n",
       " '32M',\n",
       " '32S',\n",
       " '32X',\n",
       " '33A',\n",
       " '33B',\n",
       " '33C',\n",
       " '33D',\n",
       " '33E',\n",
       " '33X',\n",
       " '34B',\n",
       " '34C',\n",
       " '34D',\n",
       " '34E',\n",
       " '34F',\n",
       " '34N',\n",
       " '34X',\n",
       " '35A',\n",
       " '35B',\n",
       " '35D',\n",
       " '35E',\n",
       " '35F',\n",
       " '35G',\n",
       " '35H',\n",
       " '35I',\n",
       " '36A',\n",
       " '36B',\n",
       " '36C',\n",
       " '36D',\n",
       " '36E',\n",
       " '36F',\n",
       " '36G',\n",
       " '36H',\n",
       " '36I',\n",
       " '36J',\n",
       " '36K',\n",
       " '36X',\n",
       " '37C',\n",
       " '37D',\n",
       " '37E',\n",
       " '37G',\n",
       " '38A',\n",
       " '38B',\n",
       " '38C',\n",
       " '39A',\n",
       " '39B',\n",
       " '39C',\n",
       " '39D',\n",
       " '39E',\n",
       " '39F',\n",
       " '39G',\n",
       " '39H',\n",
       " '39X',\n",
       " '41A',\n",
       " '41B',\n",
       " '41C',\n",
       " '41D',\n",
       " '41E',\n",
       " '41N',\n",
       " '41O',\n",
       " '41P',\n",
       " '41Q',\n",
       " '41R',\n",
       " '41S',\n",
       " '41T',\n",
       " '41X',\n",
       " '42A',\n",
       " '42B',\n",
       " '43C',\n",
       " '43N',\n",
       " '43P',\n",
       " '44A',\n",
       " '44C',\n",
       " '45A',\n",
       " '45D',\n",
       " '45N',\n",
       " '46E',\n",
       " '46N',\n",
       " '51A',\n",
       " '51B',\n",
       " '51C',\n",
       " '51D',\n",
       " '51E',\n",
       " '51F',\n",
       " '51H',\n",
       " '51J',\n",
       " '51K',\n",
       " '51N',\n",
       " '51X',\n",
       " '52A',\n",
       " '52B',\n",
       " '52C',\n",
       " '52D',\n",
       " '52F',\n",
       " '52G',\n",
       " '52K',\n",
       " '52N',\n",
       " '52P',\n",
       " '55A',\n",
       " '55B',\n",
       " '55C',\n",
       " '55D',\n",
       " '55E',\n",
       " '55O',\n",
       " '55S',\n",
       " '55U',\n",
       " '56A',\n",
       " '56B',\n",
       " '56D',\n",
       " '56E',\n",
       " '57A',\n",
       " '57B',\n",
       " '57D',\n",
       " '57E',\n",
       " '57F',\n",
       " '57X',\n",
       " '58A',\n",
       " '58B',\n",
       " '58X',\n",
       " '61B',\n",
       " '61D',\n",
       " '61F',\n",
       " '61H',\n",
       " '61I',\n",
       " '61X',\n",
       " '62B',\n",
       " '62D',\n",
       " '62E',\n",
       " '62M',\n",
       " '62N',\n",
       " '62X',\n",
       " '63A',\n",
       " '63B',\n",
       " '63C',\n",
       " '63D',\n",
       " '63F',\n",
       " '63G',\n",
       " '63H',\n",
       " '63J',\n",
       " '63K',\n",
       " '63L',\n",
       " '63M',\n",
       " '63X',\n",
       " '64A',\n",
       " '64B',\n",
       " '64C',\n",
       " '64D',\n",
       " '64E',\n",
       " '64H',\n",
       " '64R',\n",
       " '64X',\n",
       " '65B',\n",
       " '65C',\n",
       " '65D',\n",
       " '65E',\n",
       " '65N',\n",
       " '65O',\n",
       " '65R',\n",
       " '65X',\n",
       " '65Y',\n",
       " '65Z',\n",
       " '66A',\n",
       " '66B',\n",
       " '66D',\n",
       " '66E',\n",
       " '66F',\n",
       " '66G',\n",
       " '66H',\n",
       " '67A',\n",
       " '67B',\n",
       " '67D',\n",
       " '67E',\n",
       " '67R',\n",
       " '68B',\n",
       " '68D',\n",
       " '68E',\n",
       " '68F',\n",
       " '68G',\n",
       " '68N',\n",
       " '68O',\n",
       " '68S',\n",
       " '69A',\n",
       " '71A',\n",
       " '71B',\n",
       " '71R',\n",
       " '71X',\n",
       " '72A',\n",
       " '72B',\n",
       " '72R',\n",
       " '72X',\n",
       " '73A',\n",
       " '73B',\n",
       " '73R',\n",
       " '73Z',\n",
       " '75A',\n",
       " '75B',\n",
       " '75C',\n",
       " '75D',\n",
       " '75F',\n",
       " '75H',\n",
       " '75X',\n",
       " '76A',\n",
       " '76B',\n",
       " '76C',\n",
       " '77A',\n",
       " '77B',\n",
       " '77C',\n",
       " '77X',\n",
       " '81Y',\n",
       " '81Z',\n",
       " '82Q',\n",
       " '82V',\n",
       " '82W',\n",
       " '82X',\n",
       " '82Y',\n",
       " '82Z',\n",
       " '83O',\n",
       " '83R',\n",
       " '83S',\n",
       " '83T',\n",
       " '83U',\n",
       " '83V',\n",
       " '83W',\n",
       " '83X',\n",
       " '83Y',\n",
       " '83Z',\n",
       " '84A',\n",
       " '85A',\n",
       " '85D',\n",
       " '85E',\n",
       " '85F',\n",
       " '85H',\n",
       " '85I',\n",
       " '85P',\n",
       " '85Q',\n",
       " '85S',\n",
       " '85T',\n",
       " '86A',\n",
       " '86B',\n",
       " '86C',\n",
       " '86D',\n",
       " '86F',\n",
       " '86G',\n",
       " '86H',\n",
       " '86J',\n",
       " '86N',\n",
       " '86O',\n",
       " '86X',\n",
       " '87G',\n",
       " '87H',\n",
       " '87I',\n",
       " '87J',\n",
       " '87K',\n",
       " '87R',\n",
       " '87V',\n",
       " '87W',\n",
       " '87X',\n",
       " '87Y',\n",
       " '87Z',\n",
       " '88A',\n",
       " '88B',\n",
       " '88C',\n",
       " '88D',\n",
       " '88E',\n",
       " '88N',\n",
       " '88O',\n",
       " '88P',\n",
       " '88Q',\n",
       " '89G',\n",
       " '89H',\n",
       " '89J',\n",
       " '89K',\n",
       " '89L',\n",
       " '89M',\n",
       " '89N',\n",
       " '89R',\n",
       " '89S',\n",
       " '89T',\n",
       " '89U',\n",
       " '89V',\n",
       " '89W',\n",
       " '89X',\n",
       " '89Y',\n",
       " '89Z',\n",
       " '91N',\n",
       " '91O',\n",
       " '91X',\n",
       " '92B',\n",
       " '92N',\n",
       " '93U',\n",
       " '93V',\n",
       " '93W',\n",
       " '93X',\n",
       " '93Y',\n",
       " '93Z',\n",
       " '94A',\n",
       " '94B',\n",
       " '95A',\n",
       " '95B',\n",
       " '95C',\n",
       " '96A',\n",
       " '96C',\n",
       " '96D',\n",
       " '96E',\n",
       " '96F',\n",
       " '96G',\n",
       " '96H',\n",
       " '96N',\n",
       " '96S',\n",
       " '96T',\n",
       " '96X',\n",
       " '97A',\n",
       " '97D',\n",
       " '97E',\n",
       " '98B',\n",
       " '98D',\n",
       " '98E',\n",
       " '98F',\n",
       " '98L',\n",
       " '98N',\n",
       " '99A',\n",
       " 'missing'}"
      ]
     },
     "execution_count": 19,
     "metadata": {},
     "output_type": "execute_result"
    }
   ],
   "source": [
    "unq_codes"
   ]
  },
  {
   "cell_type": "code",
   "execution_count": 20,
   "id": "c0cd9a94",
   "metadata": {},
   "outputs": [],
   "source": [
    "unq_codes.remove('93Z')\n",
    "unq_codes.remove('89Z')\n",
    "unq_codes.remove('missing')"
   ]
  },
  {
   "cell_type": "code",
   "execution_count": 21,
   "id": "ce4628e7",
   "metadata": {},
   "outputs": [],
   "source": [
    "map_dict = dict(zip(unq_codes, ['Others']*len(unq_codes)))"
   ]
  },
  {
   "cell_type": "code",
   "execution_count": 22,
   "id": "0c52a2b7",
   "metadata": {},
   "outputs": [],
   "source": [
    "sub_df = sub_df[['DELAY1_SUB_CODE','DELAY2_SUB_CODE','DELAY3_SUB_CODE','DELAY4_SUB_CODE']].replace(map_dict)"
   ]
  },
  {
   "cell_type": "code",
   "execution_count": 23,
   "id": "4310bbd5",
   "metadata": {},
   "outputs": [],
   "source": [
    "labelcodes = pd.get_dummies(sub_df['DELAY1_SUB_CODE']) + pd.get_dummies(sub_df['DELAY2_SUB_CODE']) + pd.get_dummies(sub_df['DELAY3_SUB_CODE'])+pd.get_dummies(sub_df['DELAY4_SUB_CODE']) "
   ]
  },
  {
   "cell_type": "code",
   "execution_count": 24,
   "id": "9c448ecc",
   "metadata": {},
   "outputs": [],
   "source": [
    "labelcodes = labelcodes.drop(columns=\"missing\")\n",
    "labelcodes = labelcodes[labelcodes['Others']]"
   ]
  },
  {
   "cell_type": "code",
   "execution_count": 92,
   "id": "815639c9",
   "metadata": {},
   "outputs": [],
   "source": [
    "labelcodes.loc[labelcodes['Others']>1, 'Others']=1"
   ]
  },
  {
   "cell_type": "code",
   "execution_count": 93,
   "id": "f76b7e8f",
   "metadata": {
    "scrolled": false
   },
   "outputs": [
    {
     "data": {
      "text/plain": [
       "Series([], Name: Others, dtype: uint8)"
      ]
     },
     "execution_count": 93,
     "metadata": {},
     "output_type": "execute_result"
    }
   ],
   "source": [
    "labelcodes[labelcodes['Others']>1]['Others']"
   ]
  },
  {
   "cell_type": "code",
   "execution_count": 94,
   "id": "17263e36",
   "metadata": {},
   "outputs": [],
   "source": [
    "sub_df1 = df[categorical_str+categorical_int+numerical]"
   ]
  },
  {
   "cell_type": "code",
   "execution_count": 95,
   "id": "c0962c90",
   "metadata": {
    "scrolled": true
   },
   "outputs": [],
   "source": [
    "sub_df2 = pd.concat([sub_df1,labelcodes], axis=1)"
   ]
  },
  {
   "cell_type": "code",
   "execution_count": 96,
   "id": "be21ea37",
   "metadata": {},
   "outputs": [],
   "source": [
    "sub_df2 = sub_df2[sub_df2['LEG_DEP_AP'] != sub_df2['LEG_ARR_AP']] # flight that have same arrival and departure point\n",
    "sub_df2 = sub_df2[sub_df2['flight_duration']>0]"
   ]
  },
  {
   "cell_type": "code",
   "execution_count": 97,
   "id": "3c1d0641",
   "metadata": {},
   "outputs": [],
   "source": [
    "sub_df3=sub_df2.dropna()"
   ]
  },
  {
   "cell_type": "code",
   "execution_count": 98,
   "id": "bbf0b675",
   "metadata": {},
   "outputs": [],
   "source": [
    "y = sub_df3[['89Z','93Z','Others']]\n",
    "X = sub_df3[categorical_str+categorical_int+numerical]"
   ]
  },
  {
   "cell_type": "code",
   "execution_count": 99,
   "id": "3137080b",
   "metadata": {},
   "outputs": [
    {
     "data": {
      "text/html": [
       "<div>\n",
       "<style scoped>\n",
       "    .dataframe tbody tr th:only-of-type {\n",
       "        vertical-align: middle;\n",
       "    }\n",
       "\n",
       "    .dataframe tbody tr th {\n",
       "        vertical-align: top;\n",
       "    }\n",
       "\n",
       "    .dataframe thead th {\n",
       "        text-align: right;\n",
       "    }\n",
       "</style>\n",
       "<table border=\"1\" class=\"dataframe\">\n",
       "  <thead>\n",
       "    <tr style=\"text-align: right;\">\n",
       "      <th></th>\n",
       "      <th>89Z</th>\n",
       "      <th>93Z</th>\n",
       "      <th>Others</th>\n",
       "    </tr>\n",
       "  </thead>\n",
       "  <tbody>\n",
       "    <tr>\n",
       "      <th>5</th>\n",
       "      <td>0.0</td>\n",
       "      <td>0.0</td>\n",
       "      <td>1.0</td>\n",
       "    </tr>\n",
       "    <tr>\n",
       "      <th>7</th>\n",
       "      <td>1.0</td>\n",
       "      <td>1.0</td>\n",
       "      <td>1.0</td>\n",
       "    </tr>\n",
       "    <tr>\n",
       "      <th>9</th>\n",
       "      <td>1.0</td>\n",
       "      <td>0.0</td>\n",
       "      <td>0.0</td>\n",
       "    </tr>\n",
       "    <tr>\n",
       "      <th>10</th>\n",
       "      <td>1.0</td>\n",
       "      <td>0.0</td>\n",
       "      <td>1.0</td>\n",
       "    </tr>\n",
       "    <tr>\n",
       "      <th>11</th>\n",
       "      <td>1.0</td>\n",
       "      <td>0.0</td>\n",
       "      <td>0.0</td>\n",
       "    </tr>\n",
       "    <tr>\n",
       "      <th>...</th>\n",
       "      <td>...</td>\n",
       "      <td>...</td>\n",
       "      <td>...</td>\n",
       "    </tr>\n",
       "    <tr>\n",
       "      <th>99541</th>\n",
       "      <td>0.0</td>\n",
       "      <td>0.0</td>\n",
       "      <td>1.0</td>\n",
       "    </tr>\n",
       "    <tr>\n",
       "      <th>99542</th>\n",
       "      <td>0.0</td>\n",
       "      <td>0.0</td>\n",
       "      <td>1.0</td>\n",
       "    </tr>\n",
       "    <tr>\n",
       "      <th>99543</th>\n",
       "      <td>0.0</td>\n",
       "      <td>1.0</td>\n",
       "      <td>0.0</td>\n",
       "    </tr>\n",
       "    <tr>\n",
       "      <th>99544</th>\n",
       "      <td>1.0</td>\n",
       "      <td>0.0</td>\n",
       "      <td>1.0</td>\n",
       "    </tr>\n",
       "    <tr>\n",
       "      <th>99545</th>\n",
       "      <td>0.0</td>\n",
       "      <td>1.0</td>\n",
       "      <td>0.0</td>\n",
       "    </tr>\n",
       "  </tbody>\n",
       "</table>\n",
       "<p>63165 rows × 3 columns</p>\n",
       "</div>"
      ],
      "text/plain": [
       "       89Z  93Z  Others\n",
       "5      0.0  0.0     1.0\n",
       "7      1.0  1.0     1.0\n",
       "9      1.0  0.0     0.0\n",
       "10     1.0  0.0     1.0\n",
       "11     1.0  0.0     0.0\n",
       "...    ...  ...     ...\n",
       "99541  0.0  0.0     1.0\n",
       "99542  0.0  0.0     1.0\n",
       "99543  0.0  1.0     0.0\n",
       "99544  1.0  0.0     1.0\n",
       "99545  0.0  1.0     0.0\n",
       "\n",
       "[63165 rows x 3 columns]"
      ]
     },
     "execution_count": 99,
     "metadata": {},
     "output_type": "execute_result"
    }
   ],
   "source": [
    "y"
   ]
  },
  {
   "cell_type": "code",
   "execution_count": 342,
   "id": "accessible-martial",
   "metadata": {},
   "outputs": [],
   "source": [
    "from sklearn.multiclass import OneVsRestClassifier"
   ]
  },
  {
   "cell_type": "code",
   "execution_count": 57,
   "id": "indoor-classroom",
   "metadata": {},
   "outputs": [],
   "source": [
    "from sklearn.multioutput import MultiOutputClassifier"
   ]
  },
  {
   "cell_type": "code",
   "execution_count": 100,
   "id": "3cb0356c",
   "metadata": {},
   "outputs": [
    {
     "name": "stdout",
     "output_type": "stream",
     "text": [
      "training score: 1.000\n",
      "test score: 0.442\n",
      "Wall time: 42.2 s\n"
     ]
    }
   ],
   "source": [
    "%%time\n",
    "numeric_transformer = Pipeline(steps=[\n",
    "    ('imputer', SimpleImputer(strategy='median')),\n",
    "    ('transformer', PowerTransformer(method='box-cox', standardize=False)),\n",
    "    ('scaler', StandardScaler())])\n",
    "\n",
    "categorical_str_transformer = Pipeline(steps=[\n",
    "    ('imputer', SimpleImputer(strategy='constant', fill_value='None')),\n",
    "    ('one-hot', OneHotEncoder(handle_unknown='ignore'))])\n",
    "\n",
    "categorical_int_transformer = Pipeline(steps=[\n",
    "    ('imputer', SimpleImputer(strategy='constant', fill_value=-99)),\n",
    "    ('one-hot', OneHotEncoder(handle_unknown='ignore'))])\n",
    "\n",
    "preprocessor = ColumnTransformer(\n",
    "                                transformers=[\n",
    "                                              ('num', numeric_transformer, numerical),\n",
    "                                              ('cat_str', categorical_str_transformer, categorical_str),\n",
    "                                              ('cat_int', categorical_int_transformer, categorical_int),], \n",
    "                                remainder='passthrough')\n",
    "\n",
    "pipeline = Pipeline(steps=[('preprocessor', preprocessor),\n",
    "                          # ('f_selector', SelectKBest(f_classif, k='all')),\n",
    "                          ('classifier', MultiOutputClassifier(\n",
    "                              RandomForestClassifier(class_weight='balanced',random_state=0, n_jobs=-1)))])\n",
    "\n",
    "X_train, X_test, y_train, y_test = train_test_split(X, y, test_size=0.20, random_state=42)\n",
    "\n",
    "pipeline.fit(X_train, y_train)\n",
    "print(\"training score: %.3f\" % pipeline.score(X_train, y_train))\n",
    "print(\"test score: %.3f\" % pipeline.score(X_test, y_test))"
   ]
  },
  {
   "cell_type": "code",
   "execution_count": 101,
   "id": "9c470e19",
   "metadata": {},
   "outputs": [],
   "source": [
    "from sklearn.metrics import roc_auc_score\n",
    "y_pred = pipeline.predict(X_test)\n",
    "\n",
    "cm_y1 = confusion_matrix(np.array(y_test)[:,0],y_pred[:,0])\n",
    "cm_y2 = confusion_matrix(np.array(y_test)[:,1],y_pred[:,1])\n",
    "cm_y3 = confusion_matrix(np.array(y_test)[:,2],y_pred[:,2])\n",
    " \n",
    "cr_y1 = classification_report(np.array(y_test)[:,0],y_pred[:,0])\n",
    "cr_y2 = classification_report(np.array(y_test)[:,1],y_pred[:,1])\n",
    "cr_y3 = classification_report(np.array(y_test)[:,2],y_pred[:,2])"
   ]
  },
  {
   "cell_type": "code",
   "execution_count": 102,
   "id": "33e3770f",
   "metadata": {},
   "outputs": [
    {
     "name": "stdout",
     "output_type": "stream",
     "text": [
      "              precision    recall  f1-score   support\n",
      "\n",
      "         0.0       0.69      0.76      0.72      5560\n",
      "         1.0       0.80      0.73      0.76      7073\n",
      "\n",
      "    accuracy                           0.74     12633\n",
      "   macro avg       0.74      0.75      0.74     12633\n",
      "weighted avg       0.75      0.74      0.74     12633\n",
      "\n",
      "              precision    recall  f1-score   support\n",
      "\n",
      "         0.0       0.75      0.71      0.73      5203\n",
      "         1.0       0.80      0.84      0.82      7430\n",
      "\n",
      "    accuracy                           0.78     12633\n",
      "   macro avg       0.78      0.77      0.78     12633\n",
      "weighted avg       0.78      0.78      0.78     12633\n",
      "\n",
      "              precision    recall  f1-score   support\n",
      "\n",
      "         0.0       0.70      0.70      0.70      6261\n",
      "         1.0       0.71      0.71      0.71      6372\n",
      "\n",
      "    accuracy                           0.71     12633\n",
      "   macro avg       0.71      0.71      0.71     12633\n",
      "weighted avg       0.71      0.71      0.71     12633\n",
      "\n"
     ]
    }
   ],
   "source": [
    "print(cr_y1)\n",
    "print(cr_y2)\n",
    "print(cr_y3)"
   ]
  },
  {
   "cell_type": "code",
   "execution_count": 103,
   "id": "ade4d7c3",
   "metadata": {},
   "outputs": [
    {
     "name": "stdout",
     "output_type": "stream",
     "text": [
      "[[4253 1307]\n",
      " [1938 5135]]\n",
      "[[3683 1520]\n",
      " [1204 6226]]\n",
      "[[4406 1855]\n",
      " [1858 4514]]\n"
     ]
    }
   ],
   "source": [
    "print(cm_y1)\n",
    "print(cm_y2)\n",
    "print(cm_y3)"
   ]
  },
  {
   "cell_type": "code",
   "execution_count": 104,
   "id": "814b9c0d",
   "metadata": {},
   "outputs": [
    {
     "name": "stdout",
     "output_type": "stream",
     "text": [
      "0.44209609752236206\n"
     ]
    }
   ],
   "source": [
    "print(pipeline.score(X_test, y_test))"
   ]
  }
 ],
 "metadata": {
  "kernelspec": {
   "display_name": "Python 3",
   "language": "python",
   "name": "python3"
  },
  "language_info": {
   "codemirror_mode": {
    "name": "ipython",
    "version": 3
   },
   "file_extension": ".py",
   "mimetype": "text/x-python",
   "name": "python",
   "nbconvert_exporter": "python",
   "pygments_lexer": "ipython3",
   "version": "3.8.5"
  }
 },
 "nbformat": 4,
 "nbformat_minor": 5
}
